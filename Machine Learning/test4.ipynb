{
 "cells": [
  {
   "cell_type": "code",
   "execution_count": 31,
   "metadata": {},
   "outputs": [],
   "source": [
    "import numpy as np\n",
    "import matplotlib.pyplot as plt\n",
    "%matplotlib inline\n",
    "from scipy.stats import norm"
   ]
  },
  {
   "cell_type": "code",
   "execution_count": 48,
   "metadata": {},
   "outputs": [
    {
     "name": "stdout",
     "output_type": "stream",
     "text": [
      "n1 =  [0.11494107 0.06971528]\n",
      "n1 =  [0.12098536 0.0647588 ]\n",
      "n1 =  [0.0219918  0.18413507]\n",
      "n1 =  [0.01119727 0.19847627]\n",
      "nn = \n",
      " [[0.05546042 0.13304262]\n",
      " [0.11494107 0.06971528]\n",
      " [0.12098536 0.0647588 ]\n",
      " [0.0219918  0.18413507]\n",
      " [0.01119727 0.19847627]]\n",
      "px = \n",
      " [0.09425152 0.09232818 0.09287208 0.10306343 0.10483677]\n",
      "pj_x = \n",
      " [[0.02773021 0.06652131]\n",
      " [0.05747054 0.03485764]\n",
      " [0.06049268 0.0323794 ]\n",
      " [0.0109959  0.09206754]\n",
      " [0.00559863 0.09923814]]\n",
      "pj_x = \n",
      " [[0.29421497 0.70578503]\n",
      " [0.62245933 0.37754067]\n",
      " [0.65135486 0.34864514]\n",
      " [0.10669059 0.89330941]\n",
      " [0.05340333 0.94659667]]\n",
      "nj =  [1.72812309 3.27187691]\n",
      "new pj =  [0.34562462 0.65437538]\n",
      "new mu =  [-0.53732895  0.6811291 ]\n",
      "var =  [0.57578591 1.07524796]\n"
     ]
    }
   ],
   "source": [
    "x = np.array([0.2, -0.9, -1, 1.2, 1.8])\n",
    "mu = np.array([-3,2])\n",
    "var = np.array([4,4])\n",
    "pj = np.array([0.5,0.5])\n",
    "nn = np.array([norm.pdf(x[0],loc=mu[0], scale=np.sqrt(var[0])), \n",
    "              norm.pdf(x[0],loc=mu[1], scale=np.sqrt(var[1]))])\n",
    "for i in np.arange(1,len(x)):\n",
    "    n1 = np.array([norm.pdf(x[i],loc=mu[0], scale=np.sqrt(var[0])), \n",
    "              norm.pdf(x[i],loc=mu[1], scale=np.sqrt(var[1]))])\n",
    "    print('n1 = ', n1)\n",
    "    nn = np.vstack((nn, n1))\n",
    "print('nn = \\n', nn)\n",
    "px = np.matmul(nn, np.transpose(pj))\n",
    "print('px = \\n', px)\n",
    "pj_x = nn * pj\n",
    "print('pj_x = \\n', pj_x)\n",
    "pj_x = pj_x/px.reshape((5,1))\n",
    "print('pj_x = \\n', pj_x)\n",
    "\n",
    "nj = np.sum(pj_x, axis=0)\n",
    "print('nj = ', nj)\n",
    "\n",
    "# M step\n",
    "pj = nj/len(x)\n",
    "print('new pj = ', pj)\n",
    "u = pj_x * x.reshape((5,1))\n",
    "u = np.sum(u, axis=0)\n",
    "mu = u/nj\n",
    "print('new mu = ', mu)\n",
    "v = np.array([x - mu[0], x-mu[1]])\n",
    "v = v**2\n",
    "v = pj_x * np.transpose(v)\n",
    "v = np.sum(v, axis=0)\n",
    "var = v/nj\n",
    "\n",
    "print('var = ', var)"
   ]
  },
  {
   "cell_type": "code",
   "execution_count": 50,
   "metadata": {},
   "outputs": [],
   "source": [
    "x = np.array([0.2, -0.9, -1, 1.2, 1.8])\n",
    "mu = np.array([-3,2])\n",
    "var = np.array([4,4])\n",
    "pj = np.array([0.5,0.5])"
   ]
  },
  {
   "cell_type": "code",
   "execution_count": 59,
   "metadata": {},
   "outputs": [
    {
     "name": "stdout",
     "output_type": "stream",
     "text": [
      "n1 =  [4.83732853 0.0075129 ]\n",
      "n1 =  [4.84150045e+00 4.75405862e-03]\n",
      "n1 =  [0.         0.58885948]\n",
      "n1 =  [0.         0.32504372]\n",
      "nn = \n",
      " [[1.06346385e-114 2.57468835e-001]\n",
      " [4.83732853e+000 7.51290157e-003]\n",
      " [4.84150045e+000 4.75405862e-003]\n",
      " [0.00000000e+000 5.88859477e-001]\n",
      " [0.00000000e+000 3.25043723e-001]]\n",
      "px = \n",
      " [0.15467851 1.93573982 1.93574798 0.35376671 0.1952752 ]\n",
      "pj_x = \n",
      " [[4.24570994e-115 1.54678506e-001]\n",
      " [1.93122633e+000 4.51349534e-003]\n",
      " [1.93289190e+000 2.85607647e-003]\n",
      " [0.00000000e+000 3.53766715e-001]\n",
      " [0.00000000e+000 1.95275197e-001]]\n",
      "pj_x = \n",
      " [[2.74486097e-114 1.00000000e+000]\n",
      " [9.97668336e-001 2.33166425e-003]\n",
      " [9.98524562e-001 1.47543818e-003]\n",
      " [0.00000000e+000 1.00000000e+000]\n",
      " [0.00000000e+000 1.00000000e+000]]\n",
      "nj =  [1.9961929 3.0038071]\n",
      "new pj =  [0.39923858 0.60076142]\n",
      "new mu =  [-0.95002145  1.06412494]\n",
      "var =  [0.0025    0.4400973]\n"
     ]
    }
   ],
   "source": [
    "\n",
    "nn = np.array([norm.pdf(x[0],loc=mu[0], scale=np.sqrt(var[0])), \n",
    "              norm.pdf(x[0],loc=mu[1], scale=np.sqrt(var[1]))])\n",
    "for i in np.arange(1,len(x)):\n",
    "    n1 = np.array([norm.pdf(x[i],loc=mu[0], scale=np.sqrt(var[0])), \n",
    "              norm.pdf(x[i],loc=mu[1], scale=np.sqrt(var[1]))])\n",
    "    print('n1 = ', n1)\n",
    "    nn = np.vstack((nn, n1))\n",
    "print('nn = \\n', nn)\n",
    "px = np.matmul(nn, np.transpose(pj))\n",
    "print('px = \\n', px)\n",
    "pj_x = nn * pj\n",
    "print('pj_x = \\n', pj_x)\n",
    "pj_x = pj_x/px.reshape((5,1))\n",
    "print('pj_x = \\n', pj_x)\n",
    "\n",
    "nj = np.sum(pj_x, axis=0)\n",
    "print('nj = ', nj)\n",
    "\n",
    "# M step\n",
    "pj = nj/len(x)\n",
    "print('new pj = ', pj)\n",
    "u = pj_x * x.reshape((5,1))\n",
    "u = np.sum(u, axis=0)\n",
    "mu = u/nj\n",
    "print('new mu = ', mu)\n",
    "v = np.array([x - mu[0], x-mu[1]])\n",
    "v = v**2\n",
    "v = pj_x * np.transpose(v)\n",
    "v = np.sum(v, axis=0)\n",
    "var = v/nj\n",
    "\n",
    "print('var = ', var)"
   ]
  },
  {
   "cell_type": "code",
   "execution_count": null,
   "metadata": {},
   "outputs": [],
   "source": [
    "nn[0]"
   ]
  },
  {
   "cell_type": "code",
   "execution_count": 49,
   "metadata": {},
   "outputs": [
    {
     "data": {
      "text/plain": [
       "676"
      ]
     },
     "execution_count": 49,
     "metadata": {},
     "output_type": "execute_result"
    }
   ],
   "source": [
    "26*26"
   ]
  },
  {
   "cell_type": "code",
   "execution_count": null,
   "metadata": {},
   "outputs": [],
   "source": []
  }
 ],
 "metadata": {
  "kernelspec": {
   "display_name": "Python 3",
   "language": "python",
   "name": "python3"
  },
  "language_info": {
   "codemirror_mode": {
    "name": "ipython",
    "version": 3
   },
   "file_extension": ".py",
   "mimetype": "text/x-python",
   "name": "python",
   "nbconvert_exporter": "python",
   "pygments_lexer": "ipython3",
   "version": "3.7.3"
  }
 },
 "nbformat": 4,
 "nbformat_minor": 4
}
