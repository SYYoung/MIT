{
 "cells": [
  {
   "cell_type": "code",
   "execution_count": 42,
   "metadata": {},
   "outputs": [
    {
     "data": {
      "text/plain": [
       "({'Maggie': 5, 'Jesse': 6, 'Callie': 2, 'Maybel': 3},\n",
       " [('Callie', 2), ('Maybel', 3), ('Maggie', 5), ('Jesse', 6)])"
      ]
     },
     "execution_count": 42,
     "metadata": {},
     "output_type": "execute_result"
    }
   ],
   "source": [
    "cows = {'Maggie':5, 'Jesse':6, 'Callie':2, 'Maybel':3}\n",
    "cows_copy = sorted(cows.items(), key=lambda x:x[1])\n",
    "cows, cows_copy"
   ]
  },
  {
   "cell_type": "code",
   "execution_count": 28,
   "metadata": {},
   "outputs": [],
   "source": [
    "def greedy(myCow, limit):\n",
    "    current = list(myCow)\n",
    "    cargo_list = []\n",
    "    while (len(current) > 0):\n",
    "        ship = []\n",
    "        total = 0\n",
    "        for i in range(len(current)-1, -1, -1):\n",
    "            if (total + current[i][1] <= limit):\n",
    "                ship.append(current[i][0])\n",
    "                total += current[i][1]\n",
    "                del current[i]\n",
    "        print(ship)\n",
    "        cargo_list.append(ship)\n",
    "    print(cargo_list)  "
   ]
  },
  {
   "cell_type": "code",
   "execution_count": 29,
   "metadata": {},
   "outputs": [
    {
     "name": "stdout",
     "output_type": "stream",
     "text": [
      "['Jesse', 'Maybel']\n",
      "['Maggie', 'Callie']\n",
      "[['Jesse', 'Maybel'], ['Maggie', 'Callie']]\n"
     ]
    }
   ],
   "source": [
    "greedy(cows_copy, 10)"
   ]
  },
  {
   "cell_type": "code",
   "execution_count": 43,
   "metadata": {},
   "outputs": [
    {
     "data": {
      "text/plain": [
       "('Jesse', 6)"
      ]
     },
     "execution_count": 43,
     "metadata": {},
     "output_type": "execute_result"
    }
   ],
   "source": [
    "cows_copy[-1]"
   ]
  },
  {
   "cell_type": "code",
   "execution_count": 19,
   "metadata": {},
   "outputs": [
    {
     "name": "stdout",
     "output_type": "stream",
     "text": [
      "Object `del` not found.\n"
     ]
    }
   ],
   "source": []
  },
  {
   "cell_type": "code",
   "execution_count": 44,
   "metadata": {},
   "outputs": [],
   "source": [
    "#From codereview.stackexchange.com                    \n",
    "def partitions(set_):\n",
    "    if not set_:\n",
    "        yield []\n",
    "        return\n",
    "    for i in range(2**len(set_)//2):\n",
    "        parts = [set(), set()]\n",
    "        for item in set_:\n",
    "            parts[i&1].add(item)\n",
    "            i >>= 1\n",
    "        for b in partitions(parts[1]):\n",
    "            yield [parts[0]]+b\n",
    "\n",
    "\n",
    "# This is a helper function that will fetch all of the available \n",
    "# partitions for you to use for your brute force algorithm.\n",
    "def get_partitions(set_):\n",
    "    for partition in partitions(set_):\n",
    "        yield [list(elt) for elt in partition]"
   ]
  },
  {
   "cell_type": "code",
   "execution_count": 51,
   "metadata": {},
   "outputs": [
    {
     "name": "stdout",
     "output_type": "stream",
     "text": [
      "1: [[('Jesse', 6), ('Maybel', 3), ('Callie', 2), ('Maggie', 5)]] 1\n",
      "2: [[('Jesse', 6), ('Maybel', 3), ('Maggie', 5)], [('Callie', 2)]] 2\n",
      "3: [[('Jesse', 6), ('Callie', 2), ('Maggie', 5)], [('Maybel', 3)]] 2\n",
      "4: [[('Jesse', 6), ('Maggie', 5)], [('Maybel', 3), ('Callie', 2)]] 2\n",
      "5: [[('Jesse', 6), ('Maggie', 5)], [('Callie', 2)], [('Maybel', 3)]] 3\n",
      "6: [[('Jesse', 6), ('Maybel', 3), ('Callie', 2)], [('Maggie', 5)]] 2\n",
      "7: [[('Jesse', 6), ('Maybel', 3)], [('Callie', 2), ('Maggie', 5)]] 2\n",
      "8: [[('Jesse', 6), ('Maybel', 3)], [('Maggie', 5)], [('Callie', 2)]] 3\n",
      "9: [[('Jesse', 6), ('Callie', 2)], [('Maybel', 3), ('Maggie', 5)]] 2\n",
      "10: [[('Jesse', 6), ('Callie', 2)], [('Maggie', 5)], [('Maybel', 3)]] 3\n",
      "11: [[('Jesse', 6)], [('Maybel', 3), ('Callie', 2), ('Maggie', 5)]] 2\n",
      "12: [[('Jesse', 6)], [('Callie', 2), ('Maggie', 5)], [('Maybel', 3)]] 3\n",
      "13: [[('Jesse', 6)], [('Maybel', 3), ('Maggie', 5)], [('Callie', 2)]] 3\n",
      "14: [[('Jesse', 6)], [('Maggie', 5)], [('Maybel', 3), ('Callie', 2)]] 3\n",
      "15: [[('Jesse', 6)], [('Maggie', 5)], [('Callie', 2)], [('Maybel', 3)]] 4\n"
     ]
    }
   ],
   "source": [
    "i = 1\n",
    "for item in (get_partitions(cows_copy)):\n",
    "    print(str(i) + ':' ,item , str(len(item)))\n",
    "    i+= 1"
   ]
  },
  {
   "cell_type": "code",
   "execution_count": 40,
   "metadata": {},
   "outputs": [],
   "source": [
    "def brute_force(myCow, limit):\n",
    "    shortest = 1.0e10\n",
    "    for item in get_partitions(cows_copy):\n",
    "        print(item)\n",
    "        # check if the ship exceed the limit\n",
    "        valid = True\n",
    "        i = 0\n",
    "        while valid and (i < len(item)):\n",
    "            total = 0\n",
    "            for j in range(len(item[i])):\n",
    "                if (total + item[i][j][1] <= limit):\n",
    "                    total += item[i][j][1]\n",
    "                else:\n",
    "                    valid = False\n",
    "                    break\n",
    "        if (valid):\n",
    "            if (total < shortest):\n",
    "                cargo_list = list(item)\n",
    "                shortest = total\n",
    "                print(cargo_list)"
   ]
  },
  {
   "cell_type": "code",
   "execution_count": 41,
   "metadata": {},
   "outputs": [
    {
     "name": "stdout",
     "output_type": "stream",
     "text": [
      "[[('Jesse', 6), ('Maybel', 3), ('Callie', 2), ('Maggie', 5)]]\n",
      "[[('Jesse', 6), ('Maybel', 3), ('Maggie', 5)], [('Callie', 2)]]\n",
      "[[('Jesse', 6), ('Callie', 2), ('Maggie', 5)], [('Maybel', 3)]]\n",
      "[[('Jesse', 6), ('Maggie', 5)], [('Maybel', 3), ('Callie', 2)]]\n",
      "[[('Jesse', 6), ('Maggie', 5)], [('Callie', 2)], [('Maybel', 3)]]\n",
      "[[('Jesse', 6), ('Maybel', 3), ('Callie', 2)], [('Maggie', 5)]]\n",
      "[[('Jesse', 6), ('Maybel', 3)], [('Callie', 2), ('Maggie', 5)]]\n"
     ]
    },
    {
     "ename": "KeyboardInterrupt",
     "evalue": "",
     "output_type": "error",
     "traceback": [
      "\u001b[0;31m---------------------------------------------------------------------------\u001b[0m",
      "\u001b[0;31mKeyboardInterrupt\u001b[0m                         Traceback (most recent call last)",
      "\u001b[0;32m<ipython-input-41-5fe8395477d7>\u001b[0m in \u001b[0;36m<module>\u001b[0;34m\u001b[0m\n\u001b[0;32m----> 1\u001b[0;31m \u001b[0mbrute_force\u001b[0m\u001b[0;34m(\u001b[0m\u001b[0mcows_copy\u001b[0m\u001b[0;34m,\u001b[0m \u001b[0;36m10\u001b[0m\u001b[0;34m)\u001b[0m\u001b[0;34m\u001b[0m\u001b[0;34m\u001b[0m\u001b[0m\n\u001b[0m",
      "\u001b[0;32m<ipython-input-40-9af806a0fa12>\u001b[0m in \u001b[0;36mbrute_force\u001b[0;34m(myCow, limit)\u001b[0m\n\u001b[1;32m      8\u001b[0m         \u001b[0;32mwhile\u001b[0m \u001b[0mvalid\u001b[0m \u001b[0;32mand\u001b[0m \u001b[0;34m(\u001b[0m\u001b[0mi\u001b[0m \u001b[0;34m<\u001b[0m \u001b[0mlen\u001b[0m\u001b[0;34m(\u001b[0m\u001b[0mitem\u001b[0m\u001b[0;34m)\u001b[0m\u001b[0;34m)\u001b[0m\u001b[0;34m:\u001b[0m\u001b[0;34m\u001b[0m\u001b[0;34m\u001b[0m\u001b[0m\n\u001b[1;32m      9\u001b[0m             \u001b[0mtotal\u001b[0m \u001b[0;34m=\u001b[0m \u001b[0;36m0\u001b[0m\u001b[0;34m\u001b[0m\u001b[0;34m\u001b[0m\u001b[0m\n\u001b[0;32m---> 10\u001b[0;31m             \u001b[0;32mfor\u001b[0m \u001b[0mj\u001b[0m \u001b[0;32min\u001b[0m \u001b[0mrange\u001b[0m\u001b[0;34m(\u001b[0m\u001b[0mlen\u001b[0m\u001b[0;34m(\u001b[0m\u001b[0mitem\u001b[0m\u001b[0;34m[\u001b[0m\u001b[0mi\u001b[0m\u001b[0;34m]\u001b[0m\u001b[0;34m)\u001b[0m\u001b[0;34m)\u001b[0m\u001b[0;34m:\u001b[0m\u001b[0;34m\u001b[0m\u001b[0;34m\u001b[0m\u001b[0m\n\u001b[0m\u001b[1;32m     11\u001b[0m                 \u001b[0;32mif\u001b[0m \u001b[0;34m(\u001b[0m\u001b[0mtotal\u001b[0m \u001b[0;34m+\u001b[0m \u001b[0mitem\u001b[0m\u001b[0;34m[\u001b[0m\u001b[0mi\u001b[0m\u001b[0;34m]\u001b[0m\u001b[0;34m[\u001b[0m\u001b[0mj\u001b[0m\u001b[0;34m]\u001b[0m\u001b[0;34m[\u001b[0m\u001b[0;36m1\u001b[0m\u001b[0;34m]\u001b[0m \u001b[0;34m<=\u001b[0m \u001b[0mlimit\u001b[0m\u001b[0;34m)\u001b[0m\u001b[0;34m:\u001b[0m\u001b[0;34m\u001b[0m\u001b[0;34m\u001b[0m\u001b[0m\n\u001b[1;32m     12\u001b[0m                     \u001b[0mtotal\u001b[0m \u001b[0;34m+=\u001b[0m \u001b[0mitem\u001b[0m\u001b[0;34m[\u001b[0m\u001b[0mi\u001b[0m\u001b[0;34m]\u001b[0m\u001b[0;34m[\u001b[0m\u001b[0mj\u001b[0m\u001b[0;34m]\u001b[0m\u001b[0;34m[\u001b[0m\u001b[0;36m1\u001b[0m\u001b[0;34m]\u001b[0m\u001b[0;34m\u001b[0m\u001b[0;34m\u001b[0m\u001b[0m\n",
      "\u001b[0;31mKeyboardInterrupt\u001b[0m: "
     ]
    }
   ],
   "source": [
    "brute_force(cows_copy, 10)"
   ]
  },
  {
   "cell_type": "code",
   "execution_count": null,
   "metadata": {},
   "outputs": [],
   "source": []
  }
 ],
 "metadata": {
  "kernelspec": {
   "display_name": "Python 3",
   "language": "python",
   "name": "python3"
  },
  "language_info": {
   "codemirror_mode": {
    "name": "ipython",
    "version": 3
   },
   "file_extension": ".py",
   "mimetype": "text/x-python",
   "name": "python",
   "nbconvert_exporter": "python",
   "pygments_lexer": "ipython3",
   "version": "3.7.3"
  }
 },
 "nbformat": 4,
 "nbformat_minor": 4
}
