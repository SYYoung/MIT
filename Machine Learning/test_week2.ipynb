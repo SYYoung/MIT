{
 "cells": [
  {
   "cell_type": "code",
   "execution_count": 1,
   "metadata": {},
   "outputs": [],
   "source": [
    "import numpy as np\n",
    "import matplotlib.pyplot as plt\n",
    "%matplotlib inline\n",
    "import sklearn"
   ]
  },
  {
   "cell_type": "code",
   "execution_count": 2,
   "metadata": {},
   "outputs": [
    {
     "data": {
      "text/plain": [
       "(array([[ 1,  2,  3],\n",
       "        [ 4,  5,  6],\n",
       "        [ 7,  8,  9],\n",
       "        [10, 11, 12]]),\n",
       " array([ 1, -1,  1, -1]))"
      ]
     },
     "execution_count": 2,
     "metadata": {},
     "output_type": "execute_result"
    }
   ],
   "source": [
    "x = np.array(np.arange(1,13))\n",
    "x = x.reshape(4,3)\n",
    "y = np.array([1,-1,1,-1])\n",
    "x,y"
   ]
  },
  {
   "cell_type": "code",
   "execution_count": 3,
   "metadata": {},
   "outputs": [
    {
     "data": {
      "text/plain": [
       "array([[ 0.24161074, -0.15436242, -0.05033557],\n",
       "       [-0.15436242,  0.33473154, -0.1761745 ],\n",
       "       [-0.05033557, -0.1761745 ,  0.19798658]])"
      ]
     },
     "execution_count": 3,
     "metadata": {},
     "output_type": "execute_result"
    }
   ],
   "source": [
    "factor = 2\n",
    "t1 = np.matmul(np.transpose(x), x) + factor * np.identity(x.shape[1])\n",
    "np.linalg.inv(t1)"
   ]
  },
  {
   "cell_type": "code",
   "execution_count": 4,
   "metadata": {},
   "outputs": [
    {
     "data": {
      "text/plain": [
       "array([[1., 0., 0.],\n",
       "       [0., 1., 0.],\n",
       "       [0., 0., 1.]])"
      ]
     },
     "execution_count": 4,
     "metadata": {},
     "output_type": "execute_result"
    }
   ],
   "source": [
    "np.identity(3)"
   ]
  },
  {
   "cell_type": "code",
   "execution_count": 5,
   "metadata": {},
   "outputs": [],
   "source": [
    "def closed_form(X, Y, lambda_factor):\n",
    "    X_transpose = np.transpose(X)\n",
    "    t1 = np.matmul(X_transpose, X) + lambda_factor * np.identity(X.shape[1])\n",
    "    t2 = np.matmul(np.linalg.inv(t1), X_transpose)\n",
    "    theta = np.matmul(t2, Y)\n",
    "    return theta"
   ]
  },
  {
   "cell_type": "code",
   "execution_count": 6,
   "metadata": {},
   "outputs": [
    {
     "data": {
      "text/plain": [
       "array([-0.22147651, -0.02516779,  0.17114094])"
      ]
     },
     "execution_count": 6,
     "metadata": {},
     "output_type": "execute_result"
    }
   ],
   "source": [
    "theta_1 = closed_form(x, y, 2)\n",
    "theta_1"
   ]
  },
  {
   "cell_type": "code",
   "execution_count": 7,
   "metadata": {},
   "outputs": [],
   "source": [
    "from sklearn.svm import LinearSVC\n",
    "from sklearn.metrics import accuracy_score\n",
    "from sklearn.svm import SVC"
   ]
  },
  {
   "cell_type": "code",
   "execution_count": 8,
   "metadata": {},
   "outputs": [
    {
     "data": {
      "text/plain": [
       "SVC(C=0.1, break_ties=False, cache_size=200, class_weight=None, coef0=0.0,\n",
       "    decision_function_shape='ovr', degree=3, gamma='scale', kernel='linear',\n",
       "    max_iter=-1, probability=False, random_state=0, shrinking=True, tol=0.001,\n",
       "    verbose=False)"
      ]
     },
     "execution_count": 8,
     "metadata": {},
     "output_type": "execute_result"
    }
   ],
   "source": [
    "clf = SVC(kernel=\"linear\", random_state=0, C=0.1)\n",
    "clf.fit(x,y)"
   ]
  },
  {
   "cell_type": "code",
   "execution_count": 9,
   "metadata": {},
   "outputs": [
    {
     "data": {
      "text/plain": [
       "0.5"
      ]
     },
     "execution_count": 9,
     "metadata": {},
     "output_type": "execute_result"
    }
   ],
   "source": [
    "y_pred = clf.predict(x)\n",
    "accuracy_score(y, y_pred)"
   ]
  },
  {
   "cell_type": "code",
   "execution_count": 10,
   "metadata": {},
   "outputs": [
    {
     "data": {
      "text/plain": [
       "0.75"
      ]
     },
     "execution_count": 10,
     "metadata": {},
     "output_type": "execute_result"
    }
   ],
   "source": [
    "clf2 = LinearSVC(random_state=0, C=0.1)\n",
    "clf2.fit(x,y)\n",
    "y_pred2 = clf2.predict(x)\n",
    "accuracy_score(y, y_pred2)"
   ]
  },
  {
   "cell_type": "code",
   "execution_count": 11,
   "metadata": {},
   "outputs": [],
   "source": [
    "#help(LinearSVC)"
   ]
  },
  {
   "cell_type": "code",
   "execution_count": 12,
   "metadata": {},
   "outputs": [
    {
     "name": "stderr",
     "output_type": "stream",
     "text": [
      "/Users/kilingcheung/anaconda3/lib/python3.7/site-packages/sklearn/svm/_base.py:947: ConvergenceWarning: Liblinear failed to converge, increase the number of iterations.\n",
      "  \"the number of iterations.\", ConvergenceWarning)\n"
     ]
    },
    {
     "data": {
      "text/plain": [
       "0.5"
      ]
     },
     "execution_count": 12,
     "metadata": {},
     "output_type": "execute_result"
    }
   ],
   "source": [
    "clf3 = LinearSVC(random_state=0, multi_class='ovr')\n",
    "clf3.fit(x,y)\n",
    "y_pred3 = clf3.predict(x)\n",
    "accuracy_score(y, y_pred3)"
   ]
  },
  {
   "cell_type": "code",
   "execution_count": 13,
   "metadata": {},
   "outputs": [],
   "source": [
    "theta = theta_1.reshape(3,1)"
   ]
  },
  {
   "cell_type": "code",
   "execution_count": 14,
   "metadata": {},
   "outputs": [
    {
     "data": {
      "text/plain": [
       "array([[1.27329845],\n",
       "       [1.01521526],\n",
       "       [0.80944262],\n",
       "       [0.64537776]])"
      ]
     },
     "execution_count": 14,
     "metadata": {},
     "output_type": "execute_result"
    }
   ],
   "source": [
    "tau = 0.5\n",
    "t1 = np.matmul(x, theta)\n",
    "np.exp(t1)"
   ]
  },
  {
   "cell_type": "code",
   "execution_count": 57,
   "metadata": {},
   "outputs": [],
   "source": [
    "def compute_prob(X, theta, temp_parameter):\n",
    "    t1 = np.matmul(theta, np.transpose(X))/temp_parameter\n",
    "    c = np.max(t1)\n",
    "    t1 = t1 - c\n",
    "    numerator = np.exp(t1)\n",
    "    denominator = np.sum(numerator, axis=0)\n",
    "    print(numerator, denominator)\n",
    "    return numerator, denominator"
   ]
  },
  {
   "cell_type": "code",
   "execution_count": 58,
   "metadata": {},
   "outputs": [],
   "source": [
    "#compute_prob(x, theta, tau)"
   ]
  },
  {
   "cell_type": "code",
   "execution_count": 59,
   "metadata": {},
   "outputs": [],
   "source": [
    "#help(np.max)"
   ]
  },
  {
   "cell_type": "code",
   "execution_count": 60,
   "metadata": {},
   "outputs": [],
   "source": [
    "def check_compute_probabilities():\n",
    "    ex_name = \"Compute probabilities\"\n",
    "    n, d, k = 3, 5, 7\n",
    "    X = np.arange(0, n * d).reshape(n, d)\n",
    "    zeros = np.zeros((k, d))\n",
    "    temp = 0.2\n",
    "    exp_res = np.ones((k, n)) / k\n",
    "\n",
    "    theta = np.arange(0, k * d).reshape(k, d)\n",
    "    ans = compute_prob(X, theta, temp)\n",
    "    exp_res = np.zeros((k, n))\n",
    "    exp_res[-1] = 1\n",
    "    \n",
    "    return exp_res, ans"
   ]
  },
  {
   "cell_type": "code",
   "execution_count": 81,
   "metadata": {},
   "outputs": [
    {
     "data": {
      "text/plain": [
       "array([[5.25626559e-07, 1.42880112e-06, 3.88388413e-06, 1.05574917e-05,\n",
       "        2.86982378e-05],\n",
       "       [7.80098982e-05, 2.12052889e-04, 5.76419514e-04, 1.56687069e-03,\n",
       "        4.25919613e-03],\n",
       "       [1.15776954e-02, 3.14714391e-02, 8.55482410e-02, 2.32544229e-01,\n",
       "        6.32120752e-01]])"
      ]
     },
     "execution_count": 81,
     "metadata": {},
     "output_type": "execute_result"
    }
   ],
   "source": [
    "from scipy.special import softmax\n",
    "\n",
    "def prob3():\n",
    "    ex_name = \"Compute probabilities\"\n",
    "    n, d, k = 3, 5, 7\n",
    "    X = np.arange(0, n * d).reshape(n, d)\n",
    "    zeros = np.zeros((k, d))\n",
    "    temp = 0.2\n",
    "    exp_res = np.ones((k, n)) / k\n",
    "\n",
    "    exp_res[-1] = 1\n",
    "    ans = softmax(X)\n",
    "    return ans\n",
    "\n",
    "prob3()"
   ]
  },
  {
   "cell_type": "code",
   "execution_count": 80,
   "metadata": {},
   "outputs": [
    {
     "name": "stdout",
     "output_type": "stream",
     "text": [
      "t1:  [[ 150.  400.  650.]\n",
      " [ 400. 1275. 2150.]\n",
      " [ 650. 2150. 3650.]\n",
      " [ 900. 3025. 5150.]\n",
      " [1150. 3900. 6650.]\n",
      " [1400. 4775. 8150.]\n",
      " [1650. 5650. 9650.]] \n",
      " 9650.0 \n",
      " [[-9500. -9250. -9000.]\n",
      " [-9250. -8375. -7500.]\n",
      " [-9000. -7500. -6000.]\n",
      " [-8750. -6625. -4500.]\n",
      " [-8500. -5750. -3000.]\n",
      " [-8250. -4875. -1500.]\n",
      " [-8000. -4000.     0.]] \n",
      " [[0. 0. 0.]\n",
      " [0. 0. 0.]\n",
      " [0. 0. 0.]\n",
      " [0. 0. 0.]\n",
      " [0. 0. 0.]\n",
      " [0. 0. 0.]\n",
      " [0. 0. 1.]]\n"
     ]
    }
   ],
   "source": [
    "def prob2():\n",
    "    ex_name = \"Compute probabilities\"\n",
    "    n, d, k = 3, 5, 7\n",
    "    X = np.arange(0, n * d).reshape(n, d)\n",
    "    zeros = np.zeros((k, d))\n",
    "    temp = 0.2\n",
    "    exp_res = np.ones((k, n)) / k\n",
    "\n",
    "    # eta = np.zeros((k, d))\n",
    "    theta = np.arange(0, k * d).reshape(k, d)\n",
    "    exp_res = np.zeros((k, n))\n",
    "    exp_res[-1] = 1\n",
    "    \n",
    "    t1 = np.matmul(theta, np.transpose(X))/temp\n",
    "    c = np.max(t1)\n",
    "    t2= t1 - c\n",
    "    numerator = np.exp(t2)\n",
    "    # nominator = np.sum(numerator, axis=0)\n",
    "    \n",
    "    \n",
    "    # ans = compute_prob(X, theta, temp)\n",
    "    \n",
    "    #rint(exp_res, '\\n', numerator, '\\n', denominator, '\\n', numerator/denominator)\n",
    "    print('t1: ', t1, '\\n', c, '\\n', t2, '\\n', numerator)\n",
    "    \n",
    "prob2()"
   ]
  },
  {
   "cell_type": "code",
   "execution_count": 63,
   "metadata": {},
   "outputs": [
    {
     "name": "stdout",
     "output_type": "stream",
     "text": [
      "[[0. 0. 0.]\n",
      " [0. 0. 0.]\n",
      " [0. 0. 0.]\n",
      " [0. 0. 0.]\n",
      " [0. 0. 0.]\n",
      " [0. 0. 0.]\n",
      " [0. 0. 1.]] [0. 0. 1.]\n"
     ]
    },
    {
     "data": {
      "text/plain": [
       "(array([[0., 0., 0.],\n",
       "        [0., 0., 0.],\n",
       "        [0., 0., 0.],\n",
       "        [0., 0., 0.],\n",
       "        [0., 0., 0.],\n",
       "        [0., 0., 0.],\n",
       "        [1., 1., 1.]]),\n",
       " (array([[0., 0., 0.],\n",
       "         [0., 0., 0.],\n",
       "         [0., 0., 0.],\n",
       "         [0., 0., 0.],\n",
       "         [0., 0., 0.],\n",
       "         [0., 0., 0.],\n",
       "         [0., 0., 1.]]),\n",
       "  array([0., 0., 1.])))"
      ]
     },
     "execution_count": 63,
     "metadata": {},
     "output_type": "execute_result"
    }
   ],
   "source": [
    "check_compute_probabilities()"
   ]
  },
  {
   "cell_type": "code",
   "execution_count": 33,
   "metadata": {},
   "outputs": [
    {
     "data": {
      "text/plain": [
       "0.14285714285714285"
      ]
     },
     "execution_count": 33,
     "metadata": {},
     "output_type": "execute_result"
    }
   ],
   "source": [
    "1/7"
   ]
  },
  {
   "cell_type": "code",
   "execution_count": 34,
   "metadata": {},
   "outputs": [
    {
     "data": {
      "text/plain": [
       "array([[ 1,  2,  3],\n",
       "       [ 4,  5,  6],\n",
       "       [ 7,  8,  9],\n",
       "       [10, 11, 12]])"
      ]
     },
     "execution_count": 34,
     "metadata": {},
     "output_type": "execute_result"
    }
   ],
   "source": [
    "x1 =np.arange(1,13).reshape(4,3)\n",
    "x1"
   ]
  },
  {
   "cell_type": "code",
   "execution_count": 39,
   "metadata": {},
   "outputs": [
    {
     "name": "stdout",
     "output_type": "stream",
     "text": [
      "[ 3.74165739  8.77496439 13.92838828 19.10497317] 19.1049731745428\n"
     ]
    }
   ],
   "source": [
    "t1 = np.linalg.norm(x, axis=1)\n",
    "print(t1, max(t1))"
   ]
  },
  {
   "cell_type": "code",
   "execution_count": 37,
   "metadata": {},
   "outputs": [
    {
     "data": {
      "text/plain": [
       "3.7416573867739413"
      ]
     },
     "execution_count": 37,
     "metadata": {},
     "output_type": "execute_result"
    }
   ],
   "source": [
    "14**0.5"
   ]
  },
  {
   "cell_type": "code",
   "execution_count": 41,
   "metadata": {},
   "outputs": [],
   "source": [
    "#help(np.sum)"
   ]
  },
  {
   "cell_type": "code",
   "execution_count": 88,
   "metadata": {},
   "outputs": [
    {
     "name": "stdout",
     "output_type": "stream",
     "text": [
      "[[ 1  2  3]\n",
      " [ 4  5  6]\n",
      " [ 7  8  9]\n",
      " [10 11 12]]\n",
      "[ 3  6  9 12] [[ 3]\n",
      " [ 6]\n",
      " [ 9]\n",
      " [12]]\n"
     ]
    },
    {
     "data": {
      "text/plain": [
       "array([[-2, -1,  0],\n",
       "       [-2, -1,  0],\n",
       "       [-2, -1,  0],\n",
       "       [-2, -1,  0]])"
      ]
     },
     "execution_count": 88,
     "metadata": {},
     "output_type": "execute_result"
    }
   ],
   "source": [
    "print(x)\n",
    "np.max(x, axis=0), np.max(x, axis=1)\n",
    "t4 = np.max(x, axis=1)\n",
    "t5 = t4[:, np.newaxis]\n",
    "print(t4, t5)\n",
    "x-t5"
   ]
  },
  {
   "cell_type": "code",
   "execution_count": 90,
   "metadata": {},
   "outputs": [
    {
     "name": "stdout",
     "output_type": "stream",
     "text": [
      "[[ 1  2  3]\n",
      " [ 4  5  6]\n",
      " [ 7  8  9]\n",
      " [10 11 12]]\n"
     ]
    },
    {
     "data": {
      "text/plain": [
       "array([10, 11, 12])"
      ]
     },
     "execution_count": 90,
     "metadata": {},
     "output_type": "execute_result"
    }
   ],
   "source": [
    "print(x)\n",
    "np.max(x, axis=0)"
   ]
  },
  {
   "cell_type": "code",
   "execution_count": 91,
   "metadata": {},
   "outputs": [
    {
     "data": {
      "text/plain": [
       "array([22, 26, 30])"
      ]
     },
     "execution_count": 91,
     "metadata": {},
     "output_type": "execute_result"
    }
   ],
   "source": [
    "np.sum(x, axis=0)"
   ]
  },
  {
   "cell_type": "code",
   "execution_count": null,
   "metadata": {},
   "outputs": [],
   "source": []
  }
 ],
 "metadata": {
  "kernelspec": {
   "display_name": "Python 3",
   "language": "python",
   "name": "python3"
  },
  "language_info": {
   "codemirror_mode": {
    "name": "ipython",
    "version": 3
   },
   "file_extension": ".py",
   "mimetype": "text/x-python",
   "name": "python",
   "nbconvert_exporter": "python",
   "pygments_lexer": "ipython3",
   "version": "3.7.3"
  }
 },
 "nbformat": 4,
 "nbformat_minor": 4
}
