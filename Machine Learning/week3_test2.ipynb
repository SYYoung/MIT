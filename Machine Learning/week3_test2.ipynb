{
 "cells": [
  {
   "cell_type": "code",
   "execution_count": 2,
   "metadata": {},
   "outputs": [],
   "source": [
    "import numpy as np\n",
    "import matplotlib.pyplot as plt\n",
    "%matplotlib inline\n",
    "import torch"
   ]
  },
  {
   "cell_type": "code",
   "execution_count": 3,
   "metadata": {},
   "outputs": [
    {
     "name": "stdout",
     "output_type": "stream",
     "text": [
      "tensor([[1., 1.],\n",
      "        [1., 1.]]) tensor([[0., 0.],\n",
      "        [0., 0.]]) tensor([[-0.5415,  2.5487],\n",
      "        [ 1.2246, -0.5551]])\n"
     ]
    }
   ],
   "source": [
    "some_ones = torch.ones(2,2)\n",
    "some_zeroes = torch.zeros(2,2)\n",
    "some_normals = torch.randn(2,2)\n",
    "print(some_ones, some_zeroes, some_normals)"
   ]
  },
  {
   "cell_type": "code",
   "execution_count": 6,
   "metadata": {},
   "outputs": [],
   "source": [
    "torch_tensor = torch.randn(5,5)\n",
    "numpy_ndarray = torch_tensor.numpy()\n",
    "back_to_torch = torch.from_numpy(numpy_ndarray)"
   ]
  },
  {
   "cell_type": "code",
   "execution_count": 9,
   "metadata": {},
   "outputs": [
    {
     "data": {
      "text/plain": [
       "numpy.ndarray"
      ]
     },
     "execution_count": 9,
     "metadata": {},
     "output_type": "execute_result"
    }
   ],
   "source": [
    "type(torch_tensor.numpy())"
   ]
  },
  {
   "cell_type": "code",
   "execution_count": 14,
   "metadata": {},
   "outputs": [
    {
     "data": {
      "text/plain": [
       "(tensor([[-0.3601, -0.2345, -1.5063, -0.8409, -1.1991],\n",
       "         [ 1.9193, -1.8202, -0.2340,  0.8220,  0.7704],\n",
       "         [ 0.0796,  1.0499,  0.5218, -0.1456,  0.6583],\n",
       "         [-1.0532, -0.0729,  1.1972, -0.3562, -0.4382],\n",
       "         [ 0.8485, -2.4902, -0.0214, -0.6221, -1.1294]]),\n",
       " tensor([[-2.0512, -1.0785, -0.4228,  1.0974,  0.8253],\n",
       "         [ 0.0765, -1.1535, -0.3433,  0.6884,  0.4030],\n",
       "         [ 0.2999, -0.3668,  1.5478, -0.1636,  0.4631],\n",
       "         [ 0.8547, -1.8820,  1.7084,  0.1771,  1.0310],\n",
       "         [ 1.5566, -1.3181, -1.0052, -2.2593, -0.1423]]))"
      ]
     },
     "execution_count": 14,
     "metadata": {},
     "output_type": "execute_result"
    }
   ],
   "source": [
    "a = torch.randn(5,5)\n",
    "b = torch.randn(5,5)\n",
    "a,b"
   ]
  },
  {
   "cell_type": "code",
   "execution_count": 13,
   "metadata": {},
   "outputs": [
    {
     "name": "stdout",
     "output_type": "stream",
     "text": [
      "<class 'torch.Tensor'> tensor(1.1231)\n",
      "1.1231378316879272 <class 'float'>\n"
     ]
    }
   ],
   "source": [
    "another_tensor = a[2,2]\n",
    "print(type(another_tensor), another_tensor)\n",
    "print(another_tensor.item(), type(another_tensor.item()))"
   ]
  },
  {
   "cell_type": "code",
   "execution_count": 12,
   "metadata": {},
   "outputs": [
    {
     "data": {
      "text/plain": [
       "1.1231378316879272"
      ]
     },
     "execution_count": 12,
     "metadata": {},
     "output_type": "execute_result"
    }
   ],
   "source": [
    "another_tensor.item()"
   ]
  },
  {
   "cell_type": "code",
   "execution_count": 17,
   "metadata": {},
   "outputs": [
    {
     "data": {
      "text/plain": [
       "(torch.Tensor, torch.Size([5]))"
      ]
     },
     "execution_count": 17,
     "metadata": {},
     "output_type": "execute_result"
    }
   ],
   "source": [
    "a.size()\n",
    "vec = a[:, 0]\n",
    "type(vec), vec.size()"
   ]
  },
  {
   "cell_type": "code",
   "execution_count": 21,
   "metadata": {},
   "outputs": [
    {
     "name": "stdout",
     "output_type": "stream",
     "text": [
      "torch.Size([5, 5, 1]) tensor([[[ 0.0895],\n",
      "         [-1.1531],\n",
      "         [-0.9727],\n",
      "         [ 0.7211],\n",
      "         [ 1.3283]],\n",
      "\n",
      "        [[-0.8284],\n",
      "         [-0.2210],\n",
      "         [ 1.0579],\n",
      "         [-1.7494],\n",
      "         [-0.2265]],\n",
      "\n",
      "        [[ 2.1874],\n",
      "         [-0.4496],\n",
      "         [-0.5500],\n",
      "         [-0.5801],\n",
      "         [-0.9413]],\n",
      "\n",
      "        [[-0.0610],\n",
      "         [ 0.9735],\n",
      "         [ 1.3902],\n",
      "         [-0.5973],\n",
      "         [-0.6216]],\n",
      "\n",
      "        [[-1.4979],\n",
      "         [-0.9160],\n",
      "         [-0.6361],\n",
      "         [-0.1373],\n",
      "         [-1.2881]]])\n",
      "tensor([[ 0.0895, -1.1531, -0.9727,  0.7211,  1.3283],\n",
      "        [-0.8284, -0.2210,  1.0579, -1.7494, -0.2265],\n",
      "        [ 2.1874, -0.4496, -0.5500, -0.5801, -0.9413],\n",
      "        [-0.0610,  0.9735,  1.3902, -0.5973, -0.6216],\n",
      "        [-1.4979, -0.9160, -0.6361, -0.1373, -1.2881]])\n"
     ]
    }
   ],
   "source": [
    "a = torch.randn(5,5)\n",
    "c = a.unsqueeze(-1)\n",
    "print(c.size(), c)\n",
    "print(a)"
   ]
  },
  {
   "cell_type": "code",
   "execution_count": 22,
   "metadata": {},
   "outputs": [
    {
     "name": "stdout",
     "output_type": "stream",
     "text": [
      "tensor([[ 0.0895],\n",
      "        [-1.1531],\n",
      "        [-0.9727],\n",
      "        [ 0.7211],\n",
      "        [ 1.3283]])\n"
     ]
    }
   ],
   "source": [
    "print(c[0,:,:])"
   ]
  },
  {
   "cell_type": "code",
   "execution_count": 24,
   "metadata": {},
   "outputs": [
    {
     "name": "stdout",
     "output_type": "stream",
     "text": [
      "tensor([0.6015, 1.1829])\n",
      "tensor([[0.6015],\n",
      "        [1.1829]])\n"
     ]
    }
   ],
   "source": [
    "a = torch.randn(2)\n",
    "print(a)\n",
    "a = a.unsqueeze(-1)\n",
    "print(a)"
   ]
  },
  {
   "cell_type": "code",
   "execution_count": 26,
   "metadata": {},
   "outputs": [
    {
     "data": {
      "text/plain": [
       "False"
      ]
     },
     "execution_count": 26,
     "metadata": {},
     "output_type": "execute_result"
    }
   ],
   "source": [
    "torch.cuda.is_available()"
   ]
  },
  {
   "cell_type": "code",
   "execution_count": 29,
   "metadata": {},
   "outputs": [
    {
     "name": "stdout",
     "output_type": "stream",
     "text": [
      "tensor([[[ 1.0078, -1.3015, -0.4700],\n",
      "         [-0.9522,  1.8640, -0.8614],\n",
      "         [ 0.4220, -0.0699,  0.6447]],\n",
      "\n",
      "        [[-0.4952,  0.2860, -1.1545],\n",
      "         [-0.7308,  0.8890,  1.1448],\n",
      "         [-0.6233, -1.9111, -0.2429]],\n",
      "\n",
      "        [[-0.3349,  0.3769, -0.6323],\n",
      "         [-2.5318, -1.0494, -1.5568],\n",
      "         [ 0.6579, -0.8559,  2.1077]],\n",
      "\n",
      "        [[ 0.2556,  0.1497,  1.2563],\n",
      "         [ 1.5986,  1.3587,  0.9619],\n",
      "         [ 1.4416,  1.1394,  1.6302]],\n",
      "\n",
      "        [[ 0.4797, -0.2428, -1.1404],\n",
      "         [ 0.4507,  1.3840, -2.1882],\n",
      "         [ 0.7480,  0.1702,  0.5002]]]) tensor([[ 1.0078, -1.3015, -0.4700],\n",
      "        [-0.9522,  1.8640, -0.8614],\n",
      "        [ 0.4220, -0.0699,  0.6447]])\n"
     ]
    }
   ],
   "source": [
    "a = torch.randn(5,3,3)\n",
    "b = torch.randn(5,3,3)\n",
    "print(a, a[0,:,:])"
   ]
  },
  {
   "cell_type": "code",
   "execution_count": 30,
   "metadata": {},
   "outputs": [
    {
     "name": "stdout",
     "output_type": "stream",
     "text": [
      "tensor([0.2120], requires_grad=True)\n"
     ]
    }
   ],
   "source": [
    "x = torch.randn(1, requires_grad=True)\n",
    "print(x)"
   ]
  },
  {
   "cell_type": "code",
   "execution_count": 31,
   "metadata": {},
   "outputs": [
    {
     "name": "stdout",
     "output_type": "stream",
     "text": [
      "None\n"
     ]
    }
   ],
   "source": [
    "print(x.grad)"
   ]
  },
  {
   "cell_type": "code",
   "execution_count": 32,
   "metadata": {},
   "outputs": [
    {
     "data": {
      "text/plain": [
       "tensor([1.2361], grad_fn=<ExpBackward>)"
      ]
     },
     "execution_count": 32,
     "metadata": {},
     "output_type": "execute_result"
    }
   ],
   "source": [
    "y = x.exp()\n",
    "y"
   ]
  },
  {
   "cell_type": "code",
   "execution_count": 34,
   "metadata": {},
   "outputs": [],
   "source": [
    "y.backward()"
   ]
  },
  {
   "cell_type": "code",
   "execution_count": 35,
   "metadata": {},
   "outputs": [
    {
     "name": "stdout",
     "output_type": "stream",
     "text": [
      "tensor([1.2361]) tensor([1.2361], grad_fn=<ExpBackward>)\n"
     ]
    }
   ],
   "source": [
    "print(x.grad,y)"
   ]
  },
  {
   "cell_type": "code",
   "execution_count": 38,
   "metadata": {},
   "outputs": [
    {
     "name": "stdout",
     "output_type": "stream",
     "text": [
      "tensor([0.8922, 2.0349], requires_grad=True)\n",
      "tensor([2.4405, 7.6512], grad_fn=<ExpBackward>)\n",
      "tensor([1.2361]) tensor([2.4405, 7.6512], grad_fn=<ExpBackward>)\n"
     ]
    }
   ],
   "source": [
    "x1 = torch.randn(2, requires_grad=True)\n",
    "print(x1)\n",
    "y = x1.exp()\n",
    "print(y)\n",
    "y[0].backward()\n",
    "print(x.grad,y)"
   ]
  },
  {
   "cell_type": "code",
   "execution_count": 43,
   "metadata": {},
   "outputs": [
    {
     "name": "stdout",
     "output_type": "stream",
     "text": [
      "tensor([-0.3080], requires_grad=True) tensor([-0.6138], requires_grad=True)\n",
      "tensor([181.6817]) tensor([91.1586])\n",
      "tensor([-295.9779], grad_fn=<MulBackward0>)\n"
     ]
    }
   ],
   "source": [
    "x_a = torch.randn(1, requires_grad=True)\n",
    "x_b = torch.randn(1, requires_grad=True)\n",
    "print(x_a, x_b)\n",
    "x = x_a * x_b\n",
    "x1 = x**2\n",
    "x2 = 1/x1\n",
    "x3 = x2.exp()\n",
    "x4 = 1 + x3\n",
    "x5 = x4.log()\n",
    "x6 = x5 ** (1/3)\n",
    "x2.backward()\n",
    "print(x_a.grad, x_b.grad)\n",
    "print(-2/x**3)"
   ]
  },
  {
   "cell_type": "code",
   "execution_count": 44,
   "metadata": {},
   "outputs": [
    {
     "name": "stdout",
     "output_type": "stream",
     "text": [
      "tensor([1.2212], requires_grad=True) tensor([-1.7901], requires_grad=True)\n",
      "tensor([-2.1861], grad_fn=<MulBackward0>)\n",
      "tensor([-1.7901]) tensor([1.2212])\n"
     ]
    }
   ],
   "source": [
    "x_a = torch.randn(1, requires_grad=True)\n",
    "x_b = torch.randn(1, requires_grad=True)\n",
    "print(x_a, x_b)\n",
    "x = x_a * x_b\n",
    "print(x)\n",
    "x.backward()\n",
    "print(x_a.grad, x_b.grad)"
   ]
  },
  {
   "cell_type": "code",
   "execution_count": 45,
   "metadata": {},
   "outputs": [],
   "source": [
    "from sklearn.datasets import make_classification"
   ]
  },
  {
   "cell_type": "code",
   "execution_count": 49,
   "metadata": {},
   "outputs": [],
   "source": [
    "#help(make_classification)"
   ]
  },
  {
   "cell_type": "code",
   "execution_count": 47,
   "metadata": {},
   "outputs": [],
   "source": [
    "import torch.nn as nn"
   ]
  },
  {
   "cell_type": "code",
   "execution_count": 50,
   "metadata": {},
   "outputs": [],
   "source": [
    "#help(nn.Sequential)"
   ]
  },
  {
   "cell_type": "code",
   "execution_count": 51,
   "metadata": {},
   "outputs": [],
   "source": [
    "model = nn.Sequential(\n",
    "            nn.Linear(784,10),\n",
    "            nn.LeakyReLU(),\n",
    "            nn.Linear(10,10))"
   ]
  },
  {
   "cell_type": "code",
   "execution_count": null,
   "metadata": {},
   "outputs": [],
   "source": []
  }
 ],
 "metadata": {
  "kernelspec": {
   "display_name": "Python 3",
   "language": "python",
   "name": "python3"
  },
  "language_info": {
   "codemirror_mode": {
    "name": "ipython",
    "version": 3
   },
   "file_extension": ".py",
   "mimetype": "text/x-python",
   "name": "python",
   "nbconvert_exporter": "python",
   "pygments_lexer": "ipython3",
   "version": "3.7.3"
  }
 },
 "nbformat": 4,
 "nbformat_minor": 4
}
