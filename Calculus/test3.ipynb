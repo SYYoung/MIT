{
 "cells": [
  {
   "cell_type": "code",
   "execution_count": 1,
   "metadata": {},
   "outputs": [],
   "source": [
    "%matplotlib inline\n",
    "import matplotlib.pyplot as plt\n",
    "plt.style.use('seaborn-white')\n",
    "import numpy as np\n",
    "import math\n",
    "\n",
    "from mpl_toolkits import mplot3d"
   ]
  },
  {
   "cell_type": "code",
   "execution_count": 2,
   "metadata": {},
   "outputs": [
    {
     "name": "stdout",
     "output_type": "stream",
     "text": [
      "21\n",
      "7\n",
      "16\n",
      "5\n"
     ]
    }
   ],
   "source": [
    "x = np.array([0,1,2,4])\n",
    "y = np.array([0,0,2,3])\n",
    "print(sum(x**2))\n",
    "print(sum(x))\n",
    "print(sum(x*y))\n",
    "print(sum(y))"
   ]
  },
  {
   "cell_type": "code",
   "execution_count": 3,
   "metadata": {},
   "outputs": [
    {
     "data": {
      "text/plain": [
       "array([ 0.82857143, -0.2       ])"
      ]
     },
     "execution_count": 3,
     "metadata": {},
     "output_type": "execute_result"
    }
   ],
   "source": [
    "A = np.array([[21,7],[7,4]])\n",
    "C = np.array([16,5])\n",
    "B = np.linalg.inv(A) @ C\n",
    "B"
   ]
  },
  {
   "cell_type": "code",
   "execution_count": 4,
   "metadata": {},
   "outputs": [
    {
     "data": {
      "text/plain": [
       "array([16.,  5.])"
      ]
     },
     "execution_count": 4,
     "metadata": {},
     "output_type": "execute_result"
    }
   ],
   "source": [
    "A @ B"
   ]
  },
  {
   "cell_type": "code",
   "execution_count": 5,
   "metadata": {},
   "outputs": [
    {
     "name": "stdout",
     "output_type": "stream",
     "text": [
      "[-2.47085933e+00  9.92568686e+03 -9.96806147e+06]\n",
      "26.11964064836502\n",
      "25.73317984542218\n"
     ]
    }
   ],
   "source": [
    "#x = np.array([0,2,4])\n",
    "#y = np.array([1,1,3])\n",
    "\n",
    "x = np.array([2004, 2006, 2008, 2010])\n",
    "y = np.array([4.4, 39.41, 54.83, 50.31])\n",
    "x4 = sum(x**4)\n",
    "x3 = sum(x**3)\n",
    "x2 = sum(x**2)\n",
    "x1 = sum(x)\n",
    "x2y = sum(x**2 * y)\n",
    "x1y = sum(x * y)\n",
    "\n",
    "\n",
    "A = np.array([[x4, x3, x2], [x3, x2, x1], [x2, x1, len(x)]])\n",
    "C = np.array([x2y, x1y, sum(y)])\n",
    "B = np.linalg.inv(A) @ C\n",
    "print(B)\n",
    "\n",
    "yr = 2012\n",
    "pred_2012 = B[0] * (yr*yr)  + B[1] * yr + B[2]\n",
    "print(pred_2012)\n",
    "\n",
    "actual = 35.17\n",
    "err = abs(actual-pred_2012)/actual * 100\n",
    "print(err)"
   ]
  },
  {
   "cell_type": "code",
   "execution_count": 6,
   "metadata": {},
   "outputs": [
    {
     "data": {
      "text/plain": [
       "26.11964064836502"
      ]
     },
     "execution_count": 6,
     "metadata": {},
     "output_type": "execute_result"
    }
   ],
   "source": [
    "yr = 2012\n",
    "B[0] * yr*yr + B[1] * yr + B[2]"
   ]
  },
  {
   "cell_type": "code",
   "execution_count": 7,
   "metadata": {},
   "outputs": [
    {
     "name": "stdout",
     "output_type": "stream",
     "text": [
      "[ 7.6575000e+00 -1.5331365e+04]\n"
     ]
    }
   ],
   "source": [
    "x = np.array([2004, 2006, 2008, 2010])\n",
    "y = np.array([4.4, 39.41, 54.83, 50.31])\n",
    "x4 = sum(x**4)\n",
    "x3 = sum(x**3)\n",
    "x2 = sum(x**2)\n",
    "x1 = sum(x)\n",
    "x2y = sum(x**2 * y)\n",
    "x1y = sum(x * y)\n",
    "\n",
    "\n",
    "A = np.array([[x2, x1], [x1, len(x)]])\n",
    "C = np.array([x1y, sum(y)])\n",
    "B = np.linalg.inv(A) @ C\n",
    "print(B)"
   ]
  },
  {
   "cell_type": "code",
   "execution_count": 8,
   "metadata": {},
   "outputs": [
    {
     "data": {
      "text/plain": [
       "531.7107093283655"
      ]
     },
     "execution_count": 8,
     "metadata": {},
     "output_type": "execute_result"
    }
   ],
   "source": [
    "pred = B[0] * 2014 + B[1]\n",
    "abs(14.38-pred)/14.38 * 100"
   ]
  },
  {
   "cell_type": "code",
   "execution_count": 9,
   "metadata": {},
   "outputs": [],
   "source": [
    "import scipy.stats"
   ]
  },
  {
   "cell_type": "code",
   "execution_count": 10,
   "metadata": {},
   "outputs": [
    {
     "data": {
      "text/plain": [
       "LinregressResult(slope=7.657500000000001, intercept=-15331.365000000002, rvalue=0.8660957575377853, pvalue=0.13390424246221463, stderr=3.1251453966175724)"
      ]
     },
     "execution_count": 10,
     "metadata": {},
     "output_type": "execute_result"
    }
   ],
   "source": [
    "bestLine = scipy.stats.linregress(x,y)\n",
    "bestLine"
   ]
  },
  {
   "cell_type": "code",
   "execution_count": 11,
   "metadata": {},
   "outputs": [
    {
     "name": "stdout",
     "output_type": "stream",
     "text": [
      "[65.2, 21.9, -14.1, 29.6, 2.1, 64.5, 5.5, 36.7, 43.0, 6.2, 21.6, -1.7, -12.1, 22.8, 41.7, 68.3, 64.2, 53.0, 62.8, -14.5] [-48.2, 53.9, 86.1, 15.1, 68.3, -41.7, 80.8, 2.6, 1.8, 73.0, 53.0, 49.3, 77.7, 27.7, 9.5, -37.5, -30.5, -37.1, -28.8, 67.2]\n"
     ]
    }
   ],
   "source": [
    "with open('input1.txt') as f:\n",
    "    lines = f.readlines()\n",
    "    lines = [line.rstrip() for line in lines]\n",
    "    dataX = [float(x) for x in lines]\n",
    "\n",
    "with open('input2.txt') as f:\n",
    "    lines = f.readlines()\n",
    "    lines = [line.rstrip() for line in lines]\n",
    "    dataY = [float(x) for x in lines]\n",
    "\n",
    "    print(dataX, dataY)"
   ]
  },
  {
   "cell_type": "code",
   "execution_count": 12,
   "metadata": {},
   "outputs": [
    {
     "data": {
      "text/plain": [
       "(-1.572975957441847, 66.68027375411474)"
      ]
     },
     "execution_count": 12,
     "metadata": {},
     "output_type": "execute_result"
    }
   ],
   "source": [
    "bestLine = scipy.stats.linregress(dataX, dataY)\n",
    "slope = bestLine.slope\n",
    "intercept = bestLine.intercept\n",
    "slope, intercept"
   ]
  },
  {
   "cell_type": "code",
   "execution_count": 13,
   "metadata": {},
   "outputs": [
    {
     "data": {
      "text/plain": [
       "array([-35.87775867,  32.23210029,  88.85923475,  20.12018541,\n",
       "        63.37702424, -34.7766755 ,  58.02890599,   8.95205612,\n",
       "        -0.95769242,  56.92782282,  32.70399307,  69.35433288,\n",
       "        85.71328284,  30.81642192,   1.08717633, -40.75398414,\n",
       "       -34.30478271, -16.68745199, -32.10261637,  89.48842514])"
      ]
     },
     "execution_count": 13,
     "metadata": {},
     "output_type": "execute_result"
    }
   ],
   "source": [
    "predY = np.array(dataX) * slope + intercept\n",
    "predY"
   ]
  },
  {
   "cell_type": "code",
   "execution_count": 14,
   "metadata": {},
   "outputs": [
    {
     "data": {
      "text/plain": [
       "[<matplotlib.lines.Line2D at 0x7ff9e5fb5da0>]"
      ]
     },
     "execution_count": 14,
     "metadata": {},
     "output_type": "execute_result"
    },
    {
     "data": {
      "image/png": "[encoded data removed]",
      "text/plain": [
       "<Figure size 432x288 with 1 Axes>"
      ]
     },
     "metadata": {},
     "output_type": "display_data"
    }
   ],
   "source": [
    "plt.scatter(dataX, dataY)\n",
    "plt.plot(dataX, predY)"
   ]
  },
  {
   "cell_type": "code",
   "execution_count": 15,
   "metadata": {},
   "outputs": [
    {
     "name": "stdout",
     "output_type": "stream",
     "text": [
      "0.359229 0.932835 1.48015528980825\n",
      "0.843235 0.460127 0.8894477299055833\n",
      "1.7308 1.43761 -1.3433893226416669\n"
     ]
    }
   ],
   "source": [
    "def f(x, y):\n",
    "    return x**2/3 + y**2/4 - 3*x*y + x + 2*y\n",
    "x = np.array([0.359229, 0.843235, 1.73080])\n",
    "y = np.array([0.932835, 0.460127, 1.43761])\n",
    "fxy = f(x, y)\n",
    "for i in range(len(x)):\n",
    "    print(x[i], y[i], fxy[i])"
   ]
  },
  {
   "cell_type": "code",
   "execution_count": 16,
   "metadata": {},
   "outputs": [
    {
     "data": {
      "text/plain": [
       "0.583333333333333"
      ]
     },
     "execution_count": 16,
     "metadata": {},
     "output_type": "execute_result"
    }
   ],
   "source": [
    "f(1,1)"
   ]
  },
  {
   "cell_type": "code",
   "execution_count": 17,
   "metadata": {},
   "outputs": [],
   "source": [
    "def lin(x, y):\n",
    "    bestLine = scipy.stats.linregress(x, y)\n",
    "    print(bestLine)"
   ]
  },
  {
   "cell_type": "code",
   "execution_count": 18,
   "metadata": {},
   "outputs": [
    {
     "name": "stdout",
     "output_type": "stream",
     "text": [
      "LinregressResult(slope=0.40052130632789523, intercept=6.39174458166908, rvalue=0.961431948336658, pvalue=0.03856805166334198, stderr=0.08102005788057885)\n"
     ]
    }
   ],
   "source": [
    "x = np.array([36.2, 49.8, 64.6, 98.3])\n",
    "y = np.array([156, 175, 214, 228])\n",
    "lnx = np.log(x/1000)\n",
    "lny = np.log(y)\n",
    "lin(lnx, lny)"
   ]
  },
  {
   "cell_type": "code",
   "execution_count": 19,
   "metadata": {},
   "outputs": [
    {
     "data": {
      "text/plain": [
       "<matplotlib.collections.PathCollection at 0x7ff9e687ac18>"
      ]
     },
     "execution_count": 19,
     "metadata": {},
     "output_type": "execute_result"
    },
    {
     "data": {
      "image/png": "[encoded data removed]",
      "text/plain": [
       "<Figure size 432x288 with 1 Axes>"
      ]
     },
     "metadata": {},
     "output_type": "display_data"
    }
   ],
   "source": [
    "plt.scatter(x, y)"
   ]
  },
  {
   "cell_type": "code",
   "execution_count": 20,
   "metadata": {},
   "outputs": [
    {
     "name": "stdout",
     "output_type": "stream",
     "text": [
      "24 0.0 1920.0\n",
      "24 10.5 2471.25\n",
      "24 24.0 1560.0\n",
      "0 24.0 -360.0\n",
      "0 10.5 551.25\n",
      "0 0.0 0.0\n"
     ]
    }
   ],
   "source": [
    "a = np.array([24,24,24,0,0, 0])\n",
    "b = np.array([0,10.5,24,24,10.5,0])\n",
    "f = 80*a + 105*b - 5*(b**2)\n",
    "for i in range(len(a)):\n",
    "    print(a[i], b[i], f[i])"
   ]
  },
  {
   "cell_type": "code",
   "execution_count": 21,
   "metadata": {},
   "outputs": [
    {
     "data": {
      "text/plain": [
       "array([8.63658277e+13, 8.10713951e+13, 1.31746753e+14, 7.81093975e+13])"
      ]
     },
     "execution_count": 21,
     "metadata": {},
     "output_type": "execute_result"
    }
   ],
   "source": [
    "E1 = y * 1.225**0.2/(x/1000)**0.4\n",
    "E = E1**5\n",
    "E"
   ]
  },
  {
   "cell_type": "code",
   "execution_count": 22,
   "metadata": {},
   "outputs": [
    {
     "data": {
      "text/plain": [
       "215914.56920118435"
      ]
     },
     "execution_count": 22,
     "metadata": {},
     "output_type": "execute_result"
    }
   ],
   "source": [
    "E[0]/(4*10**8)"
   ]
  },
  {
   "cell_type": "code",
   "execution_count": 23,
   "metadata": {},
   "outputs": [
    {
     "name": "stdout",
     "output_type": "stream",
     "text": [
      "5 5 15\n",
      "-5 -5 135\n",
      "7 -1 7\n",
      "-1 7 7\n",
      "2 2 -12\n"
     ]
    }
   ],
   "source": [
    "def f2(x,y):\n",
    "    return x**2 - 6*x + y**2 - 6*y + x*y\n",
    "\n",
    "x = np.array([5,-5,7,-1,2])\n",
    "y = np.array([5,-5,-1,7,2])\n",
    "for i in range(len(x)):\n",
    "    print(x[i], y[i], f2(x[i], y[i]))"
   ]
  },
  {
   "cell_type": "code",
   "execution_count": 24,
   "metadata": {},
   "outputs": [
    {
     "name": "stdout",
     "output_type": "stream",
     "text": [
      "[[1 1]\n",
      " [1 1]]\n",
      "[[1 1]\n",
      " [1 1]]\n"
     ]
    }
   ],
   "source": [
    "a = np.array([[0,1],[1,0]])\n",
    "b = np.array([[1,1],[1,1]])\n",
    "print(a@b)\n",
    "print(b@a)"
   ]
  },
  {
   "cell_type": "code",
   "execution_count": 25,
   "metadata": {},
   "outputs": [
    {
     "data": {
      "text/plain": [
       "array([[1, 2],\n",
       "       [0, 1]])"
      ]
     },
     "execution_count": 25,
     "metadata": {},
     "output_type": "execute_result"
    }
   ],
   "source": [
    "a = np.array([[1,1],[0,1]])\n",
    "a@a"
   ]
  },
  {
   "cell_type": "code",
   "execution_count": 26,
   "metadata": {},
   "outputs": [
    {
     "data": {
      "text/plain": [
       "array([3.33333333, 3.33333333, 0.        ])"
      ]
     },
     "execution_count": 26,
     "metadata": {},
     "output_type": "execute_result"
    }
   ],
   "source": [
    "a = np.array([[1,2,1],[3,0,1],[1,2,0]])\n",
    "b = np.array([10,10,10])\n",
    "np.linalg.inv(a) @ b"
   ]
  },
  {
   "cell_type": "code",
   "execution_count": 27,
   "metadata": {},
   "outputs": [
    {
     "data": {
      "text/plain": [
       "array([ 0.1, -0.2])"
      ]
     },
     "execution_count": 27,
     "metadata": {},
     "output_type": "execute_result"
    }
   ],
   "source": [
    "a = np.array([[1,0],[1,1]])\n",
    "b = np.array([0.1,-0.1])\n",
    "np.linalg.inv(a) @ b"
   ]
  },
  {
   "cell_type": "code",
   "execution_count": 28,
   "metadata": {},
   "outputs": [],
   "source": [
    "v = 10.2\n",
    "theta = np.pi/6"
   ]
  },
  {
   "cell_type": "code",
   "execution_count": 29,
   "metadata": {},
   "outputs": [
    {
     "name": "stdout",
     "output_type": "stream",
     "text": [
      "0.8833459118601273 5.202000000000001 0.25499999999999995 4.505064150486649\n",
      "[[0.88334591 5.202     ]\n",
      " [0.255      4.50506415]]\n"
     ]
    }
   ],
   "source": [
    "xv = 2*v/20 * np.sin(2*theta)\n",
    "xtheta = v**2 * np.cos(2*theta)/10\n",
    "yv = v*(np.sin(theta))**2 /10\n",
    "ytheta = v**2 * np.sin(theta) * np.cos(theta) /10\n",
    "print(xv, xtheta, yv, ytheta)\n",
    "jacob = np.array([[xv, xtheta], [yv, ytheta]])\n",
    "print(jacob)"
   ]
  },
  {
   "cell_type": "code",
   "execution_count": 30,
   "metadata": {},
   "outputs": [
    {
     "data": {
      "text/plain": [
       "array([ 0.31372549, -0.05327338])"
      ]
     },
     "execution_count": 30,
     "metadata": {},
     "output_type": "execute_result"
    }
   ],
   "source": [
    "b = np.array([0, -0.16])\n",
    "np.linalg.inv(jacob) @ b"
   ]
  },
  {
   "cell_type": "code",
   "execution_count": 32,
   "metadata": {},
   "outputs": [
    {
     "data": {
      "text/plain": [
       "array([-2.,  5.])"
      ]
     },
     "execution_count": 32,
     "metadata": {},
     "output_type": "execute_result"
    }
   ],
   "source": [
    "a = np.array([[4,3],[-4,4]])\n",
    "b = np.array([7,28])\n",
    "np.linalg.inv(a) @ b"
   ]
  },
  {
   "cell_type": "code",
   "execution_count": 33,
   "metadata": {},
   "outputs": [],
   "source": [
    "W = 295\n",
    "H = 0.7\n",
    "T = 300\n",
    "a = 4.2*10**9\n",
    "b = 5400"
   ]
  },
  {
   "cell_type": "code",
   "execution_count": 38,
   "metadata": {},
   "outputs": [
    {
     "name": "stdout",
     "output_type": "stream",
     "text": [
      "0.9391308569024731 16.294927298584415\n",
      "2.6295663993269245 3.2589854597168832\n"
     ]
    }
   ],
   "source": [
    "dt1 = (T**2 + a*b*H*math.exp(-b/T))/(W**2 + a*b*math.exp(-b/W))\n",
    "dt = dt1 * W**2/T**2\n",
    "\n",
    "\n",
    "dh = W**2 * a*math.exp(-b/T)/(W**2 + a*b*math.exp(-b/W))\n",
    "print(dt, dh)\n",
    "\n",
    "delta_t = 2.8\n",
    "delta_H = 0.2\n",
    "\n",
    "delta_W_T = dt * delta_t\n",
    "delta_W_H = dh * delta_H\n",
    "\n",
    "print(delta_W_T, delta_W_H)"
   ]
  },
  {
   "cell_type": "code",
   "execution_count": 39,
   "metadata": {},
   "outputs": [
    {
     "data": {
      "text/plain": [
       "13.842586370633995"
      ]
     },
     "execution_count": 39,
     "metadata": {},
     "output_type": "execute_result"
    }
   ],
   "source": [
    "(308-295)/dt"
   ]
  },
  {
   "cell_type": "code",
   "execution_count": 40,
   "metadata": {},
   "outputs": [
    {
     "data": {
      "text/plain": [
       "4.888478189575324"
      ]
     },
     "execution_count": 40,
     "metadata": {},
     "output_type": "execute_result"
    }
   ],
   "source": [
    "dh * 0.3"
   ]
  },
  {
   "cell_type": "code",
   "execution_count": 42,
   "metadata": {},
   "outputs": [
    {
     "data": {
      "text/plain": [
       "0.03717393680822549"
      ]
     },
     "execution_count": 42,
     "metadata": {},
     "output_type": "execute_result"
    }
   ],
   "source": [
    "(T - (W+dh*0.3))/T * 100"
   ]
  },
  {
   "cell_type": "code",
   "execution_count": null,
   "metadata": {},
   "outputs": [],
   "source": []
  }
 ],
 "metadata": {
  "kernelspec": {
   "display_name": "Python 3",
   "language": "python",
   "name": "python3"
  },
  "language_info": {
   "codemirror_mode": {
    "name": "ipython",
    "version": 3
   },
   "file_extension": ".py",
   "mimetype": "text/x-python",
   "name": "python",
   "nbconvert_exporter": "python",
   "pygments_lexer": "ipython3",
   "version": "3.7.3"
  }
 },
 "nbformat": 4,
 "nbformat_minor": 4
}
