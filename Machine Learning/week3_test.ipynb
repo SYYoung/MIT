{
 "cells": [
  {
   "cell_type": "code",
   "execution_count": 1,
   "metadata": {},
   "outputs": [],
   "source": [
    "import numpy as np\n",
    "import matplotlib.pyplot as plt\n",
    "%matplotlib inline\n",
    "import sklearn"
   ]
  },
  {
   "cell_type": "code",
   "execution_count": 37,
   "metadata": {},
   "outputs": [],
   "source": [
    "def f(Z):\n",
    "    t2 = np.apply_along_axis(lambda m: m if m > 0 else 0, 1, Z)\n",
    "    return t2"
   ]
  },
  {
   "cell_type": "code",
   "execution_count": 38,
   "metadata": {},
   "outputs": [],
   "source": [
    "def getZ(X, W):\n",
    "    return np.matmul(W, X)"
   ]
  },
  {
   "cell_type": "code",
   "execution_count": 39,
   "metadata": {},
   "outputs": [],
   "source": [
    "def u(fZ, V):\n",
    "    return np.matmul(V, fZ)"
   ]
  },
  {
   "cell_type": "code",
   "execution_count": 40,
   "metadata": {},
   "outputs": [
    {
     "data": {
      "text/plain": [
       "array([[1],\n",
       "       [0],\n",
       "       [0],\n",
       "       [5]])"
      ]
     },
     "execution_count": 40,
     "metadata": {},
     "output_type": "execute_result"
    }
   ],
   "source": [
    "t1 = np.array([1,0,-1,5]).reshape(4,1)\n",
    "np.apply_along_axis(lambda x: x if x > 0 else 0, 1, t1)"
   ]
  },
  {
   "cell_type": "code",
   "execution_count": 41,
   "metadata": {},
   "outputs": [],
   "source": [
    "def getOutput(U):\n",
    "    fu = f(U)\n",
    "    t1 = np.exp(fu)\n",
    "    t1 = t1/(np.sum(t1))"
   ]
  },
  {
   "cell_type": "code",
   "execution_count": 42,
   "metadata": {},
   "outputs": [
    {
     "data": {
      "text/plain": [
       "(array([[ 1,  0, -1],\n",
       "        [ 0,  1, -1],\n",
       "        [-1,  0, -1],\n",
       "        [ 0, -1, -1]]),\n",
       " array([[ 1,  1,  1,  1,  0],\n",
       "        [-1, -1, -1, -1,  2]]))"
      ]
     },
     "execution_count": 42,
     "metadata": {},
     "output_type": "execute_result"
    }
   ],
   "source": [
    "w = np.array([[1, 0, -1], [0, 1, -1], [-1,0,-1],[0,-1,-1]])\n",
    "v = np.array([[1,1,1,1,0],[-1,-1,-1,-1,2]])\n",
    "w,v"
   ]
  },
  {
   "cell_type": "code",
   "execution_count": 43,
   "metadata": {},
   "outputs": [
    {
     "data": {
      "text/plain": [
       "array([[ 3],\n",
       "       [14],\n",
       "       [ 1]])"
      ]
     },
     "execution_count": 43,
     "metadata": {},
     "output_type": "execute_result"
    }
   ],
   "source": [
    "x = np.array([3,14,1]).reshape(3,1)\n",
    "x"
   ]
  },
  {
   "cell_type": "code",
   "execution_count": 44,
   "metadata": {},
   "outputs": [
    {
     "data": {
      "text/plain": [
       "(array([[  2],\n",
       "        [ 13],\n",
       "        [ -4],\n",
       "        [-15]]),\n",
       " array([[ 2],\n",
       "        [13],\n",
       "        [ 0],\n",
       "        [ 0]]))"
      ]
     },
     "execution_count": 44,
     "metadata": {},
     "output_type": "execute_result"
    }
   ],
   "source": [
    "z = getZ(x,w)\n",
    "fz = f(z)\n",
    "z,fz"
   ]
  },
  {
   "cell_type": "code",
   "execution_count": 59,
   "metadata": {},
   "outputs": [
    {
     "data": {
      "text/plain": [
       "(array([[0],\n",
       "        [1],\n",
       "        [1],\n",
       "        [1],\n",
       "        [1]]),\n",
       " (5, 1),\n",
       " (4, 1))"
      ]
     },
     "execution_count": 59,
     "metadata": {},
     "output_type": "execute_result"
    }
   ],
   "source": [
    "k1 = np.array([[0,1,1,1]])\n",
    "k1 = np.append(k1,[1]).reshape(5,1)\n",
    "k1,k1.shape, fz.shape"
   ]
  },
  {
   "cell_type": "code",
   "execution_count": 60,
   "metadata": {},
   "outputs": [
    {
     "data": {
      "text/plain": [
       "array([[ 3],\n",
       "       [-1]])"
      ]
     },
     "execution_count": 60,
     "metadata": {},
     "output_type": "execute_result"
    }
   ],
   "source": [
    "u12 = u(k1, v)\n",
    "u12"
   ]
  },
  {
   "cell_type": "code",
   "execution_count": 61,
   "metadata": {},
   "outputs": [
    {
     "data": {
      "text/plain": [
       "array([[3],\n",
       "       [0]])"
      ]
     },
     "execution_count": 61,
     "metadata": {},
     "output_type": "execute_result"
    }
   ],
   "source": [
    "t2 = f(u12)\n",
    "t2"
   ]
  },
  {
   "cell_type": "code",
   "execution_count": 2,
   "metadata": {},
   "outputs": [],
   "source": [
    "def sigmoid(x):\n",
    "    return 1/(1 + np.exp(-1*x))"
   ]
  },
  {
   "cell_type": "code",
   "execution_count": 69,
   "metadata": {},
   "outputs": [],
   "source": [
    "def ft_1(Wh, Wx, H, X, B):\n",
    "    t1 = np.matmul(Wh, H) + np.matmul(Wx, X) + B\n",
    "    return sigmoid(t1)\n",
    "\n",
    "def ft_2(Wh, Wx, H, X, B):\n",
    "    t1 = Wh * H + Wx * X + B\n",
    "    return sigmoid(t1)"
   ]
  },
  {
   "cell_type": "code",
   "execution_count": 70,
   "metadata": {},
   "outputs": [
    {
     "data": {
      "text/plain": [
       "0.999983298578152"
      ]
     },
     "execution_count": 70,
     "metadata": {},
     "output_type": "execute_result"
    }
   ],
   "source": [
    "ft_2(1, 2, 3, 4, 0)"
   ]
  },
  {
   "cell_type": "code",
   "execution_count": 89,
   "metadata": {},
   "outputs": [],
   "source": [
    "def getc(F, C, I, Wh, Wx, H, X, B):\n",
    "    t1 = Wh * H + Wx * X + B\n",
    "    ct = F * C + I * np.tanh(t1)\n",
    "    return ct"
   ]
  },
  {
   "cell_type": "code",
   "execution_count": 82,
   "metadata": {},
   "outputs": [],
   "source": [
    "def geth(OT, CT):\n",
    "    return OT* np.tanh(CT)"
   ]
  },
  {
   "cell_type": "code",
   "execution_count": 81,
   "metadata": {},
   "outputs": [],
   "source": [
    "w_fh = 0 \n",
    "w_fx = 0 \n",
    "bf = -100\n",
    "w_ch = -100\n",
    "w_ih = 0 \n",
    "w_ix = 100 \n",
    "bi = 100 \n",
    "w_cx = 50\n",
    "w_oh=0 \n",
    "w_ox = 100 \n",
    "bo = 0 \n",
    "bc = 0"
   ]
  },
  {
   "cell_type": "code",
   "execution_count": 90,
   "metadata": {},
   "outputs": [],
   "source": [
    "i = 0\n",
    "h = 0\n",
    "c = 0\n",
    "x_all = np.array([0,0,1,1,1,0])\n",
    "\n",
    "def cal(c, h, x):\n",
    "    f_t = ft_2(w_fh, w_fx, h, x, bf)\n",
    "    i_t = ft_2(w_ih, w_ix, h, x, bi)\n",
    "    o_t = ft_2(w_oh, w_ox, h, x, bo)\n",
    "    ct = getc(f_t, c, i_t, w_ch, w_cx, h, x, bc)\n",
    "    ht = geth(o_t, ct)\n",
    "    return ct, ht"
   ]
  },
  {
   "cell_type": "code",
   "execution_count": 91,
   "metadata": {},
   "outputs": [
    {
     "data": {
      "text/plain": [
       "(0.0, 0.0)"
      ]
     },
     "execution_count": 91,
     "metadata": {},
     "output_type": "execute_result"
    }
   ],
   "source": [
    "i=0\n",
    "c, h = cal(c,h,x_all[i])\n",
    "c,h"
   ]
  },
  {
   "cell_type": "code",
   "execution_count": 93,
   "metadata": {},
   "outputs": [
    {
     "name": "stdout",
     "output_type": "stream",
     "text": [
      "i =  0 c =  1.0 h =  0.7615941559557649\n",
      "i =  1 c =  -1.0 h =  -0.7615941559557649\n",
      "i =  2 c =  1.0 h =  0.3807970779778824\n",
      "i =  3 c =  0.9999999999114485 h =  0.7615941559185755\n",
      "i =  4 c =  -1.0 h =  -0.7615941559557649\n"
     ]
    }
   ],
   "source": [
    "x_all = np.array([1,1,0,1,1])\n",
    "h = 0\n",
    "c = 0\n",
    "for i in np.arange(5):\n",
    "    c, h = cal(c, h, x_all[i])\n",
    "    print('i = ', i, 'c = ', c, 'h = ', h)"
   ]
  },
  {
   "cell_type": "code",
   "execution_count": 18,
   "metadata": {},
   "outputs": [],
   "source": [
    "def relu(Z):\n",
    "    return max(0, Z)\n",
    "\n",
    "def simple_network():\n",
    "    t = 1\n",
    "    x = 3\n",
    "    w1 = 0.01\n",
    "    w2 = -5\n",
    "    b = -1\n",
    "    \n",
    "    z1 = w1 * x\n",
    "    a1 = relu(z1)\n",
    "    z2 = w2 * a1 + b\n",
    "    y = sigmoid(z2)\n",
    "    C = 0.5 * (y-t)**2\n",
    "    \n",
    "    ans = \"z1 = {}, a1 = {}, z2 = {}, y = {}, C = {}\".format(z1,a1,z2,y,C)\n",
    "    print(ans)\n",
    "    \n",
    "    dc_dw1 = (y-t) * dy_dz2(z2) * w2 * da1_dz1(z1) * x\n",
    "    print('dc_dw1 =', dc_dw1)\n",
    "    \n",
    "    dc_dw2 = (y-t) * dy_dz2(z2) *a1\n",
    "    print('dc_dw2 = ', dc_dw2)\n",
    "    \n",
    "    dc_db = (y-t) * dy_dz2(z2) *1\n",
    "    print('dc_db = ', dc_db)"
   ]
  },
  {
   "cell_type": "code",
   "execution_count": 19,
   "metadata": {},
   "outputs": [
    {
     "name": "stdout",
     "output_type": "stream",
     "text": [
      "z1 = 0.03, a1 = 0.03, z2 = -1.15, y = 0.24048908305088898, C = 0.28842841648243966\n",
      "dc_dw1 = 2.080916562170455\n",
      "dc_dw2 =  -0.004161833124340909\n",
      "dc_db =  -0.13872777081136364\n"
     ]
    }
   ],
   "source": [
    "simple_network()"
   ]
  },
  {
   "cell_type": "code",
   "execution_count": null,
   "metadata": {},
   "outputs": [],
   "source": []
  },
  {
   "cell_type": "code",
   "execution_count": 13,
   "metadata": {},
   "outputs": [],
   "source": [
    "def dc_dy(Y,T):\n",
    "    return Y-T\n",
    "\n",
    "def dy_dz2(Z):\n",
    "    val = np.exp(Z)\n",
    "    return val/(1+val)**2\n",
    "\n",
    "def dz2_w2(A):\n",
    "    return A\n",
    "\n",
    "def dz2_a1(W):\n",
    "    return W\n",
    "\n",
    "def dz2_b(B):\n",
    "    return 1\n",
    "\n",
    "def da1_dz1(Z):\n",
    "    if Z > 0:\n",
    "        return 1\n",
    "    else:\n",
    "        return 0\n",
    "    \n",
    "def dz1_w1(X):\n",
    "    return "
   ]
  },
  {
   "cell_type": "code",
   "execution_count": 7,
   "metadata": {},
   "outputs": [
    {
     "data": {
      "text/plain": [
       "(array([1, 2, 3]), array([2, 1]), array([5, 8]), array([2, 5, 8, 3]))"
      ]
     },
     "execution_count": 7,
     "metadata": {},
     "output_type": "execute_result"
    }
   ],
   "source": [
    "f1 = np.array([1,2,3])\n",
    "g1 = np.array([2,1])\n",
    "g2 = np.convolve(f1,g1,mode='valid')\n",
    "g3 = np.convolve(f1,g1,mode='full')\n",
    "f1,g1,g2,g3"
   ]
  },
  {
   "cell_type": "code",
   "execution_count": 10,
   "metadata": {},
   "outputs": [
    {
     "data": {
      "text/plain": [
       "array([-1, -3,  2,  2,  2,  1, -3])"
      ]
     },
     "execution_count": 10,
     "metadata": {},
     "output_type": "execute_result"
    }
   ],
   "source": [
    "f1 = np.array([1,3,-1,1,-3])\n",
    "g1 = np.array([-1,0,1])\n",
    "g2 = np.convolve(f1,g1,mode='full')\n",
    "g2"
   ]
  },
  {
   "cell_type": "code",
   "execution_count": 11,
   "metadata": {},
   "outputs": [
    {
     "name": "stdout",
     "output_type": "stream",
     "text": [
      "Help on function correlate in module numpy:\n",
      "\n",
      "correlate(a, v, mode='valid')\n",
      "    Cross-correlation of two 1-dimensional sequences.\n",
      "    \n",
      "    This function computes the correlation as generally defined in signal\n",
      "    processing texts::\n",
      "    \n",
      "        c_{av}[k] = sum_n a[n+k] * conj(v[n])\n",
      "    \n",
      "    with a and v sequences being zero-padded where necessary and conj being\n",
      "    the conjugate.\n",
      "    \n",
      "    Parameters\n",
      "    ----------\n",
      "    a, v : array_like\n",
      "        Input sequences.\n",
      "    mode : {'valid', 'same', 'full'}, optional\n",
      "        Refer to the `convolve` docstring.  Note that the default\n",
      "        is 'valid', unlike `convolve`, which uses 'full'.\n",
      "    old_behavior : bool\n",
      "        `old_behavior` was removed in NumPy 1.10. If you need the old\n",
      "        behavior, use `multiarray.correlate`.\n",
      "    \n",
      "    Returns\n",
      "    -------\n",
      "    out : ndarray\n",
      "        Discrete cross-correlation of `a` and `v`.\n",
      "    \n",
      "    See Also\n",
      "    --------\n",
      "    convolve : Discrete, linear convolution of two one-dimensional sequences.\n",
      "    multiarray.correlate : Old, no conjugate, version of correlate.\n",
      "    \n",
      "    Notes\n",
      "    -----\n",
      "    The definition of correlation above is not unique and sometimes correlation\n",
      "    may be defined differently. Another common definition is::\n",
      "    \n",
      "        c'_{av}[k] = sum_n a[n] conj(v[n+k])\n",
      "    \n",
      "    which is related to ``c_{av}[k]`` by ``c'_{av}[k] = c_{av}[-k]``.\n",
      "    \n",
      "    Examples\n",
      "    --------\n",
      "    >>> np.correlate([1, 2, 3], [0, 1, 0.5])\n",
      "    array([3.5])\n",
      "    >>> np.correlate([1, 2, 3], [0, 1, 0.5], \"same\")\n",
      "    array([2. ,  3.5,  3. ])\n",
      "    >>> np.correlate([1, 2, 3], [0, 1, 0.5], \"full\")\n",
      "    array([0.5,  2. ,  3.5,  3. ,  0. ])\n",
      "    \n",
      "    Using complex sequences:\n",
      "    \n",
      "    >>> np.correlate([1+1j, 2, 3-1j], [0, 1, 0.5j], 'full')\n",
      "    array([ 0.5-0.5j,  1.0+0.j ,  1.5-1.5j,  3.0-1.j ,  0.0+0.j ])\n",
      "    \n",
      "    Note that you get the time reversed, complex conjugated result\n",
      "    when the two input sequences change places, i.e.,\n",
      "    ``c_{va}[k] = c^{*}_{av}[-k]``:\n",
      "    \n",
      "    >>> np.correlate([0, 1, 0.5j], [1+1j, 2, 3-1j], 'full')\n",
      "    array([ 0.0+0.j ,  3.0+1.j ,  1.5+1.5j,  1.0+0.j ,  0.5+0.5j])\n",
      "\n"
     ]
    }
   ],
   "source": [
    "help(np.correlate)"
   ]
  },
  {
   "cell_type": "code",
   "execution_count": 14,
   "metadata": {},
   "outputs": [
    {
     "data": {
      "text/plain": [
       "(array([1, 2, 3]), array([1, 2]), array([2, 5, 8, 3]))"
      ]
     },
     "execution_count": 14,
     "metadata": {},
     "output_type": "execute_result"
    }
   ],
   "source": [
    "f1 = np.array([1,2,3])\n",
    "g1 = np.array([1,2])\n",
    "h = np.correlate(f1,g1,\"full\")\n",
    "f1,g1,h"
   ]
  },
  {
   "cell_type": "code",
   "execution_count": 17,
   "metadata": {},
   "outputs": [],
   "source": [
    "from scipy import signal"
   ]
  },
  {
   "cell_type": "code",
   "execution_count": 19,
   "metadata": {},
   "outputs": [
    {
     "data": {
      "text/plain": [
       "array([[1, 0, 0, 0],\n",
       "       [0, 2, 0, 0],\n",
       "       [0, 0, 2, 0],\n",
       "       [0, 0, 0, 1]])"
      ]
     },
     "execution_count": 19,
     "metadata": {},
     "output_type": "execute_result"
    }
   ],
   "source": [
    "f1 = np.array([[1,0,0],[0,1,0],[0,0,1]])\n",
    "g1 = np.array([[1,0],[0,1]])\n",
    "h = signal.correlate2d(f1,g1,\"full\")\n",
    "h"
   ]
  },
  {
   "cell_type": "code",
   "execution_count": null,
   "metadata": {},
   "outputs": [],
   "source": []
  }
 ],
 "metadata": {
  "kernelspec": {
   "display_name": "Python 3",
   "language": "python",
   "name": "python3"
  },
  "language_info": {
   "codemirror_mode": {
    "name": "ipython",
    "version": 3
   },
   "file_extension": ".py",
   "mimetype": "text/x-python",
   "name": "python",
   "nbconvert_exporter": "python",
   "pygments_lexer": "ipython3",
   "version": "3.7.3"
  }
 },
 "nbformat": 4,
 "nbformat_minor": 4
}
