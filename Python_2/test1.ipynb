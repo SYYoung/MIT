{
 "cells": [
  {
   "cell_type": "code",
   "execution_count": 2,
   "metadata": {},
   "outputs": [],
   "source": [
    "def get_all_subsets(some_list):\n",
    "    \"\"\"Returns all subsets of size 0 - len(some_list) for some_list\"\"\"\n",
    "    if len(some_list) == 0:\n",
    "        # If the list is empty, return the empty list\n",
    "        return [[]]\n",
    "    subsets = []\n",
    "    first_elt = some_list[0]\n",
    "    rest_list = some_list[1:]\n",
    "    # Strategy: Get all the subsets of rest_list; for each\n",
    "    # of those subsets, a full subset list will contain both\n",
    "    # the original subset as well as a version of the subset\n",
    "    # that contains first_elt\n",
    "    for partial_subset in get_all_subsets(rest_list):\n",
    "        subsets.append(partial_subset)\n",
    "        print('1',  subsets)\n",
    "        next_subset = partial_subset[:] + [first_elt]\n",
    "        subsets.append(next_subset)\n",
    "        print('2',  subsets)\n",
    "    return subsets\n",
    "\n",
    "NUMBER = 3\n",
    "def look_for_all_the_things(myList):\n",
    "    \"\"\"Looks at all subsets of this list\"\"\"\n",
    "    # Make subsets\n",
    "    all_subsets = get_all_subsets(myList)\n",
    "    for subset in all_subsets:\n",
    "        if sum(subset) == NUMBER:\n",
    "            return True\n",
    "    return False"
   ]
  },
  {
   "cell_type": "code",
   "execution_count": 3,
   "metadata": {},
   "outputs": [
    {
     "name": "stdout",
     "output_type": "stream",
     "text": [
      "1 [[]]\n",
      "2 [[], [3]]\n",
      "1 [[]]\n",
      "2 [[], [2]]\n",
      "1 [[], [2], [3]]\n",
      "2 [[], [2], [3], [3, 2]]\n",
      "1 [[]]\n",
      "2 [[], [1]]\n",
      "1 [[], [1], [2]]\n",
      "2 [[], [1], [2], [2, 1]]\n",
      "1 [[], [1], [2], [2, 1], [3]]\n",
      "2 [[], [1], [2], [2, 1], [3], [3, 1]]\n",
      "1 [[], [1], [2], [2, 1], [3], [3, 1], [3, 2]]\n",
      "2 [[], [1], [2], [2, 1], [3], [3, 1], [3, 2], [3, 2, 1]]\n"
     ]
    },
    {
     "data": {
      "text/plain": [
       "True"
      ]
     },
     "execution_count": 3,
     "metadata": {},
     "output_type": "execute_result"
    }
   ],
   "source": [
    "lista = [1, 2, 3]\n",
    "look_for_all_the_things(lista)"
   ]
  },
  {
   "cell_type": "code",
   "execution_count": 14,
   "metadata": {},
   "outputs": [],
   "source": [
    "# generate all combinations of N items\n",
    "def powerSet(items):\n",
    "    N = len(items)\n",
    "    # enumerate the 2**N possible combinations\n",
    "    for i in range(2**N):\n",
    "        combo = []\n",
    "        for j in range(N):\n",
    "            # test bit jth of integer i\n",
    "            if (i >> j) % 2 == 1:\n",
    "                combo.append(items[j])\n",
    "                print(i, ',', j, ',', combo)\n",
    "        yield combo"
   ]
  },
  {
   "cell_type": "code",
   "execution_count": 25,
   "metadata": {},
   "outputs": [
    {
     "name": "stdout",
     "output_type": "stream",
     "text": [
      "[[], [], []]\n"
     ]
    }
   ],
   "source": [
    "numBags = 3\n",
    "allBag = []\n",
    "for i in range(numBags):\n",
    "    allBag.append([])\n",
    "print(allBag)"
   ]
  },
  {
   "cell_type": "code",
   "execution_count": 42,
   "metadata": {},
   "outputs": [],
   "source": [
    "numBags = 3\n",
    "allBags = []\n",
    "listb = ['a', 'b']\n",
    "    \n",
    "def powerSet1(items):\n",
    "    N = len(items)\n",
    "    # enumerate the 2**N possible combinations\n",
    "    for i in range(numBags**N):\n",
    "        allBags = []\n",
    "        for w in range(numBags):\n",
    "            allBags.append([])\n",
    "        \n",
    "        for j in range(N):\n",
    "            # test bit jth of integer i\n",
    "            whichBag = (i // numBags**j) % numBags\n",
    "            allBags[whichBag].append(items[j])\n",
    "        yield allBags"
   ]
  },
  {
   "cell_type": "code",
   "execution_count": 44,
   "metadata": {},
   "outputs": [
    {
     "name": "stdout",
     "output_type": "stream",
     "text": [
      "[['a', 'b'], [], []]\n",
      "[['b'], ['a'], []]\n",
      "[['b'], [], ['a']]\n",
      "[['a'], ['b'], []]\n",
      "[[], ['a', 'b'], []]\n",
      "[[], ['b'], ['a']]\n",
      "[['a'], [], ['b']]\n",
      "[[], ['a'], ['b']]\n",
      "[[], [], ['a', 'b']]\n"
     ]
    }
   ],
   "source": [
    "for i in powerSet1(listb):\n",
    "    print(i)"
   ]
  },
  {
   "cell_type": "code",
   "execution_count": 35,
   "metadata": {},
   "outputs": [],
   "source": [
    "numBags = 3\n",
    "allBag = []\n",
    "listb = ['a', 'b']\n",
    "    \n",
    "def powerSet1(items):\n",
    "    N = len(items)\n",
    "    # enumerate the 2**N possible combinations\n",
    "    for i in range(numBags**N):\n",
    "        bag1 = []\n",
    "        bag2 = []\n",
    "        for j in range(N):\n",
    "            # test bit jth of integer i\n",
    "            whichBag = (i // numBags**j) % numBags\n",
    "            if whichBag == 1:\n",
    "                bag1.append(items[j])\n",
    "            elif whichBag == 2:\n",
    "                bag2.append(items[j])\n",
    "        yield bag1, bag2"
   ]
  },
  {
   "cell_type": "code",
   "execution_count": 36,
   "metadata": {},
   "outputs": [
    {
     "name": "stdout",
     "output_type": "stream",
     "text": [
      "[] []\n",
      "['a'] []\n",
      "[] ['a']\n",
      "['b'] []\n",
      "['a', 'b'] []\n",
      "['b'] ['a']\n",
      "[] ['b']\n",
      "['a'] ['b']\n",
      "[] ['a', 'b']\n"
     ]
    }
   ],
   "source": [
    "for i,j in powerSet1(listb):\n",
    "    print(i, j)"
   ]
  },
  {
   "cell_type": "code",
   "execution_count": 13,
   "metadata": {},
   "outputs": [
    {
     "name": "stdout",
     "output_type": "stream",
     "text": [
      "[]\n",
      "1 , 0 , [1]\n",
      "[1]\n",
      "2 , 1 , [2]\n",
      "[2]\n",
      "3 , 0 , [1]\n",
      "3 , 1 , [1, 2]\n",
      "[1, 2]\n",
      "4 , 2 , [3]\n",
      "[3]\n",
      "5 , 0 , [1]\n",
      "5 , 2 , [1, 3]\n",
      "[1, 3]\n",
      "6 , 1 , [2]\n",
      "6 , 2 , [2, 3]\n",
      "[2, 3]\n",
      "7 , 0 , [1]\n",
      "7 , 1 , [1, 2]\n",
      "7 , 2 , [1, 2, 3]\n",
      "[1, 2, 3]\n"
     ]
    }
   ],
   "source": [
    "for i in powerSet(lista):\n",
    "    print(i)"
   ]
  },
  {
   "cell_type": "code",
   "execution_count": 19,
   "metadata": {},
   "outputs": [],
   "source": [
    "def yieldAllCombos(items):\n",
    "    allBag1 = powerSet(lista)\n",
    "    for bag1 in allBag1:\n",
    "        allBag2 = powerSet([i for i in lista if i not in bag1])\n",
    "        for bag2 in allBag2:\n",
    "            yield (bag1, bag2)"
   ]
  },
  {
   "cell_type": "code",
   "execution_count": 22,
   "metadata": {},
   "outputs": [
    {
     "name": "stdout",
     "output_type": "stream",
     "text": [
      "bag1: [] , bag2 :  []\n",
      "1 , 0 , [1]\n",
      "bag1: [] , bag2 :  [1]\n",
      "2 , 1 , [2]\n",
      "bag1: [] , bag2 :  [2]\n",
      "3 , 0 , [1]\n",
      "3 , 1 , [1, 2]\n",
      "bag1: [] , bag2 :  [1, 2]\n",
      "4 , 2 , [3]\n",
      "bag1: [] , bag2 :  [3]\n",
      "5 , 0 , [1]\n",
      "5 , 2 , [1, 3]\n",
      "bag1: [] , bag2 :  [1, 3]\n",
      "6 , 1 , [2]\n",
      "6 , 2 , [2, 3]\n",
      "bag1: [] , bag2 :  [2, 3]\n",
      "7 , 0 , [1]\n",
      "7 , 1 , [1, 2]\n",
      "7 , 2 , [1, 2, 3]\n",
      "bag1: [] , bag2 :  [1, 2, 3]\n",
      "1 , 0 , [1]\n",
      "bag1: [1] , bag2 :  []\n",
      "1 , 0 , [2]\n",
      "bag1: [1] , bag2 :  [2]\n",
      "2 , 1 , [3]\n",
      "bag1: [1] , bag2 :  [3]\n",
      "3 , 0 , [2]\n",
      "3 , 1 , [2, 3]\n",
      "bag1: [1] , bag2 :  [2, 3]\n",
      "2 , 1 , [2]\n",
      "bag1: [2] , bag2 :  []\n",
      "1 , 0 , [1]\n",
      "bag1: [2] , bag2 :  [1]\n",
      "2 , 1 , [3]\n",
      "bag1: [2] , bag2 :  [3]\n",
      "3 , 0 , [1]\n",
      "3 , 1 , [1, 3]\n",
      "bag1: [2] , bag2 :  [1, 3]\n",
      "3 , 0 , [1]\n",
      "3 , 1 , [1, 2]\n",
      "bag1: [1, 2] , bag2 :  []\n",
      "1 , 0 , [3]\n",
      "bag1: [1, 2] , bag2 :  [3]\n",
      "4 , 2 , [3]\n",
      "bag1: [3] , bag2 :  []\n",
      "1 , 0 , [1]\n",
      "bag1: [3] , bag2 :  [1]\n",
      "2 , 1 , [2]\n",
      "bag1: [3] , bag2 :  [2]\n",
      "3 , 0 , [1]\n",
      "3 , 1 , [1, 2]\n",
      "bag1: [3] , bag2 :  [1, 2]\n",
      "5 , 0 , [1]\n",
      "5 , 2 , [1, 3]\n",
      "bag1: [1, 3] , bag2 :  []\n",
      "1 , 0 , [2]\n",
      "bag1: [1, 3] , bag2 :  [2]\n",
      "6 , 1 , [2]\n",
      "6 , 2 , [2, 3]\n",
      "bag1: [2, 3] , bag2 :  []\n",
      "1 , 0 , [1]\n",
      "bag1: [2, 3] , bag2 :  [1]\n",
      "7 , 0 , [1]\n",
      "7 , 1 , [1, 2]\n",
      "7 , 2 , [1, 2, 3]\n",
      "bag1: [1, 2, 3] , bag2 :  []\n"
     ]
    }
   ],
   "source": [
    "for i,j in yieldAllCombos(lista):\n",
    "    print('bag1:', i, ', bag2 : ', j)"
   ]
  },
  {
   "cell_type": "code",
   "execution_count": null,
   "metadata": {},
   "outputs": [],
   "source": []
  }
 ],
 "metadata": {
  "kernelspec": {
   "display_name": "Python 3",
   "language": "python",
   "name": "python3"
  },
  "language_info": {
   "codemirror_mode": {
    "name": "ipython",
    "version": 3
   },
   "file_extension": ".py",
   "mimetype": "text/x-python",
   "name": "python",
   "nbconvert_exporter": "python",
   "pygments_lexer": "ipython3",
   "version": "3.7.3"
  }
 },
 "nbformat": 4,
 "nbformat_minor": 4
}
