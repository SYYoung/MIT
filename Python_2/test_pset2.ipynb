{
 "cells": [
  {
   "cell_type": "code",
   "execution_count": 1,
   "metadata": {},
   "outputs": [],
   "source": [
    "import numpy as np\n",
    "import math\n",
    "import random\n",
    "\n",
    "import matplotlib\n",
    "import matplotlib.pyplot as plt\n",
    "matplotlib.use('TkAgg')\n",
    "%matplotlib inline"
   ]
  },
  {
   "cell_type": "code",
   "execution_count": 2,
   "metadata": {},
   "outputs": [
    {
     "data": {
      "text/plain": [
       "array([[0., 0., 0., 0.],\n",
       "       [0., 0., 1., 0.],\n",
       "       [0., 1., 0., 0.]])"
      ]
     },
     "execution_count": 2,
     "metadata": {},
     "output_type": "execute_result"
    }
   ],
   "source": [
    "room = np.zeros((3,4))\n",
    "x,y = (1.5, 2.6)\n",
    "r1 = (math.floor(x), math.floor(y))\n",
    "room[r1] = 1\n",
    "room[2,1] = 1\n",
    "room"
   ]
  },
  {
   "cell_type": "code",
   "execution_count": 3,
   "metadata": {},
   "outputs": [
    {
     "data": {
      "text/plain": [
       "False"
      ]
     },
     "execution_count": 3,
     "metadata": {},
     "output_type": "execute_result"
    }
   ],
   "source": [
    "room[(2,2)] == 1"
   ]
  },
  {
   "cell_type": "code",
   "execution_count": 4,
   "metadata": {},
   "outputs": [
    {
     "data": {
      "text/plain": [
       "12"
      ]
     },
     "execution_count": 4,
     "metadata": {},
     "output_type": "execute_result"
    }
   ],
   "source": [
    "room.shape[0] * room.shape[1]"
   ]
  },
  {
   "cell_type": "code",
   "execution_count": 5,
   "metadata": {},
   "outputs": [
    {
     "data": {
      "text/plain": [
       "array([0., 1., 1., 0.])"
      ]
     },
     "execution_count": 5,
     "metadata": {},
     "output_type": "execute_result"
    }
   ],
   "source": [
    "sum(room)"
   ]
  },
  {
   "cell_type": "code",
   "execution_count": 6,
   "metadata": {},
   "outputs": [
    {
     "data": {
      "text/plain": [
       "2"
      ]
     },
     "execution_count": 6,
     "metadata": {},
     "output_type": "execute_result"
    }
   ],
   "source": [
    "int(np.sum(room))"
   ]
  },
  {
   "cell_type": "code",
   "execution_count": 8,
   "metadata": {},
   "outputs": [
    {
     "data": {
      "text/plain": [
       "(1.745, 3.97)"
      ]
     },
     "execution_count": 8,
     "metadata": {},
     "output_type": "execute_result"
    }
   ],
   "source": [
    "x_1 = 1\n",
    "x_2 = 2\n",
    "y_1 = 3\n",
    "y_2 = 4\n",
    "x1, x2 = (round(np.random.uniform(x_1, x_2),3), round(np.random.uniform(y_1, y_2),3))\n",
    "x1, x2"
   ]
  },
  {
   "cell_type": "code",
   "execution_count": 9,
   "metadata": {},
   "outputs": [
    {
     "data": {
      "text/plain": [
       "False"
      ]
     },
     "execution_count": 9,
     "metadata": {},
     "output_type": "execute_result"
    }
   ],
   "source": [
    "True and False"
   ]
  },
  {
   "cell_type": "code",
   "execution_count": 10,
   "metadata": {},
   "outputs": [
    {
     "data": {
      "text/plain": [
       "False"
      ]
     },
     "execution_count": 10,
     "metadata": {},
     "output_type": "execute_result"
    }
   ],
   "source": [
    "a1 = [[1,2], [3,4], [5,6]]\n",
    "b1 = [2,4]\n",
    "b1 in a1"
   ]
  },
  {
   "cell_type": "code",
   "execution_count": 11,
   "metadata": {},
   "outputs": [],
   "source": [
    "import numpy as np"
   ]
  },
  {
   "cell_type": "code",
   "execution_count": 13,
   "metadata": {},
   "outputs": [],
   "source": [
    "def stdDevOfLengths(L):\n",
    "    if len(L) == 0:\n",
    "        return float('NAN')\n",
    "    lenOfList = np.array([len(i) for i in L])\n",
    "    avg = np.sum(lenOfList)/len(L)\n",
    "    diff = (lenOfList - avg)**2\n",
    "    var = np.sum(diff)/len(diff)\n",
    "    return np.sqrt(var)"
   ]
  },
  {
   "cell_type": "code",
   "execution_count": 15,
   "metadata": {},
   "outputs": [
    {
     "data": {
      "text/plain": [
       "1.8708286933869707"
      ]
     },
     "execution_count": 15,
     "metadata": {},
     "output_type": "execute_result"
    }
   ],
   "source": [
    "L1 = ['a', 'z', 'p']\n",
    "L2 = ['apples', 'oranges', 'kiwis', 'pineapples']\n",
    "stdDevOfLengths(L2)"
   ]
  },
  {
   "cell_type": "code",
   "execution_count": 17,
   "metadata": {},
   "outputs": [
    {
     "data": {
      "text/plain": [
       "0.5034317492677621"
      ]
     },
     "execution_count": 17,
     "metadata": {},
     "output_type": "execute_result"
    }
   ],
   "source": [
    "L1 = [10,4,12,15,20,5]\n",
    "avg = np.mean(L1)\n",
    "std = np.std(L1)\n",
    "coef = std/avg\n",
    "coef"
   ]
  },
  {
   "cell_type": "code",
   "execution_count": 18,
   "metadata": {},
   "outputs": [
    {
     "data": {
      "text/plain": [
       "(array([4.0000e+00, 6.0000e+00, 1.1000e+01, 5.3000e+01, 1.2500e+02,\n",
       "        2.8200e+02, 5.6800e+02, 1.1200e+03, 1.9650e+03, 3.3870e+03,\n",
       "        5.0570e+03, 7.0080e+03, 9.0140e+03, 1.0384e+04, 1.1638e+04,\n",
       "        1.1259e+04, 1.0525e+04, 8.7990e+03, 6.7660e+03, 4.9600e+03,\n",
       "        3.1500e+03, 1.8300e+03, 1.0920e+03, 5.6100e+02, 2.5700e+02,\n",
       "        1.1400e+02, 4.3000e+01, 1.5000e+01, 4.0000e+00, 3.0000e+00]),\n",
       " array([-130.71226478, -121.97246065, -113.23265652, -104.49285239,\n",
       "         -95.75304826,  -87.01324413,  -78.27344   ,  -69.53363587,\n",
       "         -60.79383173,  -52.0540276 ,  -43.31422347,  -34.57441934,\n",
       "         -25.83461521,  -17.09481108,   -8.35500695,    0.38479718,\n",
       "           9.12460132,   17.86440545,   26.60420958,   35.34401371,\n",
       "          44.08381784,   52.82362197,   61.5634261 ,   70.30323023,\n",
       "          79.04303437,   87.7828385 ,   96.52264263,  105.26244676,\n",
       "         114.00225089,  122.74205502,  131.48185915]),\n",
       " <a list of 30 Patch objects>)"
      ]
     },
     "execution_count": 18,
     "metadata": {},
     "output_type": "execute_result"
    },
    {
     "data": {
      "image/png": "[encoded data removed]",
      "text/plain": [
       "<Figure size 432x288 with 1 Axes>"
      ]
     },
     "metadata": {
      "needs_background": "light"
     },
     "output_type": "display_data"
    }
   ],
   "source": [
    "dist = []\n",
    "for i in range(100000):\n",
    "    dist.append(random.gauss(0, 30))\n",
    "plt.hist(dist,30)"
   ]
  },
  {
   "cell_type": "code",
   "execution_count": null,
   "metadata": {},
   "outputs": [],
   "source": []
  }
 ],
 "metadata": {
  "kernelspec": {
   "display_name": "Python 3",
   "language": "python",
   "name": "python3"
  },
  "language_info": {
   "codemirror_mode": {
    "name": "ipython",
    "version": 3
   },
   "file_extension": ".py",
   "mimetype": "text/x-python",
   "name": "python",
   "nbconvert_exporter": "python",
   "pygments_lexer": "ipython3",
   "version": "3.7.3"
  }
 },
 "nbformat": 4,
 "nbformat_minor": 4
}
