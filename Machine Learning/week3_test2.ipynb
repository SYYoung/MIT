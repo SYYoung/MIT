{
 "cells": [
  {
   "cell_type": "code",
   "execution_count": 1,
   "metadata": {},
   "outputs": [],
   "source": [
    "import numpy as np\n",
    "import matplotlib.pyplot as plt\n",
    "%matplotlib inline\n",
    "import torch"
   ]
  },
  {
   "cell_type": "code",
   "execution_count": 2,
   "metadata": {},
   "outputs": [
    {
     "name": "stdout",
     "output_type": "stream",
     "text": [
      "tensor([[1., 1.],\n",
      "        [1., 1.]]) tensor([[0., 0.],\n",
      "        [0., 0.]]) tensor([[-0.2894,  1.5891],\n",
      "        [ 0.8526, -1.2486]])\n"
     ]
    }
   ],
   "source": [
    "some_ones = torch.ones(2,2)\n",
    "some_zeroes = torch.zeros(2,2)\n",
    "some_normals = torch.randn(2,2)\n",
    "print(some_ones, some_zeroes, some_normals)"
   ]
  },
  {
   "cell_type": "code",
   "execution_count": 3,
   "metadata": {},
   "outputs": [],
   "source": [
    "torch_tensor = torch.randn(5,5)\n",
    "numpy_ndarray = torch_tensor.numpy()\n",
    "back_to_torch = torch.from_numpy(numpy_ndarray)"
   ]
  },
  {
   "cell_type": "code",
   "execution_count": 4,
   "metadata": {},
   "outputs": [
    {
     "data": {
      "text/plain": [
       "numpy.ndarray"
      ]
     },
     "execution_count": 4,
     "metadata": {},
     "output_type": "execute_result"
    }
   ],
   "source": [
    "type(torch_tensor.numpy())"
   ]
  },
  {
   "cell_type": "code",
   "execution_count": 5,
   "metadata": {},
   "outputs": [
    {
     "data": {
      "text/plain": [
       "(tensor([[ 0.9778,  1.3684,  0.1286,  0.3441, -1.3430],\n",
       "         [ 0.5586,  0.6562, -0.8346, -0.1246,  0.1214],\n",
       "         [ 1.3994, -1.1964,  1.4761, -2.2471, -0.3135],\n",
       "         [ 1.7451, -2.1885,  2.1255, -2.4344, -0.4238],\n",
       "         [-0.1482,  0.0703, -1.2478,  0.5469,  0.0381]]),\n",
       " tensor([[-0.4232, -1.1714, -1.9961, -1.8511,  1.1269],\n",
       "         [ 1.1135, -0.4517, -0.7750, -0.3368, -0.1573],\n",
       "         [-0.4077,  0.9639,  0.0653,  1.8939,  1.9101],\n",
       "         [ 0.6808,  0.8487, -0.4325, -0.3282, -0.1848],\n",
       "         [ 1.0850, -0.3815, -0.6001,  0.8152,  0.0907]]))"
      ]
     },
     "execution_count": 5,
     "metadata": {},
     "output_type": "execute_result"
    }
   ],
   "source": [
    "a = torch.randn(5,5)\n",
    "b = torch.randn(5,5)\n",
    "a,b"
   ]
  },
  {
   "cell_type": "code",
   "execution_count": 6,
   "metadata": {},
   "outputs": [
    {
     "name": "stdout",
     "output_type": "stream",
     "text": [
      "<class 'torch.Tensor'> tensor(1.4761)\n",
      "1.4761170148849487 <class 'float'>\n"
     ]
    }
   ],
   "source": [
    "another_tensor = a[2,2]\n",
    "print(type(another_tensor), another_tensor)\n",
    "print(another_tensor.item(), type(another_tensor.item()))"
   ]
  },
  {
   "cell_type": "code",
   "execution_count": 7,
   "metadata": {},
   "outputs": [
    {
     "data": {
      "text/plain": [
       "1.4761170148849487"
      ]
     },
     "execution_count": 7,
     "metadata": {},
     "output_type": "execute_result"
    }
   ],
   "source": [
    "another_tensor.item()"
   ]
  },
  {
   "cell_type": "code",
   "execution_count": 8,
   "metadata": {},
   "outputs": [
    {
     "data": {
      "text/plain": [
       "(torch.Tensor, torch.Size([5]))"
      ]
     },
     "execution_count": 8,
     "metadata": {},
     "output_type": "execute_result"
    }
   ],
   "source": [
    "a.size()\n",
    "vec = a[:, 0]\n",
    "type(vec), vec.size()"
   ]
  },
  {
   "cell_type": "code",
   "execution_count": 9,
   "metadata": {},
   "outputs": [
    {
     "name": "stdout",
     "output_type": "stream",
     "text": [
      "torch.Size([5, 5, 1]) tensor([[[ 0.2046],\n",
      "         [-1.5883],\n",
      "         [-0.5253],\n",
      "         [ 0.1205],\n",
      "         [-0.7745]],\n",
      "\n",
      "        [[ 0.1242],\n",
      "         [-0.5797],\n",
      "         [ 0.3491],\n",
      "         [-0.7921],\n",
      "         [ 0.3318]],\n",
      "\n",
      "        [[-0.0632],\n",
      "         [ 0.1020],\n",
      "         [-0.8465],\n",
      "         [-0.5435],\n",
      "         [ 0.6456]],\n",
      "\n",
      "        [[-0.4088],\n",
      "         [ 1.8035],\n",
      "         [-0.2283],\n",
      "         [ 1.7266],\n",
      "         [-1.8089]],\n",
      "\n",
      "        [[ 0.3705],\n",
      "         [-1.6050],\n",
      "         [-0.1363],\n",
      "         [-1.0440],\n",
      "         [ 0.6272]]])\n",
      "tensor([[ 0.2046, -1.5883, -0.5253,  0.1205, -0.7745],\n",
      "        [ 0.1242, -0.5797,  0.3491, -0.7921,  0.3318],\n",
      "        [-0.0632,  0.1020, -0.8465, -0.5435,  0.6456],\n",
      "        [-0.4088,  1.8035, -0.2283,  1.7266, -1.8089],\n",
      "        [ 0.3705, -1.6050, -0.1363, -1.0440,  0.6272]])\n"
     ]
    }
   ],
   "source": [
    "a = torch.randn(5,5)\n",
    "c = a.unsqueeze(-1)\n",
    "print(c.size(), c)\n",
    "print(a)"
   ]
  },
  {
   "cell_type": "code",
   "execution_count": 10,
   "metadata": {},
   "outputs": [
    {
     "name": "stdout",
     "output_type": "stream",
     "text": [
      "tensor([[ 0.2046],\n",
      "        [-1.5883],\n",
      "        [-0.5253],\n",
      "        [ 0.1205],\n",
      "        [-0.7745]])\n"
     ]
    }
   ],
   "source": [
    "print(c[0,:,:])"
   ]
  },
  {
   "cell_type": "code",
   "execution_count": 11,
   "metadata": {},
   "outputs": [
    {
     "name": "stdout",
     "output_type": "stream",
     "text": [
      "tensor([-2.2077,  0.9409])\n",
      "tensor([[-2.2077],\n",
      "        [ 0.9409]])\n"
     ]
    }
   ],
   "source": [
    "a = torch.randn(2)\n",
    "print(a)\n",
    "a = a.unsqueeze(-1)\n",
    "print(a)"
   ]
  },
  {
   "cell_type": "code",
   "execution_count": 12,
   "metadata": {},
   "outputs": [
    {
     "data": {
      "text/plain": [
       "False"
      ]
     },
     "execution_count": 12,
     "metadata": {},
     "output_type": "execute_result"
    }
   ],
   "source": [
    "torch.cuda.is_available()"
   ]
  },
  {
   "cell_type": "code",
   "execution_count": 13,
   "metadata": {},
   "outputs": [
    {
     "name": "stdout",
     "output_type": "stream",
     "text": [
      "tensor([[[ 0.9201,  1.1039,  1.1766],\n",
      "         [-0.8145, -0.7267,  1.6856],\n",
      "         [ 0.7477,  1.1827, -0.1955]],\n",
      "\n",
      "        [[-1.9920,  0.0821, -1.5514],\n",
      "         [ 1.0847, -0.6799, -1.3115],\n",
      "         [-0.5174,  0.8067, -2.5106]],\n",
      "\n",
      "        [[ 0.6026,  0.6728, -0.9120],\n",
      "         [ 0.9425, -0.1461, -0.7508],\n",
      "         [-1.8380, -0.3307,  1.6907]],\n",
      "\n",
      "        [[ 1.1013,  1.4225, -1.3139],\n",
      "         [-0.3674,  0.1213,  1.0319],\n",
      "         [-2.1428, -0.6336, -0.3333]],\n",
      "\n",
      "        [[ 0.9889, -0.6999, -0.0849],\n",
      "         [-1.1034, -0.6842,  0.9954],\n",
      "         [ 1.6170, -1.0193, -0.6379]]]) tensor([[ 0.9201,  1.1039,  1.1766],\n",
      "        [-0.8145, -0.7267,  1.6856],\n",
      "        [ 0.7477,  1.1827, -0.1955]])\n"
     ]
    }
   ],
   "source": [
    "a = torch.randn(5,3,3)\n",
    "b = torch.randn(5,3,3)\n",
    "print(a, a[0,:,:])"
   ]
  },
  {
   "cell_type": "code",
   "execution_count": 14,
   "metadata": {},
   "outputs": [
    {
     "name": "stdout",
     "output_type": "stream",
     "text": [
      "tensor([-0.5082], requires_grad=True)\n"
     ]
    }
   ],
   "source": [
    "x = torch.randn(1, requires_grad=True)\n",
    "print(x)"
   ]
  },
  {
   "cell_type": "code",
   "execution_count": 15,
   "metadata": {},
   "outputs": [
    {
     "name": "stdout",
     "output_type": "stream",
     "text": [
      "None\n"
     ]
    }
   ],
   "source": [
    "print(x.grad)"
   ]
  },
  {
   "cell_type": "code",
   "execution_count": 16,
   "metadata": {},
   "outputs": [
    {
     "data": {
      "text/plain": [
       "tensor([0.6016], grad_fn=<ExpBackward>)"
      ]
     },
     "execution_count": 16,
     "metadata": {},
     "output_type": "execute_result"
    }
   ],
   "source": [
    "y = x.exp()\n",
    "y"
   ]
  },
  {
   "cell_type": "code",
   "execution_count": 17,
   "metadata": {},
   "outputs": [],
   "source": [
    "y.backward()"
   ]
  },
  {
   "cell_type": "code",
   "execution_count": 18,
   "metadata": {},
   "outputs": [
    {
     "name": "stdout",
     "output_type": "stream",
     "text": [
      "tensor([0.6016]) tensor([0.6016], grad_fn=<ExpBackward>)\n"
     ]
    }
   ],
   "source": [
    "print(x.grad,y)"
   ]
  },
  {
   "cell_type": "code",
   "execution_count": 19,
   "metadata": {},
   "outputs": [
    {
     "name": "stdout",
     "output_type": "stream",
     "text": [
      "tensor([-0.2144, -0.7877], requires_grad=True)\n",
      "tensor([0.8070, 0.4549], grad_fn=<ExpBackward>)\n",
      "tensor([0.6016]) tensor([0.8070, 0.4549], grad_fn=<ExpBackward>)\n"
     ]
    }
   ],
   "source": [
    "x1 = torch.randn(2, requires_grad=True)\n",
    "print(x1)\n",
    "y = x1.exp()\n",
    "print(y)\n",
    "y[0].backward()\n",
    "print(x.grad,y)"
   ]
  },
  {
   "cell_type": "code",
   "execution_count": 20,
   "metadata": {},
   "outputs": [
    {
     "name": "stdout",
     "output_type": "stream",
     "text": [
      "tensor([0.3811], requires_grad=True) tensor([0.3173], requires_grad=True)\n",
      "tensor([-358.9839]) tensor([-431.0889])\n",
      "tensor([-1131.3033], grad_fn=<MulBackward0>)\n"
     ]
    }
   ],
   "source": [
    "x_a = torch.randn(1, requires_grad=True)\n",
    "x_b = torch.randn(1, requires_grad=True)\n",
    "print(x_a, x_b)\n",
    "x = x_a * x_b\n",
    "x1 = x**2\n",
    "x2 = 1/x1\n",
    "x3 = x2.exp()\n",
    "x4 = 1 + x3\n",
    "x5 = x4.log()\n",
    "x6 = x5 ** (1/3)\n",
    "x2.backward()\n",
    "print(x_a.grad, x_b.grad)\n",
    "print(-2/x**3)"
   ]
  },
  {
   "cell_type": "code",
   "execution_count": 21,
   "metadata": {},
   "outputs": [
    {
     "name": "stdout",
     "output_type": "stream",
     "text": [
      "tensor([0.0880], requires_grad=True) tensor([0.9394], requires_grad=True)\n",
      "tensor([0.0827], grad_fn=<MulBackward0>)\n",
      "tensor([0.9394]) tensor([0.0880])\n"
     ]
    }
   ],
   "source": [
    "x_a = torch.randn(1, requires_grad=True)\n",
    "x_b = torch.randn(1, requires_grad=True)\n",
    "print(x_a, x_b)\n",
    "x = x_a * x_b\n",
    "print(x)\n",
    "x.backward()\n",
    "print(x_a.grad, x_b.grad)"
   ]
  },
  {
   "cell_type": "code",
   "execution_count": 22,
   "metadata": {},
   "outputs": [],
   "source": [
    "from sklearn.datasets import make_classification"
   ]
  },
  {
   "cell_type": "code",
   "execution_count": 23,
   "metadata": {},
   "outputs": [],
   "source": [
    "#help(make_classification)"
   ]
  },
  {
   "cell_type": "code",
   "execution_count": 24,
   "metadata": {},
   "outputs": [],
   "source": [
    "import torch.nn as nn"
   ]
  },
  {
   "cell_type": "code",
   "execution_count": 26,
   "metadata": {},
   "outputs": [],
   "source": [
    "#help(nn.Sequential)"
   ]
  },
  {
   "cell_type": "code",
   "execution_count": 27,
   "metadata": {},
   "outputs": [],
   "source": [
    "model = nn.Sequential(\n",
    "            nn.Linear(784,10),\n",
    "            nn.LeakyReLU(),\n",
    "            nn.Linear(10,10))"
   ]
  },
  {
   "cell_type": "code",
   "execution_count": 28,
   "metadata": {},
   "outputs": [],
   "source": [
    "import torchvision"
   ]
  },
  {
   "cell_type": "code",
   "execution_count": null,
   "metadata": {},
   "outputs": [],
   "source": []
  }
 ],
 "metadata": {
  "kernelspec": {
   "display_name": "Python 3",
   "language": "python",
   "name": "python3"
  },
  "language_info": {
   "codemirror_mode": {
    "name": "ipython",
    "version": 3
   },
   "file_extension": ".py",
   "mimetype": "text/x-python",
   "name": "python",
   "nbconvert_exporter": "python",
   "pygments_lexer": "ipython3",
   "version": "3.7.3"
  }
 },
 "nbformat": 4,
 "nbformat_minor": 4
}
