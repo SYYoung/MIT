{
 "cells": [
  {
   "cell_type": "code",
   "execution_count": 4,
   "metadata": {},
   "outputs": [],
   "source": [
    "import numpy as np\n",
    "import matplotlib.pyplot as plt\n",
    "%matplotlib inline\n",
    "import torch"
   ]
  },
  {
   "cell_type": "code",
   "execution_count": 5,
   "metadata": {},
   "outputs": [
    {
     "name": "stdout",
     "output_type": "stream",
     "text": [
      "tensor([[1., 1.],\n",
      "        [1., 1.]]) tensor([[0., 0.],\n",
      "        [0., 0.]]) tensor([[-0.4466,  0.2259],\n",
      "        [ 0.6026,  0.3611]])\n"
     ]
    }
   ],
   "source": [
    "some_ones = torch.ones(2,2)\n",
    "some_zeroes = torch.zeros(2,2)\n",
    "some_normals = torch.randn(2,2)\n",
    "print(some_ones, some_zeroes, some_normals)"
   ]
  },
  {
   "cell_type": "code",
   "execution_count": 6,
   "metadata": {},
   "outputs": [],
   "source": [
    "torch_tensor = torch.randn(5,5)\n",
    "numpy_ndarray = torch_tensor.numpy()\n",
    "back_to_torch = torch.from_numpy(numpy_ndarray)"
   ]
  },
  {
   "cell_type": "code",
   "execution_count": 7,
   "metadata": {},
   "outputs": [
    {
     "data": {
      "text/plain": [
       "numpy.ndarray"
      ]
     },
     "execution_count": 7,
     "metadata": {},
     "output_type": "execute_result"
    }
   ],
   "source": [
    "type(torch_tensor.numpy())"
   ]
  },
  {
   "cell_type": "code",
   "execution_count": 8,
   "metadata": {},
   "outputs": [
    {
     "data": {
      "text/plain": [
       "(tensor([[-9.0449e-01,  8.6503e-01, -1.7855e-03, -1.7259e+00,  1.7294e-01],\n",
       "         [-1.5268e+00, -1.0065e+00, -1.3515e+00,  3.1198e-01, -1.3713e+00],\n",
       "         [ 1.3618e+00,  8.0476e-01,  5.5964e-01,  4.9697e-01, -1.7236e+00],\n",
       "         [-6.8471e-01, -9.1636e-01,  7.9464e-02,  7.9682e-02,  1.7528e+00],\n",
       "         [ 4.0861e-01, -1.2163e-01,  1.4056e+00,  2.3811e+00,  1.1450e+00]]),\n",
       " tensor([[ 0.9586, -0.3794,  0.7166,  0.6789, -0.3787],\n",
       "         [ 2.2475, -0.1983, -1.1171,  1.1564,  0.5179],\n",
       "         [ 1.2123,  0.9806, -1.3559,  1.1154,  0.6043],\n",
       "         [ 1.1138,  0.6894,  1.6919, -1.2065,  0.6076],\n",
       "         [ 1.1313,  0.0393, -0.5915, -0.2354, -0.5522]]))"
      ]
     },
     "execution_count": 8,
     "metadata": {},
     "output_type": "execute_result"
    }
   ],
   "source": [
    "a = torch.randn(5,5)\n",
    "b = torch.randn(5,5)\n",
    "a,b"
   ]
  },
  {
   "cell_type": "code",
   "execution_count": 9,
   "metadata": {},
   "outputs": [
    {
     "name": "stdout",
     "output_type": "stream",
     "text": [
      "<class 'torch.Tensor'> tensor(0.5596)\n",
      "0.559638261795044 <class 'float'>\n"
     ]
    }
   ],
   "source": [
    "another_tensor = a[2,2]\n",
    "print(type(another_tensor), another_tensor)\n",
    "print(another_tensor.item(), type(another_tensor.item()))"
   ]
  },
  {
   "cell_type": "code",
   "execution_count": 10,
   "metadata": {},
   "outputs": [
    {
     "data": {
      "text/plain": [
       "0.559638261795044"
      ]
     },
     "execution_count": 10,
     "metadata": {},
     "output_type": "execute_result"
    }
   ],
   "source": [
    "another_tensor.item()"
   ]
  },
  {
   "cell_type": "code",
   "execution_count": 11,
   "metadata": {},
   "outputs": [
    {
     "data": {
      "text/plain": [
       "(torch.Tensor, torch.Size([5]))"
      ]
     },
     "execution_count": 11,
     "metadata": {},
     "output_type": "execute_result"
    }
   ],
   "source": [
    "a.size()\n",
    "vec = a[:, 0]\n",
    "type(vec), vec.size()"
   ]
  },
  {
   "cell_type": "code",
   "execution_count": 12,
   "metadata": {},
   "outputs": [
    {
     "name": "stdout",
     "output_type": "stream",
     "text": [
      "torch.Size([5, 5, 1]) tensor([[[-0.3354],\n",
      "         [ 1.3156],\n",
      "         [ 0.2054],\n",
      "         [-0.9574],\n",
      "         [-0.7730]],\n",
      "\n",
      "        [[ 0.2314],\n",
      "         [ 0.8432],\n",
      "         [ 0.1884],\n",
      "         [-0.2738],\n",
      "         [-0.2201]],\n",
      "\n",
      "        [[ 0.2996],\n",
      "         [-0.9462],\n",
      "         [-0.7697],\n",
      "         [ 1.6345],\n",
      "         [ 1.0159]],\n",
      "\n",
      "        [[ 0.5384],\n",
      "         [ 0.7109],\n",
      "         [-0.6150],\n",
      "         [ 1.2022],\n",
      "         [ 0.6653]],\n",
      "\n",
      "        [[ 1.3198],\n",
      "         [-0.3186],\n",
      "         [ 0.3096],\n",
      "         [-1.2872],\n",
      "         [-0.4402]]])\n",
      "tensor([[-0.3354,  1.3156,  0.2054, -0.9574, -0.7730],\n",
      "        [ 0.2314,  0.8432,  0.1884, -0.2738, -0.2201],\n",
      "        [ 0.2996, -0.9462, -0.7697,  1.6345,  1.0159],\n",
      "        [ 0.5384,  0.7109, -0.6150,  1.2022,  0.6653],\n",
      "        [ 1.3198, -0.3186,  0.3096, -1.2872, -0.4402]])\n"
     ]
    }
   ],
   "source": [
    "a = torch.randn(5,5)\n",
    "c = a.unsqueeze(-1)\n",
    "print(c.size(), c)\n",
    "print(a)"
   ]
  },
  {
   "cell_type": "code",
   "execution_count": 13,
   "metadata": {},
   "outputs": [
    {
     "name": "stdout",
     "output_type": "stream",
     "text": [
      "tensor([[-0.3354],\n",
      "        [ 1.3156],\n",
      "        [ 0.2054],\n",
      "        [-0.9574],\n",
      "        [-0.7730]])\n"
     ]
    }
   ],
   "source": [
    "print(c[0,:,:])"
   ]
  },
  {
   "cell_type": "code",
   "execution_count": 14,
   "metadata": {},
   "outputs": [
    {
     "name": "stdout",
     "output_type": "stream",
     "text": [
      "tensor([-0.6240, -0.1165])\n",
      "tensor([[-0.6240],\n",
      "        [-0.1165]])\n"
     ]
    }
   ],
   "source": [
    "a = torch.randn(2)\n",
    "print(a)\n",
    "a = a.unsqueeze(-1)\n",
    "print(a)"
   ]
  },
  {
   "cell_type": "code",
   "execution_count": 15,
   "metadata": {},
   "outputs": [
    {
     "data": {
      "text/plain": [
       "False"
      ]
     },
     "execution_count": 15,
     "metadata": {},
     "output_type": "execute_result"
    }
   ],
   "source": [
    "torch.cuda.is_available()"
   ]
  },
  {
   "cell_type": "code",
   "execution_count": 16,
   "metadata": {},
   "outputs": [
    {
     "name": "stdout",
     "output_type": "stream",
     "text": [
      "tensor([[[-1.8727,  0.6484, -0.7770],\n",
      "         [-1.0002, -2.6611, -0.4027],\n",
      "         [ 1.3790,  1.4130,  1.4206]],\n",
      "\n",
      "        [[ 1.1326, -0.1465, -0.6465],\n",
      "         [ 0.4402,  1.4284,  0.4816],\n",
      "         [ 2.3044, -0.5667, -1.5102]],\n",
      "\n",
      "        [[ 0.1656,  0.5757, -1.3916],\n",
      "         [-1.5863, -2.2478,  1.3204],\n",
      "         [ 0.6350, -2.0030,  0.0743]],\n",
      "\n",
      "        [[-1.2516,  0.5313,  0.3052],\n",
      "         [-1.9119,  0.6400, -0.3634],\n",
      "         [-0.5589,  0.2975, -0.5623]],\n",
      "\n",
      "        [[ 1.6925, -1.3399,  2.8436],\n",
      "         [-1.3167,  1.8281,  0.5894],\n",
      "         [ 0.9238,  0.8937, -0.2077]]]) tensor([[-1.8727,  0.6484, -0.7770],\n",
      "        [-1.0002, -2.6611, -0.4027],\n",
      "        [ 1.3790,  1.4130,  1.4206]])\n"
     ]
    }
   ],
   "source": [
    "a = torch.randn(5,3,3)\n",
    "b = torch.randn(5,3,3)\n",
    "print(a, a[0,:,:])"
   ]
  },
  {
   "cell_type": "code",
   "execution_count": 17,
   "metadata": {},
   "outputs": [
    {
     "name": "stdout",
     "output_type": "stream",
     "text": [
      "tensor([0.9016], requires_grad=True)\n"
     ]
    }
   ],
   "source": [
    "x = torch.randn(1, requires_grad=True)\n",
    "print(x)"
   ]
  },
  {
   "cell_type": "code",
   "execution_count": 18,
   "metadata": {},
   "outputs": [
    {
     "name": "stdout",
     "output_type": "stream",
     "text": [
      "None\n"
     ]
    }
   ],
   "source": [
    "print(x.grad)"
   ]
  },
  {
   "cell_type": "code",
   "execution_count": 19,
   "metadata": {},
   "outputs": [
    {
     "data": {
      "text/plain": [
       "tensor([2.4636], grad_fn=<ExpBackward>)"
      ]
     },
     "execution_count": 19,
     "metadata": {},
     "output_type": "execute_result"
    }
   ],
   "source": [
    "y = x.exp()\n",
    "y"
   ]
  },
  {
   "cell_type": "code",
   "execution_count": 20,
   "metadata": {},
   "outputs": [],
   "source": [
    "y.backward()"
   ]
  },
  {
   "cell_type": "code",
   "execution_count": 21,
   "metadata": {},
   "outputs": [
    {
     "name": "stdout",
     "output_type": "stream",
     "text": [
      "tensor([2.4636]) tensor([2.4636], grad_fn=<ExpBackward>)\n"
     ]
    }
   ],
   "source": [
    "print(x.grad,y)"
   ]
  },
  {
   "cell_type": "code",
   "execution_count": 22,
   "metadata": {},
   "outputs": [
    {
     "name": "stdout",
     "output_type": "stream",
     "text": [
      "tensor([0.7415, 0.8672], requires_grad=True)\n",
      "tensor([2.0990, 2.3802], grad_fn=<ExpBackward>)\n",
      "tensor([2.4636]) tensor([2.0990, 2.3802], grad_fn=<ExpBackward>)\n"
     ]
    }
   ],
   "source": [
    "x1 = torch.randn(2, requires_grad=True)\n",
    "print(x1)\n",
    "y = x1.exp()\n",
    "print(y)\n",
    "y[0].backward()\n",
    "print(x.grad,y)"
   ]
  },
  {
   "cell_type": "code",
   "execution_count": 23,
   "metadata": {},
   "outputs": [
    {
     "name": "stdout",
     "output_type": "stream",
     "text": [
      "tensor([0.3270], requires_grad=True) tensor([0.5061], requires_grad=True)\n",
      "tensor([-223.2569]) tensor([-144.2513])\n",
      "tensor([-441.1120], grad_fn=<MulBackward0>)\n"
     ]
    }
   ],
   "source": [
    "x_a = torch.randn(1, requires_grad=True)\n",
    "x_b = torch.randn(1, requires_grad=True)\n",
    "print(x_a, x_b)\n",
    "x = x_a * x_b\n",
    "x1 = x**2\n",
    "x2 = 1/x1\n",
    "x3 = x2.exp()\n",
    "x4 = 1 + x3\n",
    "x5 = x4.log()\n",
    "x6 = x5 ** (1/3)\n",
    "x2.backward()\n",
    "print(x_a.grad, x_b.grad)\n",
    "print(-2/x**3)"
   ]
  },
  {
   "cell_type": "code",
   "execution_count": 24,
   "metadata": {},
   "outputs": [
    {
     "name": "stdout",
     "output_type": "stream",
     "text": [
      "tensor([0.6295], requires_grad=True) tensor([-1.5746], requires_grad=True)\n",
      "tensor([-0.9913], grad_fn=<MulBackward0>)\n",
      "tensor([-1.5746]) tensor([0.6295])\n"
     ]
    }
   ],
   "source": [
    "x_a = torch.randn(1, requires_grad=True)\n",
    "x_b = torch.randn(1, requires_grad=True)\n",
    "print(x_a, x_b)\n",
    "x = x_a * x_b\n",
    "print(x)\n",
    "x.backward()\n",
    "print(x_a.grad, x_b.grad)"
   ]
  },
  {
   "cell_type": "code",
   "execution_count": 25,
   "metadata": {},
   "outputs": [],
   "source": [
    "from sklearn.datasets import make_classification"
   ]
  },
  {
   "cell_type": "code",
   "execution_count": 26,
   "metadata": {},
   "outputs": [],
   "source": [
    "#help(make_classification)"
   ]
  },
  {
   "cell_type": "code",
   "execution_count": 27,
   "metadata": {},
   "outputs": [],
   "source": [
    "import torch.nn as nn"
   ]
  },
  {
   "cell_type": "code",
   "execution_count": 28,
   "metadata": {},
   "outputs": [],
   "source": [
    "#help(nn.Sequential)"
   ]
  },
  {
   "cell_type": "code",
   "execution_count": 29,
   "metadata": {},
   "outputs": [],
   "source": [
    "model = nn.Sequential(\n",
    "            nn.Linear(784,10),\n",
    "            nn.LeakyReLU(),\n",
    "            nn.Linear(10,10))"
   ]
  },
  {
   "cell_type": "code",
   "execution_count": 30,
   "metadata": {},
   "outputs": [],
   "source": [
    "import torchvision"
   ]
  },
  {
   "cell_type": "code",
   "execution_count": 31,
   "metadata": {},
   "outputs": [],
   "source": [
    "var_first = np.array([0.9501, 0.9647, 0.972278, 0.975, 0.9773, 0.9795, 0.9793, 0.9816, 0.9816, \\\n",
    "                     0.9826, 0.9843, 0.9826, 0.9846, 0.9833, 0.9818, 0.9841, 0.9838, 0.9821, 0.9851, \\\n",
    "                     0.9833, 0.9871, 0.9853, 0.9833, 0.9846, 0.9861, 0.9851, 0.9831, 0.9823, 0.9853])\n",
    "var_second = np.array([0.9281, 0.9483, 0.9594, 0.9644, 0.9692, 0.97, 0.9747, 0.9775, 0.98, \\\n",
    "                      0.979, 0.98, 0.981, 0.981, 0.9793, 0.9843, 0.981, 0.9838, 0.9823, 0.9826, \\\n",
    "                      0.9838, 0.9823, 0.9841, 0.9838, 0.9858, 0.9879, 0.9866, 0.9851, 0.9833, 0.9843])\n",
    "\n",
    "# for 1/2\n",
    "train_first = np.array([0.8275, 0.9521, 0.9653, 0.9692])\n",
    "train_second = np.array([0.8031, 0.9346, 0.9490, 0.9588])"
   ]
  },
  {
   "cell_type": "code",
   "execution_count": 32,
   "metadata": {},
   "outputs": [
    {
     "data": {
      "image/png": "[encoded data removed]",
      "text/plain": [
       "<Figure size 432x288 with 1 Axes>"
      ]
     },
     "metadata": {
      "needs_background": "light"
     },
     "output_type": "display_data"
    }
   ],
   "source": [
    "plt.plot(var_first)\n",
    "plt.plot(var_second)\n",
    "plt.plot(train_first)\n",
    "plt.plot(train_second)\n",
    "plt.plot(30, 0.9813, 'ro')\n",
    "plt.plot(30, 0.979, 'bo')\n",
    "plt.show()"
   ]
  },
  {
   "cell_type": "code",
   "execution_count": 33,
   "metadata": {},
   "outputs": [],
   "source": [
    "#help(plt.plot)"
   ]
  },
  {
   "cell_type": "code",
   "execution_count": 34,
   "metadata": {},
   "outputs": [
    {
     "data": {
      "text/plain": [
       "array([0., 0., 0., 0., 0., 5., 0., 0., 0., 0., 0., 0., 0., 0., 0., 0., 0.,\n",
       "       0., 0., 0., 0., 0., 0., 0., 0., 0., 0., 0., 0., 0.])"
      ]
     },
     "execution_count": 34,
     "metadata": {},
     "output_type": "execute_result"
    }
   ],
   "source": [
    "t1 = np.zeros(30)\n",
    "t1[5] = 5\n",
    "t1"
   ]
  },
  {
   "cell_type": "code",
   "execution_count": 35,
   "metadata": {},
   "outputs": [
    {
     "data": {
      "text/plain": [
       "array([0.])"
      ]
     },
     "execution_count": 35,
     "metadata": {},
     "output_type": "execute_result"
    }
   ],
   "source": [
    "t1 = np.empty(1)\n",
    "t1"
   ]
  },
  {
   "cell_type": "code",
   "execution_count": 36,
   "metadata": {},
   "outputs": [],
   "source": [
    "train_accuracies_first =  [0.8275411476868327, 0.9521241103202847, 0.9653024911032029, 0.9692782473309609, 0.9747275355871886, 0.9778136120996441, 0.9800100088967971, 0.9823454181494662, 0.9841525800711743, 0.9854314946619217, 0.9860709519572953, 0.9863489768683275, 0.9869884341637011, 0.9881005338078291, 0.9893238434163701, 0.9898798932384342, 0.990547153024911, 0.9916036476868327, 0.991631450177936, 0.9926045373665481, 0.9930771797153025, 0.9927713523131673, 0.9940780693950177, 0.9936610320284698, 0.994244884341637, 0.993966859430605, 0.9945785142348754, 0.9949121441281139, 0.9951067615658363, 0.9955516014234875]\n",
    "train_accuracies_second =  [0.8031027580071174, 0.9346363434163701, 0.9490936387900356, 0.9588245106761566, 0.9627446619217082, 0.9676100978647687, 0.9715580516014235, 0.9742548932384342, 0.9763122775800712, 0.9784252669039146, 0.9804270462633452, 0.9809830960854092, 0.9826512455516014, 0.9846808274021353, 0.9855705071174378, 0.9862377669039146, 0.9870440391459074, 0.988489768683274, 0.9894628558718861, 0.9895740658362989, 0.990825177935943, 0.9901857206405694, 0.9907139679715302, 0.9926601423487544, 0.9916870551601423, 0.9918816725978647, 0.9928825622775801, 0.9932439946619217, 0.9940780693950177, 0.9946063167259787]\n",
    "valid_accuracies_first =  [0.9501008064516129, 0.9647177419354839, 0.9722782258064516, 0.9750504032258065, 0.9773185483870968, 0.9795866935483871, 0.9788306451612904, 0.9793346774193549, 0.9816028225806451, 0.9816028225806451, 0.9826108870967742, 0.984375, 0.9826108870967742, 0.9846270161290323, 0.983366935483871, 0.9818548387096774, 0.9841229838709677, 0.9838709677419355, 0.9821068548387096, 0.9851310483870968, 0.983366935483871, 0.9871471774193549, 0.985383064516129, 0.983366935483871, 0.9846270161290323, 0.9861391129032258, 0.9851310483870968, 0.9831149193548387, 0.9823588709677419, 0.985383064516129]\n",
    "valid_accuracies_second =  [0.9281754032258065, 0.9483366935483871, 0.9594254032258065, 0.9644657258064516, 0.9692540322580645, 0.9700100806451613, 0.9735383064516129, 0.9747983870967742, 0.977570564516129, 0.9800907258064516, 0.9790826612903226, 0.9800907258064516, 0.9810987903225806, 0.9810987903225806, 0.9793346774193549, 0.984375, 0.9810987903225806, 0.9838709677419355, 0.9823588709677419, 0.9826108870967742, 0.9838709677419355, 0.9823588709677419, 0.9841229838709677, 0.9838709677419355, 0.9858870967741935, 0.9879032258064516, 0.9866431451612904, 0.9851310483870968, 0.983366935483871, 0.984375]"
   ]
  },
  {
   "cell_type": "code",
   "execution_count": 37,
   "metadata": {},
   "outputs": [
    {
     "data": {
      "image/png": "[encoded data removed]",
      "text/plain": [
       "<Figure size 432x288 with 1 Axes>"
      ]
     },
     "metadata": {
      "needs_background": "light"
     },
     "output_type": "display_data"
    }
   ],
   "source": [
    "plt.plot(train_accuracies_first)\n",
    "plt.plot(valid_accuracies_first)\n",
    "plt.plot(train_accuracies_second)\n",
    "plt.plot(valid_accuracies_second)\n",
    "plt.plot(30, 0.9813, 'ro')\n",
    "plt.plot(30, 0.979, 'bo')\n",
    "plt.show()"
   ]
  },
  {
   "cell_type": "code",
   "execution_count": 38,
   "metadata": {},
   "outputs": [
    {
     "data": {
      "text/plain": [
       "(0.9898798932384342, 0.9862377669039146, 0.9818548387096774, 0.984375)"
      ]
     },
     "execution_count": 38,
     "metadata": {},
     "output_type": "execute_result"
    }
   ],
   "source": [
    "train_accuracies_first[15], train_accuracies_second[15], valid_accuracies_first[15], valid_accuracies_second[15]"
   ]
  },
  {
   "cell_type": "code",
   "execution_count": 39,
   "metadata": {},
   "outputs": [],
   "source": [
    "## set lr = 0.1 instead of 0.01\n",
    "train_accuracies_first =  [0.9156750444839857, 0.9691114323843416, 0.9739768683274022, 0.9765068950177936, 0.9790647241992882, 0.9804270462633452, 0.9820395907473309, 0.9809830960854092, 0.982456628113879, 0.9806494661921709, 0.9802880338078291, 0.9802880338078291, 0.9814835409252669, 0.979982206405694, 0.9799266014234875]\n",
    "train_accuracies_second =  [0.9000222419928826, 0.9597141903914591, 0.9667760231316725, 0.9697508896797153, 0.9711966192170819, 0.972169706405694, 0.9751167704626335, 0.9747553380782918, 0.976006450177936, 0.9754504003558719, 0.9738656583629893, 0.9747275355871886, 0.9733930160142349, 0.9721141014234875, 0.9743104982206405]\n",
    "valid_accuracies_first =  [0.9700100806451613, 0.9778225806451613, 0.9785786290322581, 0.9805947580645161, 0.9778225806451613, 0.9788306451612904, 0.9798387096774194, 0.9790826612903226, 0.9760584677419355, 0.9778225806451613, 0.9783266129032258, 0.975554435483871, 0.9727822580645161, 0.9730342741935484, 0.9690020161290323]\n",
    "valid_accuracies_second =  [0.9611895161290323, 0.9662298387096774, 0.9740423387096774, 0.9737903225806451, 0.9695060483870968, 0.9742943548387096, 0.9742943548387096, 0.9740423387096774, 0.9730342741935484, 0.9705141129032258, 0.9763104838709677, 0.9768145161290323, 0.9695060483870968, 0.9732862903225806, 0.9679939516129032]"
   ]
  },
  {
   "cell_type": "code",
   "execution_count": 40,
   "metadata": {},
   "outputs": [
    {
     "data": {
      "image/png": "[encoded data removed]",
      "text/plain": [
       "<Figure size 432x288 with 1 Axes>"
      ]
     },
     "metadata": {
      "needs_background": "light"
     },
     "output_type": "display_data"
    }
   ],
   "source": [
    "plt.plot(train_accuracies_first)\n",
    "plt.plot(valid_accuracies_first)\n",
    "plt.plot(train_accuracies_second)\n",
    "plt.plot(valid_accuracies_second)\n",
    "plt.plot(30, 0.967994, 'ro')\n",
    "plt.plot(30, 0.9579, 'bo')\n",
    "plt.show()"
   ]
  },
  {
   "cell_type": "code",
   "execution_count": 41,
   "metadata": {},
   "outputs": [],
   "source": [
    "#help(torch.optim.Adam)"
   ]
  },
  {
   "cell_type": "code",
   "execution_count": 42,
   "metadata": {},
   "outputs": [],
   "source": [
    "train_accuracies_first =  [0.8338523131672598, 0.9535142348754448, 0.9663867882562278, 0.9737266459074733, 0.9759786476868327, 0.9792871441281139, 0.9815947508896797, 0.9829014679715302, 0.9845418149466192, 0.9863489768683275, 0.9872942615658363, 0.9877669039145908, 0.9887121886120996, 0.9899633007117438, 0.9902135231316725, 0.9909363879003559, 0.9913812277580071, 0.991631450177936, 0.9926045373665481, 0.9926323398576512, 0.9936610320284698, 0.9933830071174378, 0.9944951067615658, 0.9946063167259787, 0.9958296263345195, 0.9955794039145908, 0.9957184163701067, 0.9958018238434164, 0.9962744661921709, 0.9969695284697508]\n",
    "train_accuracies_second =  [0.8123053825622776, 0.9363044928825622, 0.9524577402135231, 0.9597697953736655, 0.9664979982206405, 0.9710298042704626, 0.9732540035587188, 0.9768127224199288, 0.9790925266903915, 0.9798987989323843, 0.9829292704626335, 0.9834853202846975, 0.9845696174377224, 0.9858763345195729, 0.9873220640569395, 0.9881283362989324, 0.9891292259786477, 0.9894628558718861, 0.9902413256227758, 0.9914646352313167, 0.9909085854092526, 0.9920762900355872, 0.9926045373665481, 0.9934108096085409, 0.9938834519572953, 0.9944951067615658, 0.9938000444839857, 0.9944395017793595, 0.9950511565836299, 0.9953569839857651]\n",
    "valid_accuracies_first =  [0.9508568548387096, 0.9657258064516129, 0.9692540322580645, 0.9737903225806451, 0.9747983870967742, 0.9768145161290323, 0.9790826612903226, 0.9803427419354839, 0.9816028225806451, 0.9818548387096774, 0.9821068548387096, 0.9810987903225806, 0.9836189516129032, 0.9818548387096774, 0.9826108870967742, 0.9841229838709677, 0.9838709677419355, 0.9858870967741935, 0.9836189516129032, 0.9838709677419355, 0.9848790322580645, 0.9841229838709677, 0.9863911290322581, 0.9868951612903226, 0.9866431451612904, 0.9858870967741935, 0.9858870967741935, 0.9873991935483871, 0.9851310483870968, 0.9841229838709677]\n",
    "valid_accuracies_second =  [0.9311995967741935, 0.9498487903225806, 0.9579133064516129, 0.9662298387096774, 0.9702620967741935, 0.9730342741935484, 0.9747983870967742, 0.9783266129032258, 0.9773185483870968, 0.9780745967741935, 0.9788306451612904, 0.9783266129032258, 0.9785786290322581, 0.9831149193548387, 0.9805947580645161, 0.9798387096774194, 0.9831149193548387, 0.9823588709677419, 0.9813508064516129, 0.9831149193548387, 0.9863911290322581, 0.9871471774193549, 0.9856350806451613, 0.9868951612903226, 0.9856350806451613, 0.9856350806451613, 0.9871471774193549, 0.9866431451612904, 0.9838709677419355, 0.9846270161290323]"
   ]
  },
  {
   "cell_type": "code",
   "execution_count": 43,
   "metadata": {},
   "outputs": [
    {
     "data": {
      "image/png": "[encoded data removed]",
      "text/plain": [
       "<Figure size 432x288 with 1 Axes>"
      ]
     },
     "metadata": {
      "needs_background": "light"
     },
     "output_type": "display_data"
    }
   ],
   "source": [
    "plt.plot(train_accuracies_first)\n",
    "plt.plot(valid_accuracies_first)\n",
    "plt.plot(train_accuracies_second)\n",
    "plt.plot(valid_accuracies_second)\n",
    "plt.plot(30, 0.9828, 'ro')\n",
    "plt.plot(30, 0.9765, 'bo')\n",
    "plt.show()"
   ]
  },
  {
   "cell_type": "code",
   "execution_count": 44,
   "metadata": {},
   "outputs": [],
   "source": [
    "#help(nn.Dropout)"
   ]
  },
  {
   "cell_type": "code",
   "execution_count": 45,
   "metadata": {},
   "outputs": [],
   "source": [
    "train_accuracies_first =  [0.8320451512455516, 0.9545151245551602, 0.9671652580071174, 0.9713078291814946, 0.9759230427046264, 0.978758896797153, 0.98081628113879, 0.9832629003558719, 0.9845418149466192, 0.9853480871886121]\n",
    "train_accuracies_second =  [0.8091637010676157, 0.9374721975088968, 0.9512344306049823, 0.9598810053380783, 0.9634397241992882, 0.9686109875444839, 0.9723921263345195, 0.9760898576512456, 0.9778692170818505, 0.9803158362989324]\n",
    "valid_accuracies_first =  [0.9485887096774194, 0.9662298387096774, 0.9712701612903226, 0.9747983870967742, 0.975554435483871, 0.9785786290322581, 0.9793346774193549, 0.9785786290322581, 0.9803427419354839, 0.9798387096774194]\n",
    "valid_accuracies_second =  [0.9264112903225806, 0.9468245967741935, 0.9591733870967742, 0.9647177419354839, 0.9672379032258065, 0.9695060483870968, 0.9732862903225806, 0.975554435483871, 0.9773185483870968, 0.9768145161290323]"
   ]
  },
  {
   "cell_type": "code",
   "execution_count": 46,
   "metadata": {},
   "outputs": [
    {
     "data": {
      "image/png": "[encoded data removed]",
      "text/plain": [
       "<Figure size 432x288 with 1 Axes>"
      ]
     },
     "metadata": {
      "needs_background": "light"
     },
     "output_type": "display_data"
    }
   ],
   "source": [
    "plt.plot(train_accuracies_first)\n",
    "plt.plot(valid_accuracies_first)\n",
    "plt.plot(train_accuracies_second)\n",
    "plt.plot(valid_accuracies_second)\n",
    "plt.plot(10, 0.9783, 'ro')\n",
    "plt.plot(10, 0.9727, 'bo')\n",
    "plt.show()"
   ]
  },
  {
   "cell_type": "code",
   "execution_count": 47,
   "metadata": {},
   "outputs": [],
   "source": [
    "# nn.dropOut(0.4)\n",
    "train_accuracies_first =  [0.8320451512455516, 0.9545151245551602, 0.9671652580071174, 0.9713078291814946, 0.9759230427046264, 0.978758896797153, 0.98081628113879, 0.9832629003558719, 0.9845418149466192, 0.9853480871886121, 0.9869606316725978, 0.9879615213523132, 0.9881005338078291, 0.9893238434163701, 0.9903525355871886, 0.9913812277580071, 0.991909475088968, 0.9922431049822064, 0.992465524911032, 0.9934664145907474, 0.9932161921708185, 0.9939112544483986, 0.9938834519572953, 0.994661921708185, 0.9951067615658363, 0.9955237989323843, 0.9959130338078291, 0.9953847864768683, 0.9958018238434164, 0.9959964412811388]\n",
    "train_accuracies_second =  [0.8091637010676157, 0.9374721975088968, 0.9512344306049823, 0.9598810053380783, 0.9634397241992882, 0.9686109875444839, 0.9723921263345195, 0.9760898576512456, 0.9778692170818505, 0.9803158362989324, 0.9811221085409253, 0.9829292704626335, 0.9836243327402135, 0.9856539145907474, 0.9872108540925267, 0.9877112989323843, 0.9880449288256228, 0.9893794483985765, 0.9900189056939501, 0.9907695729537367, 0.9915758451957295, 0.9920762900355872, 0.991909475088968, 0.9932161921708185, 0.9929659697508897, 0.9930493772241993, 0.9943282918149466, 0.994383896797153, 0.9948287366548043, 0.9954959964412812]\n",
    "valid_accuracies_first =  [0.9485887096774194, 0.9662298387096774, 0.9712701612903226, 0.9747983870967742, 0.975554435483871, 0.9785786290322581, 0.9793346774193549, 0.9785786290322581, 0.9803427419354839, 0.9798387096774194, 0.9816028225806451, 0.9816028225806451, 0.9828629032258065, 0.983366935483871, 0.9826108870967742, 0.9823588709677419, 0.9836189516129032, 0.983366935483871, 0.9831149193548387, 0.9846270161290323, 0.9836189516129032, 0.9851310483870968, 0.985383064516129, 0.9851310483870968, 0.9841229838709677, 0.9838709677419355, 0.9846270161290323, 0.9846270161290323, 0.9838709677419355, 0.9863911290322581]\n",
    "valid_accuracies_second =  [0.9264112903225806, 0.9468245967741935, 0.9591733870967742, 0.9647177419354839, 0.9672379032258065, 0.9695060483870968, 0.9732862903225806, 0.975554435483871, 0.9773185483870968, 0.9768145161290323, 0.9778225806451613, 0.9785786290322581, 0.9788306451612904, 0.9816028225806451, 0.9800907258064516, 0.9828629032258065, 0.9826108870967742, 0.9841229838709677, 0.9816028225806451, 0.9821068548387096, 0.9818548387096774, 0.9841229838709677, 0.985383064516129, 0.984375, 0.9846270161290323, 0.984375, 0.9848790322580645, 0.9828629032258065, 0.983366935483871, 0.9836189516129032]"
   ]
  },
  {
   "cell_type": "code",
   "execution_count": 49,
   "metadata": {},
   "outputs": [
    {
     "data": {
      "image/png": "[encoded data removed]",
      "text/plain": [
       "<Figure size 432x288 with 1 Axes>"
      ]
     },
     "metadata": {
      "needs_background": "light"
     },
     "output_type": "display_data"
    }
   ],
   "source": [
    "plt.plot(train_accuracies_first)\n",
    "plt.plot(valid_accuracies_first)\n",
    "plt.plot(train_accuracies_second)\n",
    "plt.plot(valid_accuracies_second)\n",
    "plt.plot(30, 0.981099, 'ro')\n",
    "plt.plot(30, 0.976562, 'bo')\n",
    "plt.show()"
   ]
  },
  {
   "cell_type": "code",
   "execution_count": 50,
   "metadata": {},
   "outputs": [],
   "source": [
    "## change conv2d to 64 filters\n",
    "train_accuracies_first =  [0.8259564056939501, 0.953403024911032, 0.9643294039145908, 0.9701957295373665, 0.9752279804270463, 0.977118549822064, 0.9796207740213523, 0.9811777135231317, 0.9829848754448398, 0.9847364323843416]\n",
    "train_accuracies_second =  [0.8047987099644128, 0.9355538256227758, 0.9519016903914591, 0.9594917704626335, 0.9635231316725978, 0.9672208629893239, 0.9720028914590747, 0.9740046708185054, 0.976284475088968, 0.9783696619217082]\n",
    "valid_accuracies_first =  [0.9513608870967742, 0.9664818548387096, 0.9717741935483871, 0.9735383064516129, 0.9770665322580645, 0.977570564516129, 0.9783266129032258, 0.9798387096774194, 0.9798387096774194, 0.9816028225806451]\n",
    "valid_accuracies_second =  [0.9317036290322581, 0.9511088709677419, 0.9606854838709677, 0.9652217741935484, 0.9664818548387096, 0.9720262096774194, 0.9732862903225806, 0.9765625, 0.9763104838709677, 0.9763104838709677]\n"
   ]
  },
  {
   "cell_type": "code",
   "execution_count": 51,
   "metadata": {},
   "outputs": [
    {
     "data": {
      "image/png": "[encoded data removed]",
      "text/plain": [
       "<Figure size 432x288 with 1 Axes>"
      ]
     },
     "metadata": {
      "needs_background": "light"
     },
     "output_type": "display_data"
    }
   ],
   "source": [
    "plt.plot(train_accuracies_first)\n",
    "plt.plot(valid_accuracies_first)\n",
    "plt.plot(train_accuracies_second)\n",
    "plt.plot(valid_accuracies_second)\n",
    "plt.plot(10, 0.979335, 'ro')\n",
    "plt.plot(10, 0.974546, 'bo')\n",
    "plt.show()"
   ]
  },
  {
   "cell_type": "code",
   "execution_count": 52,
   "metadata": {},
   "outputs": [
    {
     "data": {
      "image/png": "[encoded data removed]",
      "text/plain": [
       "<Figure size 432x288 with 1 Axes>"
      ]
     },
     "metadata": {
      "needs_background": "light"
     },
     "output_type": "display_data"
    }
   ],
   "source": [
    "## conv2d to 64 filters, run 30 epochs\n",
    "train_accuracies_first =  [0.8259564056939501, 0.953403024911032, 0.9643294039145908, 0.9701957295373665, 0.9752279804270463, 0.977118549822064, 0.9796207740213523, 0.9811777135231317, 0.9829848754448398, 0.9847364323843416, 0.985209074733096, 0.9863489768683275, 0.9877112989323843, 0.988350756227758, 0.9896574733096085, 0.9901023131672598, 0.9906027580071174, 0.9913812277580071, 0.9917982651245552, 0.9920762900355872, 0.9925767348754448, 0.9931605871886121, 0.9931883896797153, 0.9934386120996441, 0.994383896797153, 0.9945229092526691, 0.9947731316725978, 0.9955237989323843, 0.9955237989323843, 0.9951901690391459]\n",
    "train_accuracies_second =  [0.8047987099644128, 0.9355538256227758, 0.9519016903914591, 0.9594917704626335, 0.9635231316725978, 0.9672208629893239, 0.9720028914590747, 0.9740046708185054, 0.976284475088968, 0.9783696619217082, 0.9802046263345195, 0.9819839857651246, 0.9823732206405694, 0.9845974199288257, 0.9854592971530249, 0.9861265569395018, 0.9876834964412812, 0.9880171263345195, 0.9885453736654805, 0.9894628558718861, 0.990825177935943, 0.9913812277580071, 0.9910197953736655, 0.9927713523131673, 0.9921596975088968, 0.993549822064057, 0.9935220195729537, 0.993549822064057, 0.9947731316725978, 0.9946897241992882]\n",
    "valid_accuracies_first =  [0.9513608870967742, 0.9664818548387096, 0.9717741935483871, 0.9735383064516129, 0.9770665322580645, 0.977570564516129, 0.9783266129032258, 0.9798387096774194, 0.9798387096774194, 0.9816028225806451, 0.9816028225806451, 0.9828629032258065, 0.9831149193548387, 0.9821068548387096, 0.9841229838709677, 0.9841229838709677, 0.9858870967741935, 0.9846270161290323, 0.984375, 0.9863911290322581, 0.9848790322580645, 0.9866431451612904, 0.9866431451612904, 0.9868951612903226, 0.9868951612903226, 0.9871471774193549, 0.9861391129032258, 0.9863911290322581, 0.985383064516129, 0.9871471774193549]\n",
    "valid_accuracies_second =  [0.9317036290322581, 0.9511088709677419, 0.9606854838709677, 0.9652217741935484, 0.9664818548387096, 0.9720262096774194, 0.9732862903225806, 0.9765625, 0.9763104838709677, 0.9763104838709677, 0.9790826612903226, 0.9803427419354839, 0.9821068548387096, 0.9826108870967742, 0.9836189516129032, 0.983366935483871, 0.9848790322580645, 0.9831149193548387, 0.9836189516129032, 0.985383064516129, 0.9848790322580645, 0.9866431451612904, 0.9831149193548387, 0.985383064516129, 0.9858870967741935, 0.985383064516129, 0.9856350806451613, 0.9871471774193549, 0.9868951612903226, 0.9848790322580645]\n",
    "\n",
    "plt.plot(train_accuracies_first)\n",
    "plt.plot(valid_accuracies_first)\n",
    "plt.plot(train_accuracies_second)\n",
    "plt.plot(valid_accuracies_second)\n",
    "plt.plot(30, 0.982359, 'ro')\n",
    "plt.plot(30, 0.9763, 'bo')\n",
    "plt.show()"
   ]
  },
  {
   "cell_type": "code",
   "execution_count": 53,
   "metadata": {},
   "outputs": [
    {
     "data": {
      "image/png": "[encoded data removed]",
      "text/plain": [
       "<Figure size 432x288 with 1 Axes>"
      ]
     },
     "metadata": {
      "needs_background": "light"
     },
     "output_type": "display_data"
    }
   ],
   "source": [
    "## remove nn.Dropout\n",
    "train_accuracies_first =  [0.8441670373665481, 0.9585186832740213, 0.9698342971530249, 0.9758674377224199, 0.9791481316725978, 0.9815113434163701, 0.9839023576512456, 0.985737322064057, 0.9874610765124555, 0.9889902135231317]\n",
    "train_accuracies_second =  [0.8210075622775801, 0.9413089412811388, 0.9568505338078291, 0.9639123665480427, 0.9694450622775801, 0.9738934608540926, 0.9765625, 0.9794539590747331, 0.9820951957295374, 0.9839301601423488]\n",
    "valid_accuracies_first =  [0.9470766129032258, 0.9601814516129032, 0.9667338709677419, 0.9702620967741935, 0.9737903225806451, 0.9750504032258065, 0.9745463709677419, 0.9750504032258065, 0.9753024193548387, 0.9758064516129032]\n",
    "valid_accuracies_second =  [0.9221270161290323, 0.9453125, 0.9548891129032258, 0.9634576612903226, 0.9679939516129032, 0.9695060483870968, 0.9707661290322581, 0.9732862903225806, 0.9720262096774194, 0.9732862903225806]\n",
    "\n",
    "plt.plot(train_accuracies_first)\n",
    "plt.plot(valid_accuracies_first)\n",
    "plt.plot(train_accuracies_second)\n",
    "plt.plot(valid_accuracies_second)\n",
    "plt.plot(10, 0.976058, 'ro')\n",
    "plt.plot(10, 0.9715, 'bo')\n",
    "plt.show()"
   ]
  },
  {
   "cell_type": "code",
   "execution_count": 54,
   "metadata": {},
   "outputs": [
    {
     "name": "stdout",
     "output_type": "stream",
     "text": [
      "Help on class Sigmoid in module torch.nn.modules.activation:\n",
      "\n",
      "class Sigmoid(torch.nn.modules.module.Module)\n",
      " |  Applies the element-wise function:\n",
      " |  \n",
      " |  .. math::\n",
      " |      \\text{Sigmoid}(x) = \\sigma(x) = \\frac{1}{1 + \\exp(-x)}\n",
      " |  \n",
      " |  \n",
      " |  Shape:\n",
      " |      - Input: :math:`(N, *)` where `*` means, any number of additional\n",
      " |        dimensions\n",
      " |      - Output: :math:`(N, *)`, same shape as the input\n",
      " |  \n",
      " |  .. image:: ../scripts/activation_images/Sigmoid.png\n",
      " |  \n",
      " |  Examples::\n",
      " |  \n",
      " |      >>> m = nn.Sigmoid()\n",
      " |      >>> input = torch.randn(2)\n",
      " |      >>> output = m(input)\n",
      " |  \n",
      " |  Method resolution order:\n",
      " |      Sigmoid\n",
      " |      torch.nn.modules.module.Module\n",
      " |      builtins.object\n",
      " |  \n",
      " |  Methods defined here:\n",
      " |  \n",
      " |  forward(self, input: torch.Tensor) -> torch.Tensor\n",
      " |      Defines the computation performed at every call.\n",
      " |      \n",
      " |      Should be overridden by all subclasses.\n",
      " |      \n",
      " |      .. note::\n",
      " |          Although the recipe for forward pass needs to be defined within\n",
      " |          this function, one should call the :class:`Module` instance afterwards\n",
      " |          instead of this since the former takes care of running the\n",
      " |          registered hooks while the latter silently ignores them.\n",
      " |  \n",
      " |  ----------------------------------------------------------------------\n",
      " |  Methods inherited from torch.nn.modules.module.Module:\n",
      " |  \n",
      " |  __call__ = _call_impl(self, *input, **kwargs)\n",
      " |  \n",
      " |  __delattr__(self, name)\n",
      " |      Implement delattr(self, name).\n",
      " |  \n",
      " |  __dir__(self)\n",
      " |      Default dir() implementation.\n",
      " |  \n",
      " |  __getattr__(self, name: str) -> Union[torch.Tensor, ForwardRef('Module')]\n",
      " |  \n",
      " |  __init__(self)\n",
      " |      Initializes internal Module state, shared by both nn.Module and ScriptModule.\n",
      " |  \n",
      " |  __repr__(self)\n",
      " |      Return repr(self).\n",
      " |  \n",
      " |  __setattr__(self, name: str, value: Union[torch.Tensor, ForwardRef('Module')]) -> None\n",
      " |      Implement setattr(self, name, value).\n",
      " |  \n",
      " |  __setstate__(self, state)\n",
      " |  \n",
      " |  add_module(self, name: str, module: Union[ForwardRef('Module'), NoneType]) -> None\n",
      " |      Adds a child module to the current module.\n",
      " |      \n",
      " |      The module can be accessed as an attribute using the given name.\n",
      " |      \n",
      " |      Args:\n",
      " |          name (string): name of the child module. The child module can be\n",
      " |              accessed from this module using the given name\n",
      " |          module (Module): child module to be added to the module.\n",
      " |  \n",
      " |  apply(self: ~T, fn: Callable[[ForwardRef('Module')], NoneType]) -> ~T\n",
      " |      Applies ``fn`` recursively to every submodule (as returned by ``.children()``)\n",
      " |      as well as self. Typical use includes initializing the parameters of a model\n",
      " |      (see also :ref:`nn-init-doc`).\n",
      " |      \n",
      " |      Args:\n",
      " |          fn (:class:`Module` -> None): function to be applied to each submodule\n",
      " |      \n",
      " |      Returns:\n",
      " |          Module: self\n",
      " |      \n",
      " |      Example::\n",
      " |      \n",
      " |          >>> @torch.no_grad()\n",
      " |          >>> def init_weights(m):\n",
      " |          >>>     print(m)\n",
      " |          >>>     if type(m) == nn.Linear:\n",
      " |          >>>         m.weight.fill_(1.0)\n",
      " |          >>>         print(m.weight)\n",
      " |          >>> net = nn.Sequential(nn.Linear(2, 2), nn.Linear(2, 2))\n",
      " |          >>> net.apply(init_weights)\n",
      " |          Linear(in_features=2, out_features=2, bias=True)\n",
      " |          Parameter containing:\n",
      " |          tensor([[ 1.,  1.],\n",
      " |                  [ 1.,  1.]])\n",
      " |          Linear(in_features=2, out_features=2, bias=True)\n",
      " |          Parameter containing:\n",
      " |          tensor([[ 1.,  1.],\n",
      " |                  [ 1.,  1.]])\n",
      " |          Sequential(\n",
      " |            (0): Linear(in_features=2, out_features=2, bias=True)\n",
      " |            (1): Linear(in_features=2, out_features=2, bias=True)\n",
      " |          )\n",
      " |          Sequential(\n",
      " |            (0): Linear(in_features=2, out_features=2, bias=True)\n",
      " |            (1): Linear(in_features=2, out_features=2, bias=True)\n",
      " |          )\n",
      " |  \n",
      " |  bfloat16(self: ~T) -> ~T\n",
      " |      Casts all floating point parameters and buffers to ``bfloat16`` datatype.\n",
      " |      \n",
      " |      Returns:\n",
      " |          Module: self\n",
      " |  \n",
      " |  buffers(self, recurse: bool = True) -> Iterator[torch.Tensor]\n",
      " |      Returns an iterator over module buffers.\n",
      " |      \n",
      " |      Args:\n",
      " |          recurse (bool): if True, then yields buffers of this module\n",
      " |              and all submodules. Otherwise, yields only buffers that\n",
      " |              are direct members of this module.\n",
      " |      \n",
      " |      Yields:\n",
      " |          torch.Tensor: module buffer\n",
      " |      \n",
      " |      Example::\n",
      " |      \n",
      " |          >>> for buf in model.buffers():\n",
      " |          >>>     print(type(buf), buf.size())\n",
      " |          <class 'torch.Tensor'> (20L,)\n",
      " |          <class 'torch.Tensor'> (20L, 1L, 5L, 5L)\n",
      " |  \n",
      " |  children(self) -> Iterator[ForwardRef('Module')]\n",
      " |      Returns an iterator over immediate children modules.\n",
      " |      \n",
      " |      Yields:\n",
      " |          Module: a child module\n",
      " |  \n",
      " |  cpu(self: ~T) -> ~T\n",
      " |      Moves all model parameters and buffers to the CPU.\n",
      " |      \n",
      " |      Returns:\n",
      " |          Module: self\n",
      " |  \n",
      " |  cuda(self: ~T, device: Union[int, torch.device, NoneType] = None) -> ~T\n",
      " |      Moves all model parameters and buffers to the GPU.\n",
      " |      \n",
      " |      This also makes associated parameters and buffers different objects. So\n",
      " |      it should be called before constructing optimizer if the module will\n",
      " |      live on GPU while being optimized.\n",
      " |      \n",
      " |      Arguments:\n",
      " |          device (int, optional): if specified, all parameters will be\n",
      " |              copied to that device\n",
      " |      \n",
      " |      Returns:\n",
      " |          Module: self\n",
      " |  \n",
      " |  double(self: ~T) -> ~T\n",
      " |      Casts all floating point parameters and buffers to ``double`` datatype.\n",
      " |      \n",
      " |      Returns:\n",
      " |          Module: self\n",
      " |  \n",
      " |  eval(self: ~T) -> ~T\n",
      " |      Sets the module in evaluation mode.\n",
      " |      \n",
      " |      This has any effect only on certain modules. See documentations of\n",
      " |      particular modules for details of their behaviors in training/evaluation\n",
      " |      mode, if they are affected, e.g. :class:`Dropout`, :class:`BatchNorm`,\n",
      " |      etc.\n",
      " |      \n",
      " |      This is equivalent with :meth:`self.train(False) <torch.nn.Module.train>`.\n",
      " |      \n",
      " |      Returns:\n",
      " |          Module: self\n",
      " |  \n",
      " |  extra_repr(self) -> str\n",
      " |      Set the extra representation of the module\n",
      " |      \n",
      " |      To print customized extra information, you should re-implement\n",
      " |      this method in your own modules. Both single-line and multi-line\n",
      " |      strings are acceptable.\n",
      " |  \n",
      " |  float(self: ~T) -> ~T\n",
      " |      Casts all floating point parameters and buffers to float datatype.\n",
      " |      \n",
      " |      Returns:\n",
      " |          Module: self\n",
      " |  \n",
      " |  half(self: ~T) -> ~T\n",
      " |      Casts all floating point parameters and buffers to ``half`` datatype.\n",
      " |      \n",
      " |      Returns:\n",
      " |          Module: self\n",
      " |  \n",
      " |  load_state_dict(self, state_dict: Dict[str, torch.Tensor], strict: bool = True)\n",
      " |      Copies parameters and buffers from :attr:`state_dict` into\n",
      " |      this module and its descendants. If :attr:`strict` is ``True``, then\n",
      " |      the keys of :attr:`state_dict` must exactly match the keys returned\n",
      " |      by this module's :meth:`~torch.nn.Module.state_dict` function.\n",
      " |      \n",
      " |      Arguments:\n",
      " |          state_dict (dict): a dict containing parameters and\n",
      " |              persistent buffers.\n",
      " |          strict (bool, optional): whether to strictly enforce that the keys\n",
      " |              in :attr:`state_dict` match the keys returned by this module's\n",
      " |              :meth:`~torch.nn.Module.state_dict` function. Default: ``True``\n",
      " |      \n",
      " |      Returns:\n",
      " |          ``NamedTuple`` with ``missing_keys`` and ``unexpected_keys`` fields:\n",
      " |              * **missing_keys** is a list of str containing the missing keys\n",
      " |              * **unexpected_keys** is a list of str containing the unexpected keys\n",
      " |  \n",
      " |  modules(self) -> Iterator[ForwardRef('Module')]\n",
      " |      Returns an iterator over all modules in the network.\n",
      " |      \n",
      " |      Yields:\n",
      " |          Module: a module in the network\n",
      " |      \n",
      " |      Note:\n",
      " |          Duplicate modules are returned only once. In the following\n",
      " |          example, ``l`` will be returned only once.\n",
      " |      \n",
      " |      Example::\n",
      " |      \n",
      " |          >>> l = nn.Linear(2, 2)\n",
      " |          >>> net = nn.Sequential(l, l)\n",
      " |          >>> for idx, m in enumerate(net.modules()):\n",
      " |                  print(idx, '->', m)\n",
      " |      \n",
      " |          0 -> Sequential(\n",
      " |            (0): Linear(in_features=2, out_features=2, bias=True)\n",
      " |            (1): Linear(in_features=2, out_features=2, bias=True)\n",
      " |          )\n",
      " |          1 -> Linear(in_features=2, out_features=2, bias=True)\n",
      " |  \n",
      " |  named_buffers(self, prefix: str = '', recurse: bool = True) -> Iterator[Tuple[str, torch.Tensor]]\n",
      " |      Returns an iterator over module buffers, yielding both the\n",
      " |      name of the buffer as well as the buffer itself.\n",
      " |      \n",
      " |      Args:\n",
      " |          prefix (str): prefix to prepend to all buffer names.\n",
      " |          recurse (bool): if True, then yields buffers of this module\n",
      " |              and all submodules. Otherwise, yields only buffers that\n",
      " |              are direct members of this module.\n",
      " |      \n",
      " |      Yields:\n",
      " |          (string, torch.Tensor): Tuple containing the name and buffer\n",
      " |      \n",
      " |      Example::\n",
      " |      \n",
      " |          >>> for name, buf in self.named_buffers():\n",
      " |          >>>    if name in ['running_var']:\n",
      " |          >>>        print(buf.size())\n",
      " |  \n",
      " |  named_children(self) -> Iterator[Tuple[str, ForwardRef('Module')]]\n",
      " |      Returns an iterator over immediate children modules, yielding both\n",
      " |      the name of the module as well as the module itself.\n",
      " |      \n",
      " |      Yields:\n",
      " |          (string, Module): Tuple containing a name and child module\n",
      " |      \n",
      " |      Example::\n",
      " |      \n",
      " |          >>> for name, module in model.named_children():\n",
      " |          >>>     if name in ['conv4', 'conv5']:\n",
      " |          >>>         print(module)\n",
      " |  \n",
      " |  named_modules(self, memo: Union[Set[ForwardRef('Module')], NoneType] = None, prefix: str = '')\n",
      " |      Returns an iterator over all modules in the network, yielding\n",
      " |      both the name of the module as well as the module itself.\n",
      " |      \n",
      " |      Yields:\n",
      " |          (string, Module): Tuple of name and module\n",
      " |      \n",
      " |      Note:\n",
      " |          Duplicate modules are returned only once. In the following\n",
      " |          example, ``l`` will be returned only once.\n",
      " |      \n",
      " |      Example::\n",
      " |      \n",
      " |          >>> l = nn.Linear(2, 2)\n",
      " |          >>> net = nn.Sequential(l, l)\n",
      " |          >>> for idx, m in enumerate(net.named_modules()):\n",
      " |                  print(idx, '->', m)\n",
      " |      \n",
      " |          0 -> ('', Sequential(\n",
      " |            (0): Linear(in_features=2, out_features=2, bias=True)\n",
      " |            (1): Linear(in_features=2, out_features=2, bias=True)\n",
      " |          ))\n",
      " |          1 -> ('0', Linear(in_features=2, out_features=2, bias=True))\n",
      " |  \n",
      " |  named_parameters(self, prefix: str = '', recurse: bool = True) -> Iterator[Tuple[str, torch.Tensor]]\n",
      " |      Returns an iterator over module parameters, yielding both the\n",
      " |      name of the parameter as well as the parameter itself.\n",
      " |      \n",
      " |      Args:\n",
      " |          prefix (str): prefix to prepend to all parameter names.\n",
      " |          recurse (bool): if True, then yields parameters of this module\n",
      " |              and all submodules. Otherwise, yields only parameters that\n",
      " |              are direct members of this module.\n",
      " |      \n",
      " |      Yields:\n",
      " |          (string, Parameter): Tuple containing the name and parameter\n",
      " |      \n",
      " |      Example::\n",
      " |      \n",
      " |          >>> for name, param in self.named_parameters():\n",
      " |          >>>    if name in ['bias']:\n",
      " |          >>>        print(param.size())\n",
      " |  \n",
      " |  parameters(self, recurse: bool = True) -> Iterator[torch.nn.parameter.Parameter]\n",
      " |      Returns an iterator over module parameters.\n",
      " |      \n",
      " |      This is typically passed to an optimizer.\n",
      " |      \n",
      " |      Args:\n",
      " |          recurse (bool): if True, then yields parameters of this module\n",
      " |              and all submodules. Otherwise, yields only parameters that\n",
      " |              are direct members of this module.\n",
      " |      \n",
      " |      Yields:\n",
      " |          Parameter: module parameter\n",
      " |      \n",
      " |      Example::\n",
      " |      \n",
      " |          >>> for param in model.parameters():\n",
      " |          >>>     print(type(param), param.size())\n",
      " |          <class 'torch.Tensor'> (20L,)\n",
      " |          <class 'torch.Tensor'> (20L, 1L, 5L, 5L)\n",
      " |  \n",
      " |  register_backward_hook(self, hook: Callable[[ForwardRef('Module'), Union[Tuple[torch.Tensor, ...], torch.Tensor], Union[Tuple[torch.Tensor, ...], torch.Tensor]], Union[NoneType, torch.Tensor]]) -> torch.utils.hooks.RemovableHandle\n",
      " |      Registers a backward hook on the module.\n",
      " |      \n",
      " |      .. warning ::\n",
      " |      \n",
      " |          The current implementation will not have the presented behavior\n",
      " |          for complex :class:`Module` that perform many operations.\n",
      " |          In some failure cases, :attr:`grad_input` and :attr:`grad_output` will only\n",
      " |          contain the gradients for a subset of the inputs and outputs.\n",
      " |          For such :class:`Module`, you should use :func:`torch.Tensor.register_hook`\n",
      " |          directly on a specific input or output to get the required gradients.\n",
      " |      \n",
      " |      The hook will be called every time the gradients with respect to module\n",
      " |      inputs are computed. The hook should have the following signature::\n",
      " |      \n",
      " |          hook(module, grad_input, grad_output) -> Tensor or None\n",
      " |      \n",
      " |      The :attr:`grad_input` and :attr:`grad_output` may be tuples if the\n",
      " |      module has multiple inputs or outputs. The hook should not modify its\n",
      " |      arguments, but it can optionally return a new gradient with respect to\n",
      " |      input that will be used in place of :attr:`grad_input` in subsequent\n",
      " |      computations. :attr:`grad_input` will only correspond to the inputs given\n",
      " |      as positional arguments.\n",
      " |      \n",
      " |      Returns:\n",
      " |          :class:`torch.utils.hooks.RemovableHandle`:\n",
      " |              a handle that can be used to remove the added hook by calling\n",
      " |              ``handle.remove()``\n",
      " |  \n",
      " |  register_buffer(self, name: str, tensor: Union[torch.Tensor, NoneType], persistent: bool = True) -> None\n",
      " |      Adds a buffer to the module.\n",
      " |      \n",
      " |      This is typically used to register a buffer that should not to be\n",
      " |      considered a model parameter. For example, BatchNorm's ``running_mean``\n",
      " |      is not a parameter, but is part of the module's state. Buffers, by\n",
      " |      default, are persistent and will be saved alongside parameters. This\n",
      " |      behavior can be changed by setting :attr:`persistent` to ``False``. The\n",
      " |      only difference between a persistent buffer and a non-persistent buffer\n",
      " |      is that the latter will not be a part of this module's\n",
      " |      :attr:`state_dict`.\n",
      " |      \n",
      " |      Buffers can be accessed as attributes using given names.\n",
      " |      \n",
      " |      Args:\n",
      " |          name (string): name of the buffer. The buffer can be accessed\n",
      " |              from this module using the given name\n",
      " |          tensor (Tensor): buffer to be registered.\n",
      " |          persistent (bool): whether the buffer is part of this module's\n",
      " |              :attr:`state_dict`.\n",
      " |      \n",
      " |      Example::\n",
      " |      \n",
      " |          >>> self.register_buffer('running_mean', torch.zeros(num_features))\n",
      " |  \n",
      " |  register_forward_hook(self, hook: Callable[..., NoneType]) -> torch.utils.hooks.RemovableHandle\n",
      " |      Registers a forward hook on the module.\n",
      " |      \n",
      " |      The hook will be called every time after :func:`forward` has computed an output.\n",
      " |      It should have the following signature::\n",
      " |      \n",
      " |          hook(module, input, output) -> None or modified output\n",
      " |      \n",
      " |      The input contains only the positional arguments given to the module.\n",
      " |      Keyword arguments won't be passed to the hooks and only to the ``forward``.\n",
      " |      The hook can modify the output. It can modify the input inplace but\n",
      " |      it will not have effect on forward since this is called after\n",
      " |      :func:`forward` is called.\n",
      " |      \n",
      " |      Returns:\n",
      " |          :class:`torch.utils.hooks.RemovableHandle`:\n",
      " |              a handle that can be used to remove the added hook by calling\n",
      " |              ``handle.remove()``\n",
      " |  \n",
      " |  register_forward_pre_hook(self, hook: Callable[..., NoneType]) -> torch.utils.hooks.RemovableHandle\n",
      " |      Registers a forward pre-hook on the module.\n",
      " |      \n",
      " |      The hook will be called every time before :func:`forward` is invoked.\n",
      " |      It should have the following signature::\n",
      " |      \n",
      " |          hook(module, input) -> None or modified input\n",
      " |      \n",
      " |      The input contains only the positional arguments given to the module.\n",
      " |      Keyword arguments won't be passed to the hooks and only to the ``forward``.\n",
      " |      The hook can modify the input. User can either return a tuple or a\n",
      " |      single modified value in the hook. We will wrap the value into a tuple\n",
      " |      if a single value is returned(unless that value is already a tuple).\n",
      " |      \n",
      " |      Returns:\n",
      " |          :class:`torch.utils.hooks.RemovableHandle`:\n",
      " |              a handle that can be used to remove the added hook by calling\n",
      " |              ``handle.remove()``\n",
      " |  \n",
      " |  register_parameter(self, name: str, param: Union[torch.nn.parameter.Parameter, NoneType]) -> None\n",
      " |      Adds a parameter to the module.\n",
      " |      \n",
      " |      The parameter can be accessed as an attribute using given name.\n",
      " |      \n",
      " |      Args:\n",
      " |          name (string): name of the parameter. The parameter can be accessed\n",
      " |              from this module using the given name\n",
      " |          param (Parameter): parameter to be added to the module.\n",
      " |  \n",
      " |  requires_grad_(self: ~T, requires_grad: bool = True) -> ~T\n",
      " |      Change if autograd should record operations on parameters in this\n",
      " |      module.\n",
      " |      \n",
      " |      This method sets the parameters' :attr:`requires_grad` attributes\n",
      " |      in-place.\n",
      " |      \n",
      " |      This method is helpful for freezing part of the module for finetuning\n",
      " |      or training parts of a model individually (e.g., GAN training).\n",
      " |      \n",
      " |      Args:\n",
      " |          requires_grad (bool): whether autograd should record operations on\n",
      " |                                parameters in this module. Default: ``True``.\n",
      " |      \n",
      " |      Returns:\n",
      " |          Module: self\n",
      " |  \n",
      " |  share_memory(self: ~T) -> ~T\n",
      " |  \n",
      " |  state_dict(self, destination=None, prefix='', keep_vars=False)\n",
      " |      Returns a dictionary containing a whole state of the module.\n",
      " |      \n",
      " |      Both parameters and persistent buffers (e.g. running averages) are\n",
      " |      included. Keys are corresponding parameter and buffer names.\n",
      " |      \n",
      " |      Returns:\n",
      " |          dict:\n",
      " |              a dictionary containing a whole state of the module\n",
      " |      \n",
      " |      Example::\n",
      " |      \n",
      " |          >>> module.state_dict().keys()\n",
      " |          ['bias', 'weight']\n",
      " |  \n",
      " |  to(self, *args, **kwargs)\n",
      " |      Moves and/or casts the parameters and buffers.\n",
      " |      \n",
      " |      This can be called as\n",
      " |      \n",
      " |      .. function:: to(device=None, dtype=None, non_blocking=False)\n",
      " |      \n",
      " |      .. function:: to(dtype, non_blocking=False)\n",
      " |      \n",
      " |      .. function:: to(tensor, non_blocking=False)\n",
      " |      \n",
      " |      .. function:: to(memory_format=torch.channels_last)\n",
      " |      \n",
      " |      Its signature is similar to :meth:`torch.Tensor.to`, but only accepts\n",
      " |      floating point desired :attr:`dtype` s. In addition, this method will\n",
      " |      only cast the floating point parameters and buffers to :attr:`dtype`\n",
      " |      (if given). The integral parameters and buffers will be moved\n",
      " |      :attr:`device`, if that is given, but with dtypes unchanged. When\n",
      " |      :attr:`non_blocking` is set, it tries to convert/move asynchronously\n",
      " |      with respect to the host if possible, e.g., moving CPU Tensors with\n",
      " |      pinned memory to CUDA devices.\n",
      " |      \n",
      " |      See below for examples.\n",
      " |      \n",
      " |      .. note::\n",
      " |          This method modifies the module in-place.\n",
      " |      \n",
      " |      Args:\n",
      " |          device (:class:`torch.device`): the desired device of the parameters\n",
      " |              and buffers in this module\n",
      " |          dtype (:class:`torch.dtype`): the desired floating point type of\n",
      " |              the floating point parameters and buffers in this module\n",
      " |          tensor (torch.Tensor): Tensor whose dtype and device are the desired\n",
      " |              dtype and device for all parameters and buffers in this module\n",
      " |          memory_format (:class:`torch.memory_format`): the desired memory\n",
      " |              format for 4D parameters and buffers in this module (keyword\n",
      " |              only argument)\n",
      " |      \n",
      " |      Returns:\n",
      " |          Module: self\n",
      " |      \n",
      " |      Example::\n",
      " |      \n",
      " |          >>> linear = nn.Linear(2, 2)\n",
      " |          >>> linear.weight\n",
      " |          Parameter containing:\n",
      " |          tensor([[ 0.1913, -0.3420],\n",
      " |                  [-0.5113, -0.2325]])\n",
      " |          >>> linear.to(torch.double)\n",
      " |          Linear(in_features=2, out_features=2, bias=True)\n",
      " |          >>> linear.weight\n",
      " |          Parameter containing:\n",
      " |          tensor([[ 0.1913, -0.3420],\n",
      " |                  [-0.5113, -0.2325]], dtype=torch.float64)\n",
      " |          >>> gpu1 = torch.device(\"cuda:1\")\n",
      " |          >>> linear.to(gpu1, dtype=torch.half, non_blocking=True)\n",
      " |          Linear(in_features=2, out_features=2, bias=True)\n",
      " |          >>> linear.weight\n",
      " |          Parameter containing:\n",
      " |          tensor([[ 0.1914, -0.3420],\n",
      " |                  [-0.5112, -0.2324]], dtype=torch.float16, device='cuda:1')\n",
      " |          >>> cpu = torch.device(\"cpu\")\n",
      " |          >>> linear.to(cpu)\n",
      " |          Linear(in_features=2, out_features=2, bias=True)\n",
      " |          >>> linear.weight\n",
      " |          Parameter containing:\n",
      " |          tensor([[ 0.1914, -0.3420],\n",
      " |                  [-0.5112, -0.2324]], dtype=torch.float16)\n",
      " |  \n",
      " |  train(self: ~T, mode: bool = True) -> ~T\n",
      " |      Sets the module in training mode.\n",
      " |      \n",
      " |      This has any effect only on certain modules. See documentations of\n",
      " |      particular modules for details of their behaviors in training/evaluation\n",
      " |      mode, if they are affected, e.g. :class:`Dropout`, :class:`BatchNorm`,\n",
      " |      etc.\n",
      " |      \n",
      " |      Args:\n",
      " |          mode (bool): whether to set training mode (``True``) or evaluation\n",
      " |                       mode (``False``). Default: ``True``.\n",
      " |      \n",
      " |      Returns:\n",
      " |          Module: self\n",
      " |  \n",
      " |  type(self: ~T, dst_type: Union[torch.dtype, str]) -> ~T\n",
      " |      Casts all parameters and buffers to :attr:`dst_type`.\n",
      " |      \n",
      " |      Arguments:\n",
      " |          dst_type (type or string): the desired type\n",
      " |      \n",
      " |      Returns:\n",
      " |          Module: self\n",
      " |  \n",
      " |  zero_grad(self, set_to_none: bool = False) -> None\n",
      " |      Sets gradients of all model parameters to zero. See similar function\n",
      " |      under :class:`torch.optim.Optimizer` for more context.\n",
      " |      \n",
      " |      Arguments:\n",
      " |          set_to_none (bool): instead of setting to zero, set the grads to None.\n",
      " |              See :meth:`torch.optim.Optimizer.zero_grad` for details.\n",
      " |  \n",
      " |  ----------------------------------------------------------------------\n",
      " |  Data descriptors inherited from torch.nn.modules.module.Module:\n",
      " |  \n",
      " |  __dict__\n",
      " |      dictionary for instance variables (if defined)\n",
      " |  \n",
      " |  __weakref__\n",
      " |      list of weak references to the object (if defined)\n",
      " |  \n",
      " |  ----------------------------------------------------------------------\n",
      " |  Data and other attributes inherited from torch.nn.modules.module.Module:\n",
      " |  \n",
      " |  T_destination = ~T_destination\n",
      " |  \n",
      " |  __annotations__ = {'__call__': typing.Callable[..., typing.Any], '_ver...\n",
      " |  \n",
      " |  dump_patches = False\n",
      "\n"
     ]
    }
   ],
   "source": [
    "help(nn.Sigmoid)"
   ]
  },
  {
   "cell_type": "code",
   "execution_count": null,
   "metadata": {},
   "outputs": [],
   "source": []
  }
 ],
 "metadata": {
  "kernelspec": {
   "display_name": "Python 3",
   "language": "python",
   "name": "python3"
  },
  "language_info": {
   "codemirror_mode": {
    "name": "ipython",
    "version": 3
   },
   "file_extension": ".py",
   "mimetype": "text/x-python",
   "name": "python",
   "nbconvert_exporter": "python",
   "pygments_lexer": "ipython3",
   "version": "3.7.3"
  }
 },
 "nbformat": 4,
 "nbformat_minor": 4
}
