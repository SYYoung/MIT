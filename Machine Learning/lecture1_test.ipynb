{
 "cells": [
  {
   "cell_type": "code",
   "execution_count": 1,
   "metadata": {},
   "outputs": [],
   "source": [
    "import numpy as np"
   ]
  },
  {
   "cell_type": "code",
   "execution_count": 2,
   "metadata": {},
   "outputs": [
    {
     "data": {
      "text/plain": [
       "array([0, 0])"
      ]
     },
     "execution_count": 2,
     "metadata": {},
     "output_type": "execute_result"
    }
   ],
   "source": [
    "theta = np.array([0,0])\n",
    "theta"
   ]
  },
  {
   "cell_type": "code",
   "execution_count": 3,
   "metadata": {},
   "outputs": [
    {
     "data": {
      "text/plain": [
       "(array([-1, -1]), array([1, 0]), array([-1. ,  1.5]))"
      ]
     },
     "execution_count": 3,
     "metadata": {},
     "output_type": "execute_result"
    }
   ],
   "source": [
    "x1= np.array([-1,-1])\n",
    "x2 = np.array([1, 0])\n",
    "x3 = np.array([-1,1.5])\n",
    "x1, x2, x3"
   ]
  },
  {
   "cell_type": "code",
   "execution_count": 4,
   "metadata": {},
   "outputs": [
    {
     "data": {
      "text/plain": [
       "array([[-1. , -1. ],\n",
       "       [ 1. ,  0. ],\n",
       "       [-1. ,  1.5]])"
      ]
     },
     "execution_count": 4,
     "metadata": {},
     "output_type": "execute_result"
    }
   ],
   "source": [
    "x = np.array([[-1,-1],[1,0],[-1,1.5]])\n",
    "x"
   ]
  },
  {
   "cell_type": "code",
   "execution_count": 5,
   "metadata": {},
   "outputs": [
    {
     "data": {
      "text/plain": [
       "array([-1., -1.])"
      ]
     },
     "execution_count": 5,
     "metadata": {},
     "output_type": "execute_result"
    }
   ],
   "source": [
    "x[0]"
   ]
  },
  {
   "cell_type": "code",
   "execution_count": 6,
   "metadata": {},
   "outputs": [
    {
     "data": {
      "text/plain": [
       "array([1., 0.])"
      ]
     },
     "execution_count": 6,
     "metadata": {},
     "output_type": "execute_result"
    }
   ],
   "source": [
    "x[1]"
   ]
  },
  {
   "cell_type": "code",
   "execution_count": 7,
   "metadata": {},
   "outputs": [
    {
     "data": {
      "text/plain": [
       "array([-1. ,  1.5])"
      ]
     },
     "execution_count": 7,
     "metadata": {},
     "output_type": "execute_result"
    }
   ],
   "source": [
    "x[2]"
   ]
  },
  {
   "cell_type": "code",
   "execution_count": 8,
   "metadata": {},
   "outputs": [
    {
     "data": {
      "text/plain": [
       "array([ 1, -1,  1])"
      ]
     },
     "execution_count": 8,
     "metadata": {},
     "output_type": "execute_result"
    }
   ],
   "source": [
    "y = np.array([1,-1,1])\n",
    "y"
   ]
  },
  {
   "cell_type": "code",
   "execution_count": 9,
   "metadata": {},
   "outputs": [
    {
     "data": {
      "text/plain": [
       "(array([[-1. , -1. ],\n",
       "        [ 1. ,  0. ],\n",
       "        [-1. ,  1.5]]),\n",
       " array([ 1, -1,  1]))"
      ]
     },
     "execution_count": 9,
     "metadata": {},
     "output_type": "execute_result"
    }
   ],
   "source": [
    "y[0]\n",
    "y.shape[0]\n",
    "x, y"
   ]
  },
  {
   "cell_type": "code",
   "execution_count": 10,
   "metadata": {},
   "outputs": [
    {
     "data": {
      "text/plain": [
       "(array([[-1. , -1. ],\n",
       "        [ 1. ,  0. ],\n",
       "        [-1. ,  1.5]]),\n",
       " array([ 1, -1,  1]))"
      ]
     },
     "execution_count": 10,
     "metadata": {},
     "output_type": "execute_result"
    }
   ],
   "source": [
    "x, y\n"
   ]
  },
  {
   "cell_type": "code",
   "execution_count": 11,
   "metadata": {},
   "outputs": [],
   "source": [
    "def percept(xi, yi, T):\n",
    "    theta = np.array([0,0])\n",
    "    total_mistake = 0\n",
    "    for i in np.arange(T):\n",
    "        for i in np.arange(3):\n",
    "            if (yi[i]*np.dot(theta, xi[i])) <= 0:\n",
    "                theta = theta + yi[i]*xi[i]\n",
    "                total_mistake = total_mistake + 1\n",
    "                print('update theta = ', theta, 'total mistake so far = ', total_mistake)\n",
    "            else:\n",
    "                print('theta no update.')\n",
    "    return theta"
   ]
  },
  {
   "cell_type": "code",
   "execution_count": 12,
   "metadata": {},
   "outputs": [
    {
     "name": "stdout",
     "output_type": "stream",
     "text": [
      "update theta =  [-1. -1.] total mistake so far =  1\n",
      "theta no update.\n",
      "update theta =  [-2.   0.5] total mistake so far =  2\n",
      "theta no update.\n",
      "theta no update.\n",
      "theta no update.\n",
      "theta no update.\n",
      "theta no update.\n",
      "theta no update.\n",
      "theta no update.\n",
      "theta no update.\n",
      "theta no update.\n",
      "theta no update.\n",
      "theta no update.\n",
      "theta no update.\n",
      "theta no update.\n",
      "theta no update.\n",
      "theta no update.\n",
      "theta no update.\n",
      "theta no update.\n",
      "theta no update.\n",
      "theta no update.\n",
      "theta no update.\n",
      "theta no update.\n",
      "theta no update.\n",
      "theta no update.\n",
      "theta no update.\n",
      "theta no update.\n",
      "theta no update.\n",
      "theta no update.\n"
     ]
    }
   ],
   "source": [
    "t1 = percept(x, y, 10)"
   ]
  },
  {
   "cell_type": "code",
   "execution_count": 13,
   "metadata": {},
   "outputs": [
    {
     "data": {
      "text/plain": [
       "(array([[ 1. ,  0. ],\n",
       "        [-1. ,  1.5],\n",
       "        [-1. , -1. ]]),\n",
       " array([-1,  1,  1]))"
      ]
     },
     "execution_count": 13,
     "metadata": {},
     "output_type": "execute_result"
    }
   ],
   "source": [
    "new_x = np.array([x[1],x[2], x[0]])\n",
    "new_y = np.array([-1,1,1])\n",
    "new_x, new_y"
   ]
  },
  {
   "cell_type": "code",
   "execution_count": 14,
   "metadata": {},
   "outputs": [
    {
     "name": "stdout",
     "output_type": "stream",
     "text": [
      "update theta =  [-1.  0.] total mistake so far =  1\n",
      "theta no update.\n",
      "theta no update.\n",
      "theta no update.\n",
      "theta no update.\n",
      "theta no update.\n",
      "theta no update.\n",
      "theta no update.\n",
      "theta no update.\n",
      "theta no update.\n",
      "theta no update.\n",
      "theta no update.\n",
      "theta no update.\n",
      "theta no update.\n",
      "theta no update.\n",
      "theta no update.\n",
      "theta no update.\n",
      "theta no update.\n",
      "theta no update.\n",
      "theta no update.\n",
      "theta no update.\n",
      "theta no update.\n",
      "theta no update.\n",
      "theta no update.\n",
      "theta no update.\n",
      "theta no update.\n",
      "theta no update.\n",
      "theta no update.\n",
      "theta no update.\n",
      "theta no update.\n"
     ]
    }
   ],
   "source": [
    "t2 = percept(new_x, new_y, 10)"
   ]
  },
  {
   "cell_type": "code",
   "execution_count": 15,
   "metadata": {},
   "outputs": [
    {
     "data": {
      "text/plain": [
       "array([[-1., -1.],\n",
       "       [ 1.,  0.],\n",
       "       [-1., 10.]])"
      ]
     },
     "execution_count": 15,
     "metadata": {},
     "output_type": "execute_result"
    }
   ],
   "source": [
    "x[2,1] = 10\n",
    "x"
   ]
  },
  {
   "cell_type": "code",
   "execution_count": 16,
   "metadata": {},
   "outputs": [
    {
     "name": "stdout",
     "output_type": "stream",
     "text": [
      "update theta =  [-1. -1.] total mistake so far =  1\n",
      "theta no update.\n",
      "update theta =  [-2.  9.] total mistake so far =  2\n",
      "update theta =  [-3.  8.] total mistake so far =  3\n",
      "theta no update.\n",
      "theta no update.\n",
      "update theta =  [-4.  7.] total mistake so far =  4\n",
      "theta no update.\n",
      "theta no update.\n",
      "update theta =  [-5.  6.] total mistake so far =  5\n",
      "theta no update.\n",
      "theta no update.\n",
      "update theta =  [-6.  5.] total mistake so far =  6\n",
      "theta no update.\n",
      "theta no update.\n",
      "theta no update.\n",
      "theta no update.\n",
      "theta no update.\n",
      "theta no update.\n",
      "theta no update.\n",
      "theta no update.\n",
      "theta no update.\n",
      "theta no update.\n",
      "theta no update.\n",
      "theta no update.\n",
      "theta no update.\n",
      "theta no update.\n",
      "theta no update.\n",
      "theta no update.\n",
      "theta no update.\n"
     ]
    }
   ],
   "source": [
    "t3 = percept(x, y, 10)"
   ]
  },
  {
   "cell_type": "code",
   "execution_count": 17,
   "metadata": {},
   "outputs": [
    {
     "data": {
      "text/plain": [
       "(array([-1., -1.]), array([1., 0.]), array([-1., 10.]))"
      ]
     },
     "execution_count": 17,
     "metadata": {},
     "output_type": "execute_result"
    }
   ],
   "source": [
    "x0= x[0]\n",
    "x1=x[1]\n",
    "x2=x[2]\n",
    "x0,x1,x2"
   ]
  },
  {
   "cell_type": "code",
   "execution_count": 18,
   "metadata": {},
   "outputs": [
    {
     "data": {
      "text/plain": [
       "array([[ 1.,  0.],\n",
       "       [-1., 10.],\n",
       "       [-1., -1.]])"
      ]
     },
     "execution_count": 18,
     "metadata": {},
     "output_type": "execute_result"
    }
   ],
   "source": [
    "new_x = np.array([x1,x2,x0])\n",
    "new_x"
   ]
  },
  {
   "cell_type": "code",
   "execution_count": 19,
   "metadata": {},
   "outputs": [
    {
     "data": {
      "text/plain": [
       "array([-1,  1,  1])"
      ]
     },
     "execution_count": 19,
     "metadata": {},
     "output_type": "execute_result"
    }
   ],
   "source": [
    "new_y"
   ]
  },
  {
   "cell_type": "code",
   "execution_count": 20,
   "metadata": {},
   "outputs": [
    {
     "name": "stdout",
     "output_type": "stream",
     "text": [
      "update theta =  [-1.  0.] total mistake so far =  1\n",
      "theta no update.\n",
      "theta no update.\n",
      "theta no update.\n",
      "theta no update.\n",
      "theta no update.\n",
      "theta no update.\n",
      "theta no update.\n",
      "theta no update.\n",
      "theta no update.\n",
      "theta no update.\n",
      "theta no update.\n",
      "theta no update.\n",
      "theta no update.\n",
      "theta no update.\n",
      "theta no update.\n",
      "theta no update.\n",
      "theta no update.\n",
      "theta no update.\n",
      "theta no update.\n",
      "theta no update.\n",
      "theta no update.\n",
      "theta no update.\n",
      "theta no update.\n",
      "theta no update.\n",
      "theta no update.\n",
      "theta no update.\n",
      "theta no update.\n",
      "theta no update.\n",
      "theta no update.\n"
     ]
    }
   ],
   "source": [
    "t4 = percept(new_x, new_y, 10)"
   ]
  },
  {
   "cell_type": "code",
   "execution_count": 21,
   "metadata": {},
   "outputs": [
    {
     "data": {
      "text/plain": [
       "3"
      ]
     },
     "execution_count": 21,
     "metadata": {},
     "output_type": "execute_result"
    }
   ],
   "source": [
    "x.shape[0]"
   ]
  },
  {
   "cell_type": "code",
   "execution_count": 22,
   "metadata": {},
   "outputs": [],
   "source": [
    "def percept_1(xi, yi, T, theta, theta_0):\n",
    "    total_mistake = 0\n",
    "    num = xi.shape[0]\n",
    "    for i in np.arange(T):\n",
    "        for i in np.arange(num):\n",
    "            h = np.dot(theta, xi[i]) + theta_0\n",
    "            if (yi[i]*h) <= 0:\n",
    "                theta = theta + yi[i]*xi[i]\n",
    "                theta_0 = theta_0 + yi[i]\n",
    "                total_mistake = total_mistake + 1\n",
    "                print('update theta = ', theta, 'theta_0 =', theta_0, 'total mistake = ', total_mistake)\n",
    "            else:\n",
    "                print('theta no update.', 'x is: ', xi[i])\n",
    "    return theta, theta_0"
   ]
  },
  {
   "cell_type": "code",
   "execution_count": 23,
   "metadata": {},
   "outputs": [
    {
     "data": {
      "text/plain": [
       "(array([[-4,  2],\n",
       "        [-2,  1],\n",
       "        [-1, -1],\n",
       "        [ 2,  2],\n",
       "        [ 1, -2]]),\n",
       " array([ 1,  1, -1, -1, -1]))"
      ]
     },
     "execution_count": 23,
     "metadata": {},
     "output_type": "execute_result"
    }
   ],
   "source": [
    "x = np.array([[-4,2],[-2,1],[-1,-1],[2,2],[1,-2]])\n",
    "y = np.array([1,1,-1,-1,-1])\n",
    "x,y"
   ]
  },
  {
   "cell_type": "code",
   "execution_count": 24,
   "metadata": {},
   "outputs": [
    {
     "name": "stdout",
     "output_type": "stream",
     "text": [
      "update theta =  [-4  2] theta_0 = 1 total mistake =  1\n",
      "theta no update. x is:  [-2  1]\n",
      "update theta =  [-3  3] theta_0 = 0 total mistake =  2\n",
      "update theta =  [-5  1] theta_0 = -1 total mistake =  3\n",
      "theta no update. x is:  [ 1 -2]\n",
      "theta no update. x is:  [-4  2]\n",
      "theta no update. x is:  [-2  1]\n",
      "update theta =  [-4  2] theta_0 = -2 total mistake =  4\n",
      "theta no update. x is:  [2 2]\n",
      "theta no update. x is:  [ 1 -2]\n",
      "theta no update. x is:  [-4  2]\n",
      "theta no update. x is:  [-2  1]\n",
      "update theta =  [-3  3] theta_0 = -3 total mistake =  5\n",
      "theta no update. x is:  [2 2]\n",
      "theta no update. x is:  [ 1 -2]\n",
      "theta no update. x is:  [-4  2]\n",
      "theta no update. x is:  [-2  1]\n",
      "theta no update. x is:  [-1 -1]\n",
      "theta no update. x is:  [2 2]\n",
      "theta no update. x is:  [ 1 -2]\n",
      "theta no update. x is:  [-4  2]\n",
      "theta no update. x is:  [-2  1]\n",
      "theta no update. x is:  [-1 -1]\n",
      "theta no update. x is:  [2 2]\n",
      "theta no update. x is:  [ 1 -2]\n",
      "theta no update. x is:  [-4  2]\n",
      "theta no update. x is:  [-2  1]\n",
      "theta no update. x is:  [-1 -1]\n",
      "theta no update. x is:  [2 2]\n",
      "theta no update. x is:  [ 1 -2]\n",
      "theta no update. x is:  [-4  2]\n",
      "theta no update. x is:  [-2  1]\n",
      "theta no update. x is:  [-1 -1]\n",
      "theta no update. x is:  [2 2]\n",
      "theta no update. x is:  [ 1 -2]\n",
      "theta no update. x is:  [-4  2]\n",
      "theta no update. x is:  [-2  1]\n",
      "theta no update. x is:  [-1 -1]\n",
      "theta no update. x is:  [2 2]\n",
      "theta no update. x is:  [ 1 -2]\n",
      "theta no update. x is:  [-4  2]\n",
      "theta no update. x is:  [-2  1]\n",
      "theta no update. x is:  [-1 -1]\n",
      "theta no update. x is:  [2 2]\n",
      "theta no update. x is:  [ 1 -2]\n",
      "theta no update. x is:  [-4  2]\n",
      "theta no update. x is:  [-2  1]\n",
      "theta no update. x is:  [-1 -1]\n",
      "theta no update. x is:  [2 2]\n",
      "theta no update. x is:  [ 1 -2]\n"
     ]
    }
   ],
   "source": [
    "th = np.array([0,0])\n",
    "t_0 = 0\n",
    "new_th, new_t_0 = percept_1(x, y, 10,th, t_0)"
   ]
  },
  {
   "cell_type": "code",
   "execution_count": 25,
   "metadata": {},
   "outputs": [],
   "source": [
    "%matplotlib inline\n",
    "import matplotlib.pyplot as plt"
   ]
  },
  {
   "cell_type": "code",
   "execution_count": 26,
   "metadata": {},
   "outputs": [
    {
     "name": "stdout",
     "output_type": "stream",
     "text": [
      "[[-4  2]\n",
      " [-2  1]\n",
      " [-1 -1]\n",
      " [ 2  2]\n",
      " [ 1 -2]]\n"
     ]
    },
    {
     "data": {
      "text/plain": [
       "(array([-4, -2, -1,  2,  1]), array([ 1,  1, -1, -1, -1]))"
      ]
     },
     "execution_count": 26,
     "metadata": {},
     "output_type": "execute_result"
    }
   ],
   "source": [
    "print(x)\n",
    "x[:, 0], y"
   ]
  },
  {
   "cell_type": "code",
   "execution_count": 27,
   "metadata": {},
   "outputs": [
    {
     "data": {
      "text/plain": [
       "[<matplotlib.lines.Line2D at 0x7f9bbab73ef0>]"
      ]
     },
     "execution_count": 27,
     "metadata": {},
     "output_type": "execute_result"
    },
    {
     "data": {
      "image/png": "[encoded data removed]",
      "text/plain": [
       "<Figure size 432x288 with 1 Axes>"
      ]
     },
     "metadata": {
      "needs_background": "light"
     },
     "output_type": "display_data"
    }
   ],
   "source": [
    "plt.plot(x[:,0], x[:,1])"
   ]
  },
  {
   "cell_type": "code",
   "execution_count": 28,
   "metadata": {},
   "outputs": [],
   "source": [
    "#help(plt.plot)"
   ]
  },
  {
   "cell_type": "code",
   "execution_count": 29,
   "metadata": {},
   "outputs": [
    {
     "name": "stdout",
     "output_type": "stream",
     "text": [
      "theta no update. x is:  [-4  2]\n",
      "theta no update. x is:  [-2  1]\n",
      "theta no update. x is:  [-1 -1]\n",
      "theta no update. x is:  [2 2]\n",
      "theta no update. x is:  [ 1 -2]\n",
      "theta no update. x is:  [-4  2]\n",
      "theta no update. x is:  [-2  1]\n",
      "theta no update. x is:  [-1 -1]\n",
      "theta no update. x is:  [2 2]\n",
      "theta no update. x is:  [ 1 -2]\n",
      "theta no update. x is:  [-4  2]\n",
      "theta no update. x is:  [-2  1]\n",
      "theta no update. x is:  [-1 -1]\n",
      "theta no update. x is:  [2 2]\n",
      "theta no update. x is:  [ 1 -2]\n",
      "theta no update. x is:  [-4  2]\n",
      "theta no update. x is:  [-2  1]\n",
      "theta no update. x is:  [-1 -1]\n",
      "theta no update. x is:  [2 2]\n",
      "theta no update. x is:  [ 1 -2]\n",
      "theta no update. x is:  [-4  2]\n",
      "theta no update. x is:  [-2  1]\n",
      "theta no update. x is:  [-1 -1]\n",
      "theta no update. x is:  [2 2]\n",
      "theta no update. x is:  [ 1 -2]\n",
      "theta no update. x is:  [-4  2]\n",
      "theta no update. x is:  [-2  1]\n",
      "theta no update. x is:  [-1 -1]\n",
      "theta no update. x is:  [2 2]\n",
      "theta no update. x is:  [ 1 -2]\n",
      "theta no update. x is:  [-4  2]\n",
      "theta no update. x is:  [-2  1]\n",
      "theta no update. x is:  [-1 -1]\n",
      "theta no update. x is:  [2 2]\n",
      "theta no update. x is:  [ 1 -2]\n",
      "theta no update. x is:  [-4  2]\n",
      "theta no update. x is:  [-2  1]\n",
      "theta no update. x is:  [-1 -1]\n",
      "theta no update. x is:  [2 2]\n",
      "theta no update. x is:  [ 1 -2]\n",
      "theta no update. x is:  [-4  2]\n",
      "theta no update. x is:  [-2  1]\n",
      "theta no update. x is:  [-1 -1]\n",
      "theta no update. x is:  [2 2]\n",
      "theta no update. x is:  [ 1 -2]\n",
      "theta no update. x is:  [-4  2]\n",
      "theta no update. x is:  [-2  1]\n",
      "theta no update. x is:  [-1 -1]\n",
      "theta no update. x is:  [2 2]\n",
      "theta no update. x is:  [ 1 -2]\n"
     ]
    }
   ],
   "source": [
    "th = np.array([-1, 1])\n",
    "t_0 = -2\n",
    "t1, t2 = percept_1(x, y, 10, th, t_0)"
   ]
  },
  {
   "cell_type": "code",
   "execution_count": 30,
   "metadata": {},
   "outputs": [
    {
     "data": {
      "text/plain": [
       "(array([-1,  1]), -2)"
      ]
     },
     "execution_count": 30,
     "metadata": {},
     "output_type": "execute_result"
    }
   ],
   "source": [
    "t1, t2"
   ]
  },
  {
   "cell_type": "code",
   "execution_count": 31,
   "metadata": {},
   "outputs": [
    {
     "name": "stdout",
     "output_type": "stream",
     "text": [
      "update theta =  [-4  2] theta_0 = -1 total mistake =  1\n",
      "theta no update. x is:  [-2  1]\n",
      "update theta =  [-3  3] theta_0 = -2 total mistake =  2\n",
      "theta no update. x is:  [2 2]\n",
      "theta no update. x is:  [ 1 -2]\n",
      "theta no update. x is:  [-4  2]\n",
      "theta no update. x is:  [-2  1]\n",
      "theta no update. x is:  [-1 -1]\n",
      "theta no update. x is:  [2 2]\n",
      "theta no update. x is:  [ 1 -2]\n",
      "theta no update. x is:  [-4  2]\n",
      "theta no update. x is:  [-2  1]\n",
      "theta no update. x is:  [-1 -1]\n",
      "theta no update. x is:  [2 2]\n",
      "theta no update. x is:  [ 1 -2]\n",
      "theta no update. x is:  [-4  2]\n",
      "theta no update. x is:  [-2  1]\n",
      "theta no update. x is:  [-1 -1]\n",
      "theta no update. x is:  [2 2]\n",
      "theta no update. x is:  [ 1 -2]\n",
      "theta no update. x is:  [-4  2]\n",
      "theta no update. x is:  [-2  1]\n",
      "theta no update. x is:  [-1 -1]\n",
      "theta no update. x is:  [2 2]\n",
      "theta no update. x is:  [ 1 -2]\n",
      "theta no update. x is:  [-4  2]\n",
      "theta no update. x is:  [-2  1]\n",
      "theta no update. x is:  [-1 -1]\n",
      "theta no update. x is:  [2 2]\n",
      "theta no update. x is:  [ 1 -2]\n",
      "theta no update. x is:  [-4  2]\n",
      "theta no update. x is:  [-2  1]\n",
      "theta no update. x is:  [-1 -1]\n",
      "theta no update. x is:  [2 2]\n",
      "theta no update. x is:  [ 1 -2]\n",
      "theta no update. x is:  [-4  2]\n",
      "theta no update. x is:  [-2  1]\n",
      "theta no update. x is:  [-1 -1]\n",
      "theta no update. x is:  [2 2]\n",
      "theta no update. x is:  [ 1 -2]\n",
      "theta no update. x is:  [-4  2]\n",
      "theta no update. x is:  [-2  1]\n",
      "theta no update. x is:  [-1 -1]\n",
      "theta no update. x is:  [2 2]\n",
      "theta no update. x is:  [ 1 -2]\n",
      "theta no update. x is:  [-4  2]\n",
      "theta no update. x is:  [-2  1]\n",
      "theta no update. x is:  [-1 -1]\n",
      "theta no update. x is:  [2 2]\n",
      "theta no update. x is:  [ 1 -2]\n"
     ]
    },
    {
     "data": {
      "text/plain": [
       "(array([-3,  3]), -2)"
      ]
     },
     "execution_count": 31,
     "metadata": {},
     "output_type": "execute_result"
    }
   ],
   "source": [
    "th = np.array([0,0])\n",
    "t_0 = -2\n",
    "t1, t2 = percept_1(x, y, 10, th, t_0)\n",
    "t1, t2"
   ]
  },
  {
   "cell_type": "code",
   "execution_count": 32,
   "metadata": {},
   "outputs": [
    {
     "data": {
      "text/plain": [
       "array([[-1,  1],\n",
       "       [ 1, -1],\n",
       "       [ 1,  1],\n",
       "       [ 2,  2]])"
      ]
     },
     "execution_count": 32,
     "metadata": {},
     "output_type": "execute_result"
    }
   ],
   "source": [
    "x0 = np.array([-1,1])\n",
    "x1 = np.array([1,-1])\n",
    "x2 = np.array([1,1])\n",
    "x3 = np.array([2,2])\n",
    "x = np.array([x0,x1,x2,x3])\n",
    "x"
   ]
  },
  {
   "cell_type": "code",
   "execution_count": 33,
   "metadata": {},
   "outputs": [],
   "source": [
    "y = np.array([1,1,-1,-1])"
   ]
  },
  {
   "cell_type": "code",
   "execution_count": 34,
   "metadata": {},
   "outputs": [
    {
     "data": {
      "text/plain": [
       "<matplotlib.collections.PathCollection at 0x7f9bbada8630>"
      ]
     },
     "execution_count": 34,
     "metadata": {},
     "output_type": "execute_result"
    },
    {
     "data": {
      "image/png": "[encoded data removed]",
      "text/plain": [
       "<Figure size 432x288 with 1 Axes>"
      ]
     },
     "metadata": {
      "needs_background": "light"
     },
     "output_type": "display_data"
    }
   ],
   "source": [
    "plt.scatter(x[:,0],x[:,1])"
   ]
  },
  {
   "cell_type": "code",
   "execution_count": 35,
   "metadata": {},
   "outputs": [],
   "source": [
    "#help(plt.scatter)"
   ]
  },
  {
   "cell_type": "code",
   "execution_count": 36,
   "metadata": {},
   "outputs": [
    {
     "data": {
      "image/png": "[encoded data removed]",
      "text/plain": [
       "<Figure size 432x288 with 1 Axes>"
      ]
     },
     "metadata": {
      "needs_background": "light"
     },
     "output_type": "display_data"
    }
   ],
   "source": [
    "figure, axes = plt.subplots() \n",
    "Drawing_colored_circle = plt.Circle(( 0 , 0 ), 2**0.5 ) \n",
    "  \n",
    "axes.set_aspect( 1 ) \n",
    "axes.add_artist( Drawing_colored_circle ) \n",
    "plt.scatter(x[:,0], x[:,1])\n",
    "plt.show() "
   ]
  },
  {
   "cell_type": "code",
   "execution_count": 37,
   "metadata": {},
   "outputs": [],
   "source": [
    "def guess_circle(cx, cy, r_sq):\n",
    "    figure, axes = plt.subplots() \n",
    "    Drawing_colored_circle = plt.Circle(( cx , cy ), r_sq**0.5, fill=False ) \n",
    "  \n",
    "    axes.set_aspect( 1 ) \n",
    "    axes.add_artist( Drawing_colored_circle ) \n",
    "    plt.scatter(x[:,0], x[:,1])\n",
    "    plt.show() "
   ]
  },
  {
   "cell_type": "code",
   "execution_count": 38,
   "metadata": {},
   "outputs": [
    {
     "data": {
      "image/png": "[encoded data removed]",
      "text/plain": [
       "<Figure size 432x288 with 1 Axes>"
      ]
     },
     "metadata": {
      "needs_background": "light"
     },
     "output_type": "display_data"
    }
   ],
   "source": [
    "guess_circle(-3, -3, 30)"
   ]
  },
  {
   "cell_type": "code",
   "execution_count": 39,
   "metadata": {},
   "outputs": [
    {
     "data": {
      "image/png": "[encoded data removed]",
      "text/plain": [
       "<Figure size 432x288 with 1 Axes>"
      ]
     },
     "metadata": {
      "needs_background": "light"
     },
     "output_type": "display_data"
    }
   ],
   "source": [
    "guess_circle(-3, -3, 25)"
   ]
  },
  {
   "cell_type": "code",
   "execution_count": 40,
   "metadata": {},
   "outputs": [
    {
     "name": "stdout",
     "output_type": "stream",
     "text": [
      "update theta =  [-1  1] theta_0 = 1 total mistake =  1\n",
      "update theta =  [0 0] theta_0 = 2 total mistake =  2\n",
      "update theta =  [-1 -1] theta_0 = 1 total mistake =  3\n",
      "theta no update. x is:  [2 2]\n",
      "theta no update. x is:  [-1  1]\n",
      "theta no update. x is:  [ 1 -1]\n",
      "theta no update. x is:  [1 1]\n",
      "theta no update. x is:  [2 2]\n",
      "theta no update. x is:  [-1  1]\n",
      "theta no update. x is:  [ 1 -1]\n",
      "theta no update. x is:  [1 1]\n",
      "theta no update. x is:  [2 2]\n",
      "theta no update. x is:  [-1  1]\n",
      "theta no update. x is:  [ 1 -1]\n",
      "theta no update. x is:  [1 1]\n",
      "theta no update. x is:  [2 2]\n",
      "theta no update. x is:  [-1  1]\n",
      "theta no update. x is:  [ 1 -1]\n",
      "theta no update. x is:  [1 1]\n",
      "theta no update. x is:  [2 2]\n",
      "theta no update. x is:  [-1  1]\n",
      "theta no update. x is:  [ 1 -1]\n",
      "theta no update. x is:  [1 1]\n",
      "theta no update. x is:  [2 2]\n",
      "theta no update. x is:  [-1  1]\n",
      "theta no update. x is:  [ 1 -1]\n",
      "theta no update. x is:  [1 1]\n",
      "theta no update. x is:  [2 2]\n",
      "theta no update. x is:  [-1  1]\n",
      "theta no update. x is:  [ 1 -1]\n",
      "theta no update. x is:  [1 1]\n",
      "theta no update. x is:  [2 2]\n",
      "theta no update. x is:  [-1  1]\n",
      "theta no update. x is:  [ 1 -1]\n",
      "theta no update. x is:  [1 1]\n",
      "theta no update. x is:  [2 2]\n",
      "theta no update. x is:  [-1  1]\n",
      "theta no update. x is:  [ 1 -1]\n",
      "theta no update. x is:  [1 1]\n",
      "theta no update. x is:  [2 2]\n"
     ]
    }
   ],
   "source": [
    "th = np.array([0,0])\n",
    "t_0 = 0\n",
    "new_th, new_t_0 = percept_1(x, y, 10,th, t_0)"
   ]
  },
  {
   "cell_type": "code",
   "execution_count": 41,
   "metadata": {},
   "outputs": [
    {
     "data": {
      "text/plain": [
       "array([-1, -1])"
      ]
     },
     "execution_count": 41,
     "metadata": {},
     "output_type": "execute_result"
    }
   ],
   "source": [
    "type(new_th)\n",
    "new_th"
   ]
  },
  {
   "cell_type": "code",
   "execution_count": 42,
   "metadata": {},
   "outputs": [],
   "source": [
    "def draw_plane(theta_val, theta_0):\n",
    "    slope = -1/(theta_val[1]/theta_val[0])\n",
    "    x1 = 1\n",
    "    y1 = slope * x1 + theta_0\n",
    "    cx = -3\n",
    "    cy = -3\n",
    "    r_sq = 25\n",
    "    \n",
    "    figure, axes = plt.subplots() \n",
    "    Drawing_colored_circle = plt.Circle(( cx , cy ), r_sq**0.5, fill=False ) \n",
    "  \n",
    "    axes.set_aspect( 1 ) \n",
    "    axes.add_artist( Drawing_colored_circle ) \n",
    "    plt.scatter(x[:,0], x[:,1])\n",
    "    plt.plot([0,x1,-1],[0,y1,-1*slope+theta_0])\n",
    "    plt.show() \n",
    "    "
   ]
  },
  {
   "cell_type": "code",
   "execution_count": 43,
   "metadata": {},
   "outputs": [
    {
     "data": {
      "image/png": "[encoded data removed]",
      "text/plain": [
       "<Figure size 432x288 with 1 Axes>"
      ]
     },
     "metadata": {
      "needs_background": "light"
     },
     "output_type": "display_data"
    }
   ],
   "source": [
    "draw_plane(new_th, new_t_0)"
   ]
  },
  {
   "cell_type": "code",
   "execution_count": 78,
   "metadata": {},
   "outputs": [
    {
     "data": {
      "text/plain": [
       "(array([[-1,  0],\n",
       "        [ 0,  1]]),\n",
       " array([1, 1]))"
      ]
     },
     "execution_count": 78,
     "metadata": {},
     "output_type": "execute_result"
    }
   ],
   "source": [
    "x_1= np.array([[-1,0], [0, 1]])\n",
    "y_1  = np.array([1,1])\n",
    "x_1, y_1"
   ]
  },
  {
   "cell_type": "code",
   "execution_count": 79,
   "metadata": {},
   "outputs": [
    {
     "name": "stdout",
     "output_type": "stream",
     "text": [
      "update theta =  [-1  0] theta_0 = 1 total mistake =  1\n",
      "theta no update. x is:  [0 1]\n",
      "theta no update. x is:  [-1  0]\n",
      "theta no update. x is:  [0 1]\n",
      "theta no update. x is:  [-1  0]\n",
      "theta no update. x is:  [0 1]\n",
      "theta no update. x is:  [-1  0]\n",
      "theta no update. x is:  [0 1]\n",
      "theta no update. x is:  [-1  0]\n",
      "theta no update. x is:  [0 1]\n",
      "theta no update. x is:  [-1  0]\n",
      "theta no update. x is:  [0 1]\n",
      "theta no update. x is:  [-1  0]\n",
      "theta no update. x is:  [0 1]\n",
      "theta no update. x is:  [-1  0]\n",
      "theta no update. x is:  [0 1]\n",
      "theta no update. x is:  [-1  0]\n",
      "theta no update. x is:  [0 1]\n",
      "theta no update. x is:  [-1  0]\n",
      "theta no update. x is:  [0 1]\n"
     ]
    }
   ],
   "source": [
    "th = np.array([0,0])\n",
    "t_0 = 0\n",
    "new_th, new_t_0 = percept_1(x_1, y_1, 10,th, t_0)"
   ]
  },
  {
   "cell_type": "code",
   "execution_count": 46,
   "metadata": {},
   "outputs": [],
   "source": [
    "def percept_2(xi, yi, T, theta, theta_0, no_offset):\n",
    "    total_mistake = 0\n",
    "    num = xi.shape[0]\n",
    "    for i in np.arange(T):\n",
    "        for i in np.arange(num):\n",
    "            if (no_offset == False):\n",
    "                h = np.dot(theta, xi[i]) + theta_0\n",
    "            else:\n",
    "                h = np.dot(theta, xi[i])\n",
    "            if (yi[i]*h) <= 0:\n",
    "                theta = theta + yi[i]*xi[i]\n",
    "                if (no_offset == False):\n",
    "                    theta_0 = theta_0 + yi[i]\n",
    "                else:\n",
    "                    theta_0 = 0\n",
    "                total_mistake = total_mistake + 1\n",
    "                print('update theta = ', theta, 'theta_0 =', theta_0, 'total mistake = ', total_mistake)\n",
    "            else:\n",
    "                print('theta no update.', 'x is: ', xi[i])\n",
    "    return theta, theta_0"
   ]
  },
  {
   "cell_type": "code",
   "execution_count": 47,
   "metadata": {},
   "outputs": [
    {
     "name": "stdout",
     "output_type": "stream",
     "text": [
      "update theta =  [-1  0] theta_0 = 0 total mistake =  1\n",
      "update theta =  [-1  1] theta_0 = 0 total mistake =  2\n",
      "theta no update. x is:  [-1  0]\n",
      "theta no update. x is:  [0 1]\n",
      "theta no update. x is:  [-1  0]\n",
      "theta no update. x is:  [0 1]\n",
      "theta no update. x is:  [-1  0]\n",
      "theta no update. x is:  [0 1]\n",
      "theta no update. x is:  [-1  0]\n",
      "theta no update. x is:  [0 1]\n",
      "theta no update. x is:  [-1  0]\n",
      "theta no update. x is:  [0 1]\n",
      "theta no update. x is:  [-1  0]\n",
      "theta no update. x is:  [0 1]\n",
      "theta no update. x is:  [-1  0]\n",
      "theta no update. x is:  [0 1]\n",
      "theta no update. x is:  [-1  0]\n",
      "theta no update. x is:  [0 1]\n",
      "theta no update. x is:  [-1  0]\n",
      "theta no update. x is:  [0 1]\n"
     ]
    }
   ],
   "source": [
    "th = np.array([0,0])\n",
    "t_0 = 0\n",
    "new_th, new_t_0 = percept_2(x_1, y_1, 10,th, t_0, True)"
   ]
  },
  {
   "cell_type": "code",
   "execution_count": 48,
   "metadata": {},
   "outputs": [],
   "source": [
    "#help(np.zeros)\n",
    "t1 = np.zeros((3,3))"
   ]
  },
  {
   "cell_type": "code",
   "execution_count": 49,
   "metadata": {},
   "outputs": [],
   "source": [
    "def make_test_1(d):\n",
    "    test_x = np.zeros((d,d))\n",
    "    for i in np.arange(d):\n",
    "        test_x[i,i] = (-1)**(i+1)\n",
    "    test_y = np.ones(d)\n",
    "    return test_x, test_y"
   ]
  },
  {
   "cell_type": "code",
   "execution_count": 50,
   "metadata": {},
   "outputs": [
    {
     "data": {
      "text/plain": [
       "(array([[-1.,  0.,  0.,  0.],\n",
       "        [ 0.,  1.,  0.,  0.],\n",
       "        [ 0.,  0., -1.,  0.],\n",
       "        [ 0.,  0.,  0.,  1.]]),\n",
       " array([1., 1., 1., 1.]))"
      ]
     },
     "execution_count": 50,
     "metadata": {},
     "output_type": "execute_result"
    }
   ],
   "source": [
    "make_test_1(4)"
   ]
  },
  {
   "cell_type": "code",
   "execution_count": 51,
   "metadata": {},
   "outputs": [
    {
     "name": "stdout",
     "output_type": "stream",
     "text": [
      "update theta =  [-1.  0.  0.] theta_0 = 0 total mistake =  1\n",
      "update theta =  [-1.  1.  0.] theta_0 = 0 total mistake =  2\n",
      "update theta =  [-1.  1. -1.] theta_0 = 0 total mistake =  3\n",
      "theta no update. x is:  [-1.  0.  0.]\n",
      "theta no update. x is:  [0. 1. 0.]\n",
      "theta no update. x is:  [ 0.  0. -1.]\n",
      "theta no update. x is:  [-1.  0.  0.]\n",
      "theta no update. x is:  [0. 1. 0.]\n",
      "theta no update. x is:  [ 0.  0. -1.]\n",
      "theta no update. x is:  [-1.  0.  0.]\n",
      "theta no update. x is:  [0. 1. 0.]\n",
      "theta no update. x is:  [ 0.  0. -1.]\n",
      "theta no update. x is:  [-1.  0.  0.]\n",
      "theta no update. x is:  [0. 1. 0.]\n",
      "theta no update. x is:  [ 0.  0. -1.]\n",
      "theta no update. x is:  [-1.  0.  0.]\n",
      "theta no update. x is:  [0. 1. 0.]\n",
      "theta no update. x is:  [ 0.  0. -1.]\n",
      "theta no update. x is:  [-1.  0.  0.]\n",
      "theta no update. x is:  [0. 1. 0.]\n",
      "theta no update. x is:  [ 0.  0. -1.]\n",
      "theta no update. x is:  [-1.  0.  0.]\n",
      "theta no update. x is:  [0. 1. 0.]\n",
      "theta no update. x is:  [ 0.  0. -1.]\n",
      "theta no update. x is:  [-1.  0.  0.]\n",
      "theta no update. x is:  [0. 1. 0.]\n",
      "theta no update. x is:  [ 0.  0. -1.]\n",
      "theta no update. x is:  [-1.  0.  0.]\n",
      "theta no update. x is:  [0. 1. 0.]\n",
      "theta no update. x is:  [ 0.  0. -1.]\n"
     ]
    }
   ],
   "source": [
    "x_2, y_2 = make_test_1(3)\n",
    "th = np.array([0,0,0])\n",
    "t_0 = 0\n",
    "new_th, new_t_0 = percept_2(x_2, y_2, 10,th, t_0, True)"
   ]
  },
  {
   "cell_type": "code",
   "execution_count": 52,
   "metadata": {},
   "outputs": [
    {
     "data": {
      "text/plain": [
       "array([[ 0.,  1.,  0.],\n",
       "       [-1.,  0.,  0.],\n",
       "       [ 0.,  0., -1.]])"
      ]
     },
     "execution_count": 52,
     "metadata": {},
     "output_type": "execute_result"
    }
   ],
   "source": [
    "x_3 = np.array([x_2[1],x_2[0],x_2[2]])\n",
    "x_3"
   ]
  },
  {
   "cell_type": "code",
   "execution_count": 53,
   "metadata": {},
   "outputs": [
    {
     "name": "stdout",
     "output_type": "stream",
     "text": [
      "update theta =  [0. 1. 0.] theta_0 = 0 total mistake =  1\n",
      "update theta =  [-1.  1.  0.] theta_0 = 0 total mistake =  2\n",
      "update theta =  [-1.  1. -1.] theta_0 = 0 total mistake =  3\n",
      "theta no update. x is:  [0. 1. 0.]\n",
      "theta no update. x is:  [-1.  0.  0.]\n",
      "theta no update. x is:  [ 0.  0. -1.]\n",
      "theta no update. x is:  [0. 1. 0.]\n",
      "theta no update. x is:  [-1.  0.  0.]\n",
      "theta no update. x is:  [ 0.  0. -1.]\n",
      "theta no update. x is:  [0. 1. 0.]\n",
      "theta no update. x is:  [-1.  0.  0.]\n",
      "theta no update. x is:  [ 0.  0. -1.]\n",
      "theta no update. x is:  [0. 1. 0.]\n",
      "theta no update. x is:  [-1.  0.  0.]\n",
      "theta no update. x is:  [ 0.  0. -1.]\n",
      "theta no update. x is:  [0. 1. 0.]\n",
      "theta no update. x is:  [-1.  0.  0.]\n",
      "theta no update. x is:  [ 0.  0. -1.]\n",
      "theta no update. x is:  [0. 1. 0.]\n",
      "theta no update. x is:  [-1.  0.  0.]\n",
      "theta no update. x is:  [ 0.  0. -1.]\n",
      "theta no update. x is:  [0. 1. 0.]\n",
      "theta no update. x is:  [-1.  0.  0.]\n",
      "theta no update. x is:  [ 0.  0. -1.]\n",
      "theta no update. x is:  [0. 1. 0.]\n",
      "theta no update. x is:  [-1.  0.  0.]\n",
      "theta no update. x is:  [ 0.  0. -1.]\n",
      "theta no update. x is:  [0. 1. 0.]\n",
      "theta no update. x is:  [-1.  0.  0.]\n",
      "theta no update. x is:  [ 0.  0. -1.]\n"
     ]
    }
   ],
   "source": [
    "th = np.array([0,0,0])\n",
    "t_0 = 0\n",
    "new_th, new_t_0 = percept_2(x_3, y_2, 10,th, t_0, True)"
   ]
  },
  {
   "cell_type": "code",
   "execution_count": 54,
   "metadata": {},
   "outputs": [
    {
     "data": {
      "text/plain": [
       "array([[-1.,  0.,  0.],\n",
       "       [ 0.,  1.,  0.],\n",
       "       [ 0.,  0., -1.]])"
      ]
     },
     "execution_count": 54,
     "metadata": {},
     "output_type": "execute_result"
    }
   ],
   "source": [
    "x_2"
   ]
  },
  {
   "cell_type": "code",
   "execution_count": 55,
   "metadata": {},
   "outputs": [
    {
     "name": "stdout",
     "output_type": "stream",
     "text": [
      "update theta =  [-1.  0.  0.] theta_0 = 0 total mistake =  1\n",
      "update theta =  [-1.  1.  0.] theta_0 = 0 total mistake =  2\n",
      "update theta =  [-1.  1. -1.] theta_0 = 0 total mistake =  3\n",
      "theta no update. x is:  [-1.  0.  0.]\n",
      "theta no update. x is:  [0. 1. 0.]\n",
      "theta no update. x is:  [ 0.  0. -1.]\n",
      "theta no update. x is:  [-1.  0.  0.]\n",
      "theta no update. x is:  [0. 1. 0.]\n",
      "theta no update. x is:  [ 0.  0. -1.]\n",
      "theta no update. x is:  [-1.  0.  0.]\n",
      "theta no update. x is:  [0. 1. 0.]\n",
      "theta no update. x is:  [ 0.  0. -1.]\n",
      "theta no update. x is:  [-1.  0.  0.]\n",
      "theta no update. x is:  [0. 1. 0.]\n",
      "theta no update. x is:  [ 0.  0. -1.]\n",
      "theta no update. x is:  [-1.  0.  0.]\n",
      "theta no update. x is:  [0. 1. 0.]\n",
      "theta no update. x is:  [ 0.  0. -1.]\n",
      "theta no update. x is:  [-1.  0.  0.]\n",
      "theta no update. x is:  [0. 1. 0.]\n",
      "theta no update. x is:  [ 0.  0. -1.]\n",
      "theta no update. x is:  [-1.  0.  0.]\n",
      "theta no update. x is:  [0. 1. 0.]\n",
      "theta no update. x is:  [ 0.  0. -1.]\n",
      "theta no update. x is:  [-1.  0.  0.]\n",
      "theta no update. x is:  [0. 1. 0.]\n",
      "theta no update. x is:  [ 0.  0. -1.]\n",
      "theta no update. x is:  [-1.  0.  0.]\n",
      "theta no update. x is:  [0. 1. 0.]\n",
      "theta no update. x is:  [ 0.  0. -1.]\n"
     ]
    }
   ],
   "source": [
    "th = np.array([0,0,0])\n",
    "t_0 = 0\n",
    "new_th, new_t_0 = percept_2(x_2, y_2, 10,th, t_0, True)"
   ]
  },
  {
   "cell_type": "code",
   "execution_count": 56,
   "metadata": {},
   "outputs": [
    {
     "data": {
      "text/plain": [
       "(array([[-1.,  0.,  0.],\n",
       "        [ 0.,  1.,  0.],\n",
       "        [ 0.,  0., -1.]]),\n",
       " array([1., 1., 1.]))"
      ]
     },
     "execution_count": 56,
     "metadata": {},
     "output_type": "execute_result"
    }
   ],
   "source": [
    "x_2,y_2"
   ]
  },
  {
   "cell_type": "code",
   "execution_count": 57,
   "metadata": {},
   "outputs": [
    {
     "data": {
      "text/plain": [
       "(3,)"
      ]
     },
     "execution_count": 57,
     "metadata": {},
     "output_type": "execute_result"
    }
   ],
   "source": [
    "x,y,new_th, new_t_0\n",
    "new_th.shape"
   ]
  },
  {
   "cell_type": "code",
   "execution_count": 59,
   "metadata": {},
   "outputs": [],
   "source": [
    "#z = y* (np.dot(x, new_th)+new_t_0)"
   ]
  },
  {
   "cell_type": "code",
   "execution_count": 60,
   "metadata": {},
   "outputs": [
    {
     "ename": "ValueError",
     "evalue": "shapes (4,2) and (3,) not aligned: 2 (dim 1) != 3 (dim 0)",
     "output_type": "error",
     "traceback": [
      "\u001b[0;31m---------------------------------------------------------------------------\u001b[0m",
      "\u001b[0;31mValueError\u001b[0m                                Traceback (most recent call last)",
      "\u001b[0;32m<ipython-input-60-a84646211249>\u001b[0m in \u001b[0;36m<module>\u001b[0;34m\u001b[0m\n\u001b[0;32m----> 1\u001b[0;31m \u001b[0mnp\u001b[0m\u001b[0;34m.\u001b[0m\u001b[0maverage\u001b[0m\u001b[0;34m(\u001b[0m\u001b[0my\u001b[0m\u001b[0;34m*\u001b[0m \u001b[0;34m(\u001b[0m\u001b[0mnp\u001b[0m\u001b[0;34m.\u001b[0m\u001b[0mdot\u001b[0m\u001b[0;34m(\u001b[0m\u001b[0mx\u001b[0m\u001b[0;34m,\u001b[0m \u001b[0mnew_th\u001b[0m\u001b[0;34m)\u001b[0m\u001b[0;34m+\u001b[0m\u001b[0mnew_t_0\u001b[0m\u001b[0;34m)\u001b[0m\u001b[0;34m)\u001b[0m\u001b[0;34m\u001b[0m\u001b[0;34m\u001b[0m\u001b[0m\n\u001b[0m",
      "\u001b[0;32m<__array_function__ internals>\u001b[0m in \u001b[0;36mdot\u001b[0;34m(*args, **kwargs)\u001b[0m\n",
      "\u001b[0;31mValueError\u001b[0m: shapes (4,2) and (3,) not aligned: 2 (dim 1) != 3 (dim 0)"
     ]
    }
   ],
   "source": [
    "np.average(y* (np.dot(x, new_th)+new_t_0))"
   ]
  },
  {
   "cell_type": "code",
   "execution_count": 61,
   "metadata": {},
   "outputs": [],
   "source": [
    "f = lambda x: max(0, 1-x)"
   ]
  },
  {
   "cell_type": "code",
   "execution_count": 62,
   "metadata": {},
   "outputs": [
    {
     "ename": "NameError",
     "evalue": "name 'z' is not defined",
     "output_type": "error",
     "traceback": [
      "\u001b[0;31m---------------------------------------------------------------------------\u001b[0m",
      "\u001b[0;31mNameError\u001b[0m                                 Traceback (most recent call last)",
      "\u001b[0;32m<ipython-input-62-786c5cedc22b>\u001b[0m in \u001b[0;36m<module>\u001b[0;34m\u001b[0m\n\u001b[0;32m----> 1\u001b[0;31m \u001b[0mt2\u001b[0m \u001b[0;34m=\u001b[0m \u001b[0mnp\u001b[0m\u001b[0;34m.\u001b[0m\u001b[0marray\u001b[0m\u001b[0;34m(\u001b[0m\u001b[0;34m[\u001b[0m\u001b[0mf\u001b[0m\u001b[0;34m(\u001b[0m\u001b[0mk\u001b[0m\u001b[0;34m)\u001b[0m\u001b[0;32mfor\u001b[0m \u001b[0mk\u001b[0m \u001b[0;32min\u001b[0m \u001b[0mz\u001b[0m\u001b[0;34m]\u001b[0m\u001b[0;34m)\u001b[0m\u001b[0;34m\u001b[0m\u001b[0;34m\u001b[0m\u001b[0m\n\u001b[0m\u001b[1;32m      2\u001b[0m \u001b[0mt2\u001b[0m\u001b[0;34m\u001b[0m\u001b[0;34m\u001b[0m\u001b[0m\n",
      "\u001b[0;31mNameError\u001b[0m: name 'z' is not defined"
     ]
    }
   ],
   "source": [
    "t2 = np.array([f(k)for k in z])\n",
    "t2"
   ]
  },
  {
   "cell_type": "code",
   "execution_count": 63,
   "metadata": {},
   "outputs": [],
   "source": [
    "episolon = 1.e-5"
   ]
  },
  {
   "cell_type": "code",
   "execution_count": 64,
   "metadata": {},
   "outputs": [
    {
     "data": {
      "text/plain": [
       "array([0., 0.])"
      ]
     },
     "execution_count": 64,
     "metadata": {},
     "output_type": "execute_result"
    }
   ],
   "source": [
    "np.zeros(x.shape[1])"
   ]
  },
  {
   "cell_type": "code",
   "execution_count": 65,
   "metadata": {},
   "outputs": [
    {
     "data": {
      "text/plain": [
       "(array([-1.,  1., -1.]), 0)"
      ]
     },
     "execution_count": 65,
     "metadata": {},
     "output_type": "execute_result"
    }
   ],
   "source": [
    "new_th, new_t_0"
   ]
  },
  {
   "cell_type": "code",
   "execution_count": 66,
   "metadata": {},
   "outputs": [
    {
     "ename": "ValueError",
     "evalue": "all the input array dimensions for the concatenation axis must match exactly, but along dimension 1, the array at index 0 has size 2 and the array at index 1 has size 3",
     "output_type": "error",
     "traceback": [
      "\u001b[0;31m---------------------------------------------------------------------------\u001b[0m",
      "\u001b[0;31mValueError\u001b[0m                                Traceback (most recent call last)",
      "\u001b[0;32m<ipython-input-66-9847197e1f53>\u001b[0m in \u001b[0;36m<module>\u001b[0;34m\u001b[0m\n\u001b[1;32m      1\u001b[0m \u001b[0mtheta_list\u001b[0m \u001b[0;34m=\u001b[0m \u001b[0mnp\u001b[0m\u001b[0;34m.\u001b[0m\u001b[0mempty\u001b[0m\u001b[0;34m(\u001b[0m\u001b[0;34m(\u001b[0m\u001b[0;36m0\u001b[0m\u001b[0;34m,\u001b[0m \u001b[0;36m2\u001b[0m\u001b[0;34m)\u001b[0m\u001b[0;34m,\u001b[0m \u001b[0mfloat\u001b[0m\u001b[0;34m)\u001b[0m\u001b[0;34m\u001b[0m\u001b[0;34m\u001b[0m\u001b[0m\n\u001b[1;32m      2\u001b[0m \u001b[0;31m#theta_list = np.append(theta_list, new_th, axis=0)\u001b[0m\u001b[0;34m\u001b[0m\u001b[0;34m\u001b[0m\u001b[0;34m\u001b[0m\u001b[0m\n\u001b[0;32m----> 3\u001b[0;31m \u001b[0mtheta_list\u001b[0m \u001b[0;34m=\u001b[0m \u001b[0mnp\u001b[0m\u001b[0;34m.\u001b[0m\u001b[0mvstack\u001b[0m\u001b[0;34m(\u001b[0m\u001b[0;34m(\u001b[0m\u001b[0mtheta_list\u001b[0m\u001b[0;34m,\u001b[0m \u001b[0mnew_th\u001b[0m\u001b[0;34m)\u001b[0m\u001b[0;34m)\u001b[0m\u001b[0;34m\u001b[0m\u001b[0;34m\u001b[0m\u001b[0m\n\u001b[0m\u001b[1;32m      4\u001b[0m \u001b[0mt3\u001b[0m \u001b[0;34m=\u001b[0m \u001b[0mnew_th\u001b[0m\u001b[0;34m-\u001b[0m\u001b[0;36m1\u001b[0m\u001b[0;34m\u001b[0m\u001b[0;34m\u001b[0m\u001b[0m\n\u001b[1;32m      5\u001b[0m \u001b[0mprint\u001b[0m\u001b[0;34m(\u001b[0m\u001b[0mt3\u001b[0m\u001b[0;34m,\u001b[0m \u001b[0mt3\u001b[0m\u001b[0;34m.\u001b[0m\u001b[0mshape\u001b[0m\u001b[0;34m,\u001b[0m \u001b[0mtype\u001b[0m\u001b[0;34m(\u001b[0m\u001b[0mt3\u001b[0m\u001b[0;34m)\u001b[0m\u001b[0;34m)\u001b[0m\u001b[0;34m\u001b[0m\u001b[0;34m\u001b[0m\u001b[0m\n",
      "\u001b[0;32m<__array_function__ internals>\u001b[0m in \u001b[0;36mvstack\u001b[0;34m(*args, **kwargs)\u001b[0m\n",
      "\u001b[0;32m~/anaconda3/lib/python3.7/site-packages/numpy/core/shape_base.py\u001b[0m in \u001b[0;36mvstack\u001b[0;34m(tup)\u001b[0m\n\u001b[1;32m    281\u001b[0m     \u001b[0;32mif\u001b[0m \u001b[0;32mnot\u001b[0m \u001b[0misinstance\u001b[0m\u001b[0;34m(\u001b[0m\u001b[0marrs\u001b[0m\u001b[0;34m,\u001b[0m \u001b[0mlist\u001b[0m\u001b[0;34m)\u001b[0m\u001b[0;34m:\u001b[0m\u001b[0;34m\u001b[0m\u001b[0;34m\u001b[0m\u001b[0m\n\u001b[1;32m    282\u001b[0m         \u001b[0marrs\u001b[0m \u001b[0;34m=\u001b[0m \u001b[0;34m[\u001b[0m\u001b[0marrs\u001b[0m\u001b[0;34m]\u001b[0m\u001b[0;34m\u001b[0m\u001b[0;34m\u001b[0m\u001b[0m\n\u001b[0;32m--> 283\u001b[0;31m     \u001b[0;32mreturn\u001b[0m \u001b[0m_nx\u001b[0m\u001b[0;34m.\u001b[0m\u001b[0mconcatenate\u001b[0m\u001b[0;34m(\u001b[0m\u001b[0marrs\u001b[0m\u001b[0;34m,\u001b[0m \u001b[0;36m0\u001b[0m\u001b[0;34m)\u001b[0m\u001b[0;34m\u001b[0m\u001b[0;34m\u001b[0m\u001b[0m\n\u001b[0m\u001b[1;32m    284\u001b[0m \u001b[0;34m\u001b[0m\u001b[0m\n\u001b[1;32m    285\u001b[0m \u001b[0;34m\u001b[0m\u001b[0m\n",
      "\u001b[0;32m<__array_function__ internals>\u001b[0m in \u001b[0;36mconcatenate\u001b[0;34m(*args, **kwargs)\u001b[0m\n",
      "\u001b[0;31mValueError\u001b[0m: all the input array dimensions for the concatenation axis must match exactly, but along dimension 1, the array at index 0 has size 2 and the array at index 1 has size 3"
     ]
    }
   ],
   "source": [
    "theta_list = np.empty((0, 2), float)\n",
    "#theta_list = np.append(theta_list, new_th, axis=0)\n",
    "theta_list = np.vstack((theta_list, new_th))\n",
    "t3 = new_th-1\n",
    "print(t3, t3.shape, type(t3))\n",
    "theta_list = np.vstack((theta_list, t3))\n",
    "#theta_list.shape\n",
    "theta_list"
   ]
  },
  {
   "cell_type": "code",
   "execution_count": 67,
   "metadata": {},
   "outputs": [
    {
     "data": {
      "text/plain": [
       "3"
      ]
     },
     "execution_count": 67,
     "metadata": {},
     "output_type": "execute_result"
    }
   ],
   "source": [
    "new_th.shape[0]"
   ]
  },
  {
   "cell_type": "code",
   "execution_count": 68,
   "metadata": {},
   "outputs": [
    {
     "name": "stderr",
     "output_type": "stream",
     "text": [
      "/Users/kilingcheung/anaconda3/lib/python3.7/site-packages/numpy/lib/function_base.py:393: RuntimeWarning: Mean of empty slice.\n",
      "  avg = a.mean(axis)\n",
      "/Users/kilingcheung/anaconda3/lib/python3.7/site-packages/numpy/core/_methods.py:154: RuntimeWarning: invalid value encountered in true_divide\n",
      "  ret, rcount, out=ret, casting='unsafe', subok=False)\n"
     ]
    },
    {
     "data": {
      "text/plain": [
       "array([nan, nan])"
      ]
     },
     "execution_count": 68,
     "metadata": {},
     "output_type": "execute_result"
    }
   ],
   "source": [
    "np.average(theta_list, axis=0)"
   ]
  },
  {
   "cell_type": "code",
   "execution_count": 69,
   "metadata": {},
   "outputs": [],
   "source": [
    "#help(np.average)"
   ]
  },
  {
   "cell_type": "code",
   "execution_count": 70,
   "metadata": {},
   "outputs": [
    {
     "data": {
      "text/plain": [
       "array([], dtype=float64)"
      ]
     },
     "execution_count": 70,
     "metadata": {},
     "output_type": "execute_result"
    }
   ],
   "source": [
    "np.empty((new_t_0), float)"
   ]
  },
  {
   "cell_type": "code",
   "execution_count": 71,
   "metadata": {},
   "outputs": [
    {
     "data": {
      "text/plain": [
       "0.2"
      ]
     },
     "execution_count": 71,
     "metadata": {},
     "output_type": "execute_result"
    }
   ],
   "source": [
    "t = 25\n",
    "t**-0.5"
   ]
  },
  {
   "cell_type": "code",
   "execution_count": 72,
   "metadata": {},
   "outputs": [],
   "source": [
    "import pandas as pd\n",
    "from datascience import *"
   ]
  },
  {
   "cell_type": "code",
   "execution_count": 74,
   "metadata": {},
   "outputs": [
    {
     "data": {
      "text/html": [
       "<div>\n",
       "<style scoped>\n",
       "    .dataframe tbody tr th:only-of-type {\n",
       "        vertical-align: middle;\n",
       "    }\n",
       "\n",
       "    .dataframe tbody tr th {\n",
       "        vertical-align: top;\n",
       "    }\n",
       "\n",
       "    .dataframe thead th {\n",
       "        text-align: right;\n",
       "    }\n",
       "</style>\n",
       "<table border=\"1\" class=\"dataframe\">\n",
       "  <thead>\n",
       "    <tr style=\"text-align: right;\">\n",
       "      <th></th>\n",
       "      <th>sentiment</th>\n",
       "      <th>productId</th>\n",
       "      <th>userId</th>\n",
       "      <th>summary</th>\n",
       "      <th>text</th>\n",
       "      <th>helpfulY</th>\n",
       "      <th>helpfulN</th>\n",
       "    </tr>\n",
       "  </thead>\n",
       "  <tbody>\n",
       "    <tr>\n",
       "      <th>0</th>\n",
       "      <td>-1</td>\n",
       "      <td>B000EQYQBO</td>\n",
       "      <td>A2JZVE0Y19VLL0</td>\n",
       "      <td>blue chips</td>\n",
       "      <td>The chips are okay Not near as flavorful as th...</td>\n",
       "      <td>0</td>\n",
       "      <td>0</td>\n",
       "    </tr>\n",
       "    <tr>\n",
       "      <th>1</th>\n",
       "      <td>-1</td>\n",
       "      <td>B000LKVHYC</td>\n",
       "      <td>A3NAKOMAS0I5L9</td>\n",
       "      <td>Bad even for 'healthy'</td>\n",
       "      <td>I had high hopes for this, but it was bad.  Re...</td>\n",
       "      <td>0</td>\n",
       "      <td>0</td>\n",
       "    </tr>\n",
       "    <tr>\n",
       "      <th>2</th>\n",
       "      <td>-1</td>\n",
       "      <td>B003QRQRY2</td>\n",
       "      <td>ARBO3XW14MNGA</td>\n",
       "      <td>Alot of money for one can</td>\n",
       "      <td>I guess it's only one can since there is nothi...</td>\n",
       "      <td>1</td>\n",
       "      <td>1</td>\n",
       "    </tr>\n",
       "    <tr>\n",
       "      <th>3</th>\n",
       "      <td>-1</td>\n",
       "      <td>B008EG58V8</td>\n",
       "      <td>A1IQXGT4MJUYJ8</td>\n",
       "      <td>The Box says \"OATMEAL SQUARES\" which I believe...</td>\n",
       "      <td>\"Oatmeal Squares\" is in about the largest prin...</td>\n",
       "      <td>0</td>\n",
       "      <td>0</td>\n",
       "    </tr>\n",
       "    <tr>\n",
       "      <th>4</th>\n",
       "      <td>1</td>\n",
       "      <td>B004WZZY8M</td>\n",
       "      <td>A2TBL6WAZGXB9P</td>\n",
       "      <td>Delicious!</td>\n",
       "      <td>I really enjoyed this flavor, this has a very ...</td>\n",
       "      <td>1</td>\n",
       "      <td>0</td>\n",
       "    </tr>\n",
       "  </tbody>\n",
       "</table>\n",
       "</div>"
      ],
      "text/plain": [
       "   sentiment   productId          userId  \\\n",
       "0         -1  B000EQYQBO  A2JZVE0Y19VLL0   \n",
       "1         -1  B000LKVHYC  A3NAKOMAS0I5L9   \n",
       "2         -1  B003QRQRY2   ARBO3XW14MNGA   \n",
       "3         -1  B008EG58V8  A1IQXGT4MJUYJ8   \n",
       "4          1  B004WZZY8M  A2TBL6WAZGXB9P   \n",
       "\n",
       "                                             summary  \\\n",
       "0                                         blue chips   \n",
       "1                             Bad even for 'healthy'   \n",
       "2                          Alot of money for one can   \n",
       "3  The Box says \"OATMEAL SQUARES\" which I believe...   \n",
       "4                                         Delicious!   \n",
       "\n",
       "                                                text  helpfulY  helpfulN  \n",
       "0  The chips are okay Not near as flavorful as th...         0         0  \n",
       "1  I had high hopes for this, but it was bad.  Re...         0         0  \n",
       "2  I guess it's only one can since there is nothi...         1         1  \n",
       "3  \"Oatmeal Squares\" is in about the largest prin...         0         0  \n",
       "4  I really enjoyed this flavor, this has a very ...         1         0  "
      ]
     },
     "execution_count": 74,
     "metadata": {},
     "output_type": "execute_result"
    }
   ],
   "source": [
    "t1 = pd.read_csv(\"./sentiment_analysis/reviews_train.tsv\", sep='\\t', encoding='unicode_escape')\n",
    "t1.head(5)"
   ]
  },
  {
   "cell_type": "code",
   "execution_count": 80,
   "metadata": {},
   "outputs": [
    {
     "name": "stdout",
     "output_type": "stream",
     "text": [
      "[[-1  0]\n",
      " [ 0  1]] [1 1] [-1  0] 1\n"
     ]
    }
   ],
   "source": [
    "print(x_1, y_1, new_th, new_t_0)"
   ]
  },
  {
   "cell_type": "code",
   "execution_count": 82,
   "metadata": {},
   "outputs": [
    {
     "data": {
      "text/plain": [
       "array([1, 0])"
      ]
     },
     "execution_count": 82,
     "metadata": {},
     "output_type": "execute_result"
    }
   ],
   "source": [
    "np.dot(x_1, new_th)"
   ]
  },
  {
   "cell_type": "code",
   "execution_count": 83,
   "metadata": {},
   "outputs": [],
   "source": [
    "episoln = 1.0e-6\n",
    "g = lambda x: 1 if x > episoln else -1"
   ]
  },
  {
   "cell_type": "code",
   "execution_count": 84,
   "metadata": {},
   "outputs": [
    {
     "data": {
      "text/plain": [
       "array([1, 1])"
      ]
     },
     "execution_count": 84,
     "metadata": {},
     "output_type": "execute_result"
    }
   ],
   "source": [
    "m = np.dot(x_1, new_th) + new_t_0\n",
    "t2 = np.array([g(k)for k in m])\n",
    "t2"
   ]
  },
  {
   "cell_type": "code",
   "execution_count": 85,
   "metadata": {},
   "outputs": [
    {
     "data": {
      "text/plain": [
       "array([0., 0., 0., 0., 0.])"
      ]
     },
     "execution_count": 85,
     "metadata": {},
     "output_type": "execute_result"
    }
   ],
   "source": [
    "np.zeros(5)"
   ]
  },
  {
   "cell_type": "code",
   "execution_count": 86,
   "metadata": {},
   "outputs": [
    {
     "data": {
      "text/html": [
       "<div>\n",
       "<style scoped>\n",
       "    .dataframe tbody tr th:only-of-type {\n",
       "        vertical-align: middle;\n",
       "    }\n",
       "\n",
       "    .dataframe tbody tr th {\n",
       "        vertical-align: top;\n",
       "    }\n",
       "\n",
       "    .dataframe thead th {\n",
       "        text-align: right;\n",
       "    }\n",
       "</style>\n",
       "<table border=\"1\" class=\"dataframe\">\n",
       "  <thead>\n",
       "    <tr style=\"text-align: right;\">\n",
       "      <th></th>\n",
       "      <th>0</th>\n",
       "    </tr>\n",
       "  </thead>\n",
       "  <tbody>\n",
       "    <tr>\n",
       "      <th>0</th>\n",
       "      <td>i</td>\n",
       "    </tr>\n",
       "    <tr>\n",
       "      <th>1</th>\n",
       "      <td>me</td>\n",
       "    </tr>\n",
       "    <tr>\n",
       "      <th>2</th>\n",
       "      <td>my</td>\n",
       "    </tr>\n",
       "    <tr>\n",
       "      <th>3</th>\n",
       "      <td>myself</td>\n",
       "    </tr>\n",
       "    <tr>\n",
       "      <th>4</th>\n",
       "      <td>we</td>\n",
       "    </tr>\n",
       "  </tbody>\n",
       "</table>\n",
       "</div>"
      ],
      "text/plain": [
       "        0\n",
       "0       i\n",
       "1      me\n",
       "2      my\n",
       "3  myself\n",
       "4      we"
      ]
     },
     "execution_count": 86,
     "metadata": {},
     "output_type": "execute_result"
    }
   ],
   "source": [
    "stop_data = pd.read_csv(\"./sentiment_analysis/stopwords.txt\", header=None)\n",
    "stop_data.head()"
   ]
  },
  {
   "cell_type": "code",
   "execution_count": 90,
   "metadata": {},
   "outputs": [
    {
     "data": {
      "text/plain": [
       "pandas.core.series.Series"
      ]
     },
     "execution_count": 90,
     "metadata": {},
     "output_type": "execute_result"
    }
   ],
   "source": [
    "stop_list = stop_data[0]\n",
    "type(stop_list)"
   ]
  },
  {
   "cell_type": "code",
   "execution_count": 91,
   "metadata": {},
   "outputs": [
    {
     "data": {
      "text/plain": [
       "['i',\n",
       " 'me',\n",
       " 'my',\n",
       " 'myself',\n",
       " 'we',\n",
       " 'our',\n",
       " 'ours',\n",
       " 'ourselves',\n",
       " 'you',\n",
       " 'your',\n",
       " 'yours',\n",
       " 'yourself',\n",
       " 'yourselves',\n",
       " 'he',\n",
       " 'him',\n",
       " 'his',\n",
       " 'himself',\n",
       " 'she',\n",
       " 'her',\n",
       " 'hers',\n",
       " 'herself',\n",
       " 'it',\n",
       " 'its',\n",
       " 'itself',\n",
       " 'they',\n",
       " 'them',\n",
       " 'their',\n",
       " 'theirs',\n",
       " 'themselves',\n",
       " 'what',\n",
       " 'which',\n",
       " 'who',\n",
       " 'whom',\n",
       " 'this',\n",
       " 'that',\n",
       " 'these',\n",
       " 'those',\n",
       " 'am',\n",
       " 'is',\n",
       " 'are',\n",
       " 'was',\n",
       " 'were',\n",
       " 'be',\n",
       " 'been',\n",
       " 'being',\n",
       " 'have',\n",
       " 'has',\n",
       " 'had',\n",
       " 'having',\n",
       " 'do',\n",
       " 'does',\n",
       " 'did',\n",
       " 'doing',\n",
       " 'a',\n",
       " 'an',\n",
       " 'the',\n",
       " 'and',\n",
       " 'but',\n",
       " 'if',\n",
       " 'or',\n",
       " 'because',\n",
       " 'as',\n",
       " 'until',\n",
       " 'while',\n",
       " 'of',\n",
       " 'at',\n",
       " 'by',\n",
       " 'for',\n",
       " 'with',\n",
       " 'about',\n",
       " 'against',\n",
       " 'between',\n",
       " 'into',\n",
       " 'through',\n",
       " 'during',\n",
       " 'before',\n",
       " 'after',\n",
       " 'above',\n",
       " 'below',\n",
       " 'to',\n",
       " 'from',\n",
       " 'up',\n",
       " 'down',\n",
       " 'in',\n",
       " 'out',\n",
       " 'on',\n",
       " 'off',\n",
       " 'over',\n",
       " 'under',\n",
       " 'again',\n",
       " 'further',\n",
       " 'then',\n",
       " 'once',\n",
       " 'here',\n",
       " 'there',\n",
       " 'when',\n",
       " 'where',\n",
       " 'why',\n",
       " 'how',\n",
       " 'all',\n",
       " 'any',\n",
       " 'both',\n",
       " 'each',\n",
       " 'few',\n",
       " 'more',\n",
       " 'most',\n",
       " 'other',\n",
       " 'some',\n",
       " 'such',\n",
       " 'no',\n",
       " 'nor',\n",
       " 'not',\n",
       " 'only',\n",
       " 'own',\n",
       " 'same',\n",
       " 'so',\n",
       " 'than',\n",
       " 'too',\n",
       " 'very',\n",
       " 's',\n",
       " 't',\n",
       " 'can',\n",
       " 'will',\n",
       " 'just',\n",
       " 'don',\n",
       " 'should',\n",
       " 'now']"
      ]
     },
     "execution_count": 91,
     "metadata": {},
     "output_type": "execute_result"
    }
   ],
   "source": [
    "with open('./sentiment_analysis/stopwords.txt') as f:\n",
    "    lines = f.read().splitlines()\n",
    "lines"
   ]
  },
  {
   "cell_type": "code",
   "execution_count": null,
   "metadata": {},
   "outputs": [],
   "source": []
  }
 ],
 "metadata": {
  "kernelspec": {
   "display_name": "Python 3",
   "language": "python",
   "name": "python3"
  },
  "language_info": {
   "codemirror_mode": {
    "name": "ipython",
    "version": 3
   },
   "file_extension": ".py",
   "mimetype": "text/x-python",
   "name": "python",
   "nbconvert_exporter": "python",
   "pygments_lexer": "ipython3",
   "version": "3.7.3"
  }
 },
 "nbformat": 4,
 "nbformat_minor": 4
}
