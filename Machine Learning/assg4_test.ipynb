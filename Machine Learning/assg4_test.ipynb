{
 "cells": [
  {
   "cell_type": "code",
   "execution_count": 8,
   "metadata": {},
   "outputs": [],
   "source": [
    "import numpy as np\n",
    "import matplotlib.pyplot as plt\n",
    "%matplotlib inline"
   ]
  },
  {
   "cell_type": "code",
   "execution_count": 9,
   "metadata": {},
   "outputs": [],
   "source": [
    "#help(np.min)"
   ]
  },
  {
   "cell_type": "code",
   "execution_count": 10,
   "metadata": {},
   "outputs": [],
   "source": [
    "#help(np.append)"
   ]
  },
  {
   "cell_type": "code",
   "execution_count": 11,
   "metadata": {},
   "outputs": [
    {
     "name": "stdout",
     "output_type": "stream",
     "text": [
      "0\n",
      "1\n",
      "2\n",
      "3\n",
      "4\n"
     ]
    }
   ],
   "source": [
    "i = 0\n",
    "while i < 5:\n",
    "    print(i)\n",
    "    i = i+ 1"
   ]
  },
  {
   "cell_type": "code",
   "execution_count": 12,
   "metadata": {},
   "outputs": [],
   "source": [
    "k_result = np.array([5462.29745234, 1684.9079503,  1329.59486715, 1035.49982654])\n",
    "em_result = np.array([-1307.22343176, -1175.71486373, -1138.89152686, -1138.89104563])"
   ]
  },
  {
   "cell_type": "code",
   "execution_count": 13,
   "metadata": {},
   "outputs": [],
   "source": [
    "def bic(n, d, K, LL):\n",
    "    r = K + (K -1) + K*d\n",
    "    val = LL - np.log(n) * r/2\n",
    "    return val"
   ]
  },
  {
   "cell_type": "code",
   "execution_count": 14,
   "metadata": {},
   "outputs": [
    {
     "data": {
      "text/plain": [
       "-1238.2645483126755"
      ]
     },
     "execution_count": 14,
     "metadata": {},
     "output_type": "execute_result"
    }
   ],
   "source": [
    "n = 15\n",
    "d = 2\n",
    "K = 6\n",
    "LL = -1207.121971\n",
    "v = bic(n, d, K,LL)\n",
    "v"
   ]
  },
  {
   "cell_type": "code",
   "execution_count": 15,
   "metadata": {},
   "outputs": [
    {
     "data": {
      "text/plain": [
       "-1469.6215923834434"
      ]
     },
     "execution_count": 15,
     "metadata": {},
     "output_type": "execute_result"
    }
   ],
   "source": [
    "n = 10\n",
    "d = 2\n",
    "K = 5\n",
    "LL = -1447.747034\n",
    "v = bic(n, d, K,LL)\n",
    "v"
   ]
  },
  {
   "cell_type": "code",
   "execution_count": 16,
   "metadata": {},
   "outputs": [
    {
     "data": {
      "text/plain": [
       "18.999999666945246"
      ]
     },
     "execution_count": 16,
     "metadata": {},
     "output_type": "execute_result"
    }
   ],
   "source": [
    "ans = -1469.621592\n",
    "val = (LL - ans)*2/np.log(n)\n",
    "val"
   ]
  },
  {
   "cell_type": "code",
   "execution_count": 17,
   "metadata": {},
   "outputs": [
    {
     "data": {
      "text/plain": [
       "21.87455799999998"
      ]
     },
     "execution_count": 17,
     "metadata": {},
     "output_type": "execute_result"
    }
   ],
   "source": [
    "(LL - ans)"
   ]
  },
  {
   "cell_type": "code",
   "execution_count": 18,
   "metadata": {},
   "outputs": [],
   "source": [
    "from scipy.special import logsumexp"
   ]
  },
  {
   "cell_type": "code",
   "execution_count": 19,
   "metadata": {},
   "outputs": [
    {
     "data": {
      "text/plain": [
       "4.451914395937593"
      ]
     },
     "execution_count": 19,
     "metadata": {},
     "output_type": "execute_result"
    }
   ],
   "source": [
    "a = np.arange(5)\n",
    "logsumexp(a)"
   ]
  },
  {
   "cell_type": "code",
   "execution_count": 20,
   "metadata": {},
   "outputs": [
    {
     "name": "stdout",
     "output_type": "stream",
     "text": [
      "[[0, 4], [0, 1, 3]]\n",
      "[2 5] [2 9]\n",
      "[1 2 3] [1 2 5]\n"
     ]
    }
   ],
   "source": [
    "a1 = np.array([[2,0,0,0,5],\n",
    "               [1, 2, 0, 3, 0]])\n",
    "b1 = np.array([[2,4,5,8,9],\n",
    "               [1,2,3,5,6]])\n",
    "num, d = a1.shape\n",
    "cu = []\n",
    "for n in np.arange(num):\n",
    "    flag = [i for i in np.arange(d) if a1[n,i] != 0]\n",
    "    cu.append(flag)\n",
    "#map_flag = map_flag.reshape((num, d))\n",
    "print(cu)\n",
    "for n in np.arange(num):\n",
    "    a = a1[n, cu[n]]\n",
    "    b = b1[n, cu[n]]\n",
    "    print(a,b)"
   ]
  },
  {
   "cell_type": "code",
   "execution_count": 21,
   "metadata": {},
   "outputs": [
    {
     "data": {
      "text/plain": [
       "(array([[0, 2, 4]]), (1, 3))"
      ]
     },
     "execution_count": 21,
     "metadata": {},
     "output_type": "execute_result"
    }
   ],
   "source": [
    "a1 = np.array([[2,0,3,0,5],\n",
    "               [1, 2, 0, 3, 0]])\n",
    "b1 = np.array([[2,4,5,8,9],\n",
    "               [1,2,3,5,6]])\n",
    "num, d = a1.shape\n",
    "map_flag = np.array([i for i in np.arange(d) if a1[0,i] != 0]).reshape(1,-1)\n",
    "map_flag, map_flag.shape"
   ]
  },
  {
   "cell_type": "code",
   "execution_count": 22,
   "metadata": {},
   "outputs": [
    {
     "data": {
      "text/plain": [
       "array([list([1, 2, 3]), list([2, 3])], dtype=object)"
      ]
     },
     "execution_count": 22,
     "metadata": {},
     "output_type": "execute_result"
    }
   ],
   "source": [
    "c1 = np.array([[1,2,3],[2,3]])\n",
    "c1"
   ]
  },
  {
   "cell_type": "code",
   "execution_count": 23,
   "metadata": {},
   "outputs": [
    {
     "data": {
      "text/plain": [
       "[2, 3]"
      ]
     },
     "execution_count": 23,
     "metadata": {},
     "output_type": "execute_result"
    }
   ],
   "source": [
    "c1[1]"
   ]
  },
  {
   "cell_type": "code",
   "execution_count": 24,
   "metadata": {},
   "outputs": [
    {
     "data": {
      "text/plain": [
       "array([list([1, 2]), list([4, 5, 6])], dtype=object)"
      ]
     },
     "execution_count": 24,
     "metadata": {},
     "output_type": "execute_result"
    }
   ],
   "source": [
    "c = []\n",
    "c1 = [1,2]\n",
    "c2 = [4,5,6]\n",
    "c.append(c1)\n",
    "c.append(c2)\n",
    "cn = np.array(c)\n",
    "cn"
   ]
  },
  {
   "cell_type": "code",
   "execution_count": 25,
   "metadata": {},
   "outputs": [
    {
     "data": {
      "text/plain": [
       "array([[1, 2, 3],\n",
       "       [4, 5, 6]])"
      ]
     },
     "execution_count": 25,
     "metadata": {},
     "output_type": "execute_result"
    }
   ],
   "source": [
    "w = []\n",
    "w1 = [1,2,3]\n",
    "w2 = [4,5,6]\n",
    "w.append(w1)\n",
    "w.append(w2)\n",
    "nw = np.array(w)\n",
    "nw"
   ]
  },
  {
   "cell_type": "code",
   "execution_count": 27,
   "metadata": {},
   "outputs": [
    {
     "data": {
      "text/plain": [
       "0"
      ]
     },
     "execution_count": 27,
     "metadata": {},
     "output_type": "execute_result"
    }
   ],
   "source": [
    "w = []\n",
    "len(w)"
   ]
  },
  {
   "cell_type": "code",
   "execution_count": 30,
   "metadata": {},
   "outputs": [
    {
     "data": {
      "text/plain": [
       "(0, 5)"
      ]
     },
     "execution_count": 30,
     "metadata": {},
     "output_type": "execute_result"
    }
   ],
   "source": [
    "t1 = False\n",
    "t2 = True\n",
    "t1 * 2, t2 * 5"
   ]
  },
  {
   "cell_type": "code",
   "execution_count": 33,
   "metadata": {},
   "outputs": [
    {
     "data": {
      "text/plain": [
       "array([[ 1, 10,  3, 10],\n",
       "       [ 5,  6,  7,  8],\n",
       "       [ 9, 10, 11, 12]])"
      ]
     },
     "execution_count": 33,
     "metadata": {},
     "output_type": "execute_result"
    }
   ],
   "source": [
    "t1 = np.array(np.arange(1,13)).reshape(3,4)\n",
    "t1[0, [1,3]] = 10\n",
    "t1"
   ]
  },
  {
   "cell_type": "code",
   "execution_count": 35,
   "metadata": {},
   "outputs": [
    {
     "data": {
      "text/plain": [
       "2"
      ]
     },
     "execution_count": 35,
     "metadata": {},
     "output_type": "execute_result"
    }
   ],
   "source": [
    "alist = [[1,2],[4,5,6]]\n",
    "len(alist)"
   ]
  },
  {
   "cell_type": "code",
   "execution_count": 37,
   "metadata": {},
   "outputs": [],
   "source": [
    "#help(np.reshape)"
   ]
  },
  {
   "cell_type": "code",
   "execution_count": 44,
   "metadata": {},
   "outputs": [
    {
     "data": {
      "text/plain": [
       "(array([[ 1,  2,  3,  4],\n",
       "        [ 5,  6,  7,  8],\n",
       "        [ 9, 10, 11, 12]]),\n",
       " array([[101, 102, 103, 104],\n",
       "        [105, 106, 107, 108],\n",
       "        [109, 110, 111, 112]]))"
      ]
     },
     "execution_count": 44,
     "metadata": {},
     "output_type": "execute_result"
    }
   ],
   "source": [
    "u = np.array(np.arange(1,13)).reshape(3,4)\n",
    "v = np.array(np.arange(101, 113)).reshape(3,4)\n",
    "u,v"
   ]
  },
  {
   "cell_type": "code",
   "execution_count": 45,
   "metadata": {},
   "outputs": [],
   "source": [
    "u[1] = v[1]"
   ]
  },
  {
   "cell_type": "code",
   "execution_count": 46,
   "metadata": {},
   "outputs": [
    {
     "data": {
      "text/plain": [
       "(array([[  1,   2,   3,   4],\n",
       "        [105, 106, 107, 108],\n",
       "        [  9,  10,  11,  12]]),\n",
       " array([[101, 102, 103, 104],\n",
       "        [105, 106, 107, 108],\n",
       "        [109, 110, 111, 112]]))"
      ]
     },
     "execution_count": 46,
     "metadata": {},
     "output_type": "execute_result"
    }
   ],
   "source": [
    "u,v"
   ]
  },
  {
   "cell_type": "code",
   "execution_count": null,
   "metadata": {},
   "outputs": [],
   "source": [
    "Mu: [[0.41077387 0.63624413]\n",
    " [0.53764366 0.59028913]\n",
    " [0.49197915 0.60967321]\n",
    " [0.48802184 0.60538121]\n",
    " [0.58135134 0.64956631]\n",
    " [0.42757693 0.55222412]\n",
    " [0.49924273 0.59304358]\n",
    " [0.44226616 0.60200728]\n",
    " [0.54203216 0.66760912]]\n",
    "Var: [0.25 0.25 0.25 0.25 0.25 0.25 0.25 0.25 0.25]\n",
    "P: [0.11384329 0.09264076 0.09886894 0.12439608 0.09727906 0.1233966\n",
    " 0.11249143 0.10730585 0.12977798]"
   ]
  }
 ],
 "metadata": {
  "kernelspec": {
   "display_name": "Python 3",
   "language": "python",
   "name": "python3"
  },
  "language_info": {
   "codemirror_mode": {
    "name": "ipython",
    "version": 3
   },
   "file_extension": ".py",
   "mimetype": "text/x-python",
   "name": "python",
   "nbconvert_exporter": "python",
   "pygments_lexer": "ipython3",
   "version": "3.7.3"
  }
 },
 "nbformat": 4,
 "nbformat_minor": 4
}
