{
 "cells": [
  {
   "cell_type": "code",
   "execution_count": 1,
   "metadata": {},
   "outputs": [],
   "source": [
    "import numpy as np\n",
    "import matplotlib.pyplot as plt\n",
    "%matplotlib inline\n",
    "from scipy.stats import norm"
   ]
  },
  {
   "cell_type": "code",
   "execution_count": 2,
   "metadata": {},
   "outputs": [
    {
     "name": "stdout",
     "output_type": "stream",
     "text": [
      "n1 =  [6.07588285e-09 4.36341348e-04]\n",
      "n1 =  [0.05399097 0.0647588 ]\n",
      "n1 =  [0.24197072 0.12098536]\n",
      "n1 =  [0.39894228 0.17603266]\n",
      "nn = \n",
      " [[9.13472041e-12 6.69151129e-05]\n",
      " [6.07588285e-09 4.36341348e-04]\n",
      " [5.39909665e-02 6.47587978e-02]\n",
      " [2.41970725e-01 1.20985362e-01]\n",
      " [3.98942280e-01 1.76032663e-01]]\n",
      "px = \n",
      " [3.34575610e-05 2.18173712e-04 5.93748822e-02 1.81478043e-01\n",
      " 2.87487472e-01]\n",
      "pj_x = \n",
      " [[4.56736020e-12 3.34575564e-05]\n",
      " [3.03794142e-09 2.18170674e-04]\n",
      " [2.69954833e-02 3.23793989e-02]\n",
      " [1.20985362e-01 6.04926811e-02]\n",
      " [1.99471140e-01 8.80163317e-02]]\n",
      "pj_x = \n",
      " [[1.36512049e-07 9.99999863e-01]\n",
      " [1.39244156e-05 9.99986076e-01]\n",
      " [4.54661673e-01 5.45338327e-01]\n",
      " [6.66666667e-01 3.33333333e-01]\n",
      " [6.93842896e-01 3.06157104e-01]]\n",
      "nj =  [1.8151853 3.1848147]\n",
      "new pj =  [0.36303706 0.63696294]\n",
      "new mu =  [5.13172803 1.47103149]\n",
      "var =  [0.6155625 6.9670221]\n"
     ]
    }
   ],
   "source": [
    "x = np.array([-1, 0, 4, 5, 6])\n",
    "mu = np.array([6,7])\n",
    "var = np.array([1,4])\n",
    "pj = np.array([0.5,0.5])\n",
    "nn = np.array([norm.pdf(x[0],loc=mu[0], scale=np.sqrt(var[0])), \n",
    "              norm.pdf(x[0],loc=mu[1], scale=np.sqrt(var[1]))])\n",
    "for i in np.arange(1,len(x)):\n",
    "    n1 = np.array([norm.pdf(x[i],loc=mu[0], scale=np.sqrt(var[0])), \n",
    "              norm.pdf(x[i],loc=mu[1], scale=np.sqrt(var[1]))])\n",
    "    print('n1 = ', n1)\n",
    "    nn = np.vstack((nn, n1))\n",
    "print('nn = \\n', nn)\n",
    "px = np.matmul(nn, np.transpose(pj))\n",
    "print('px = \\n', px)\n",
    "pj_x = nn * pj\n",
    "print('pj_x = \\n', pj_x)\n",
    "pj_x = pj_x/px.reshape((5,1))\n",
    "print('pj_x = \\n', pj_x)\n",
    "\n",
    "nj = np.sum(pj_x, axis=0)\n",
    "print('nj = ', nj)\n",
    "\n",
    "# M step\n",
    "pj = nj/len(x)\n",
    "print('new pj = ', pj)\n",
    "u = pj_x * x.reshape((5,1))\n",
    "u = np.sum(u, axis=0)\n",
    "mu = u/nj\n",
    "print('new mu = ', mu)\n",
    "v = np.array([x - mu[0], x-mu[1]])\n",
    "v = v**2\n",
    "v = pj_x * np.transpose(v)\n",
    "v = np.sum(v, axis=0)\n",
    "var = v/nj\n",
    "\n",
    "print('var = ', var)"
   ]
  },
  {
   "cell_type": "code",
   "execution_count": 7,
   "metadata": {},
   "outputs": [],
   "source": [
    "\n",
    "x = np.array([-1, 0, 4, 5, 6])\n",
    "mu = np.array([6,7])\n",
    "var = np.array([1,4])\n",
    "pj = np.array([0.5,0.5])"
   ]
  },
  {
   "cell_type": "code",
   "execution_count": 8,
   "metadata": {},
   "outputs": [
    {
     "name": "stdout",
     "output_type": "stream",
     "text": [
      "n1 =  [6.07588285e-09 4.36341348e-04]\n",
      "n1 =  [0.05399097 0.0647588 ]\n",
      "n1 =  [0.24197072 0.12098536]\n",
      "n1 =  [0.39894228 0.17603266]\n",
      "nn = \n",
      " [[9.13472041e-12 6.69151129e-05]\n",
      " [6.07588285e-09 4.36341348e-04]\n",
      " [5.39909665e-02 6.47587978e-02]\n",
      " [2.41970725e-01 1.20985362e-01]\n",
      " [3.98942280e-01 1.76032663e-01]]\n",
      "px = \n",
      " [3.34575610e-05 2.18173712e-04 5.93748822e-02 1.81478043e-01\n",
      " 2.87487472e-01]\n",
      "cost = \t -24.512532330086678\n",
      "pj_x = \n",
      " [[4.56736020e-12 3.34575564e-05]\n",
      " [3.03794142e-09 2.18170674e-04]\n",
      " [2.69954833e-02 3.23793989e-02]\n",
      " [1.20985362e-01 6.04926811e-02]\n",
      " [1.99471140e-01 8.80163317e-02]]\n",
      "pj_x = \n",
      " [[1.36512049e-07 9.99999863e-01]\n",
      " [1.39244156e-05 9.99986076e-01]\n",
      " [4.54661673e-01 5.45338327e-01]\n",
      " [6.66666667e-01 3.33333333e-01]\n",
      " [6.93842896e-01 3.06157104e-01]]\n",
      "nj =  [1.8151853 3.1848147]\n",
      "new pj =  [0.36303706 0.63696294]\n",
      "new mu =  [5.13172803 1.47103149]\n",
      "var =  [0.6155625 6.9670221]\n"
     ]
    }
   ],
   "source": [
    "\n",
    "nn = np.array([norm.pdf(x[0],loc=mu[0], scale=np.sqrt(var[0])), \n",
    "              norm.pdf(x[0],loc=mu[1], scale=np.sqrt(var[1]))])\n",
    "for i in np.arange(1,len(x)):\n",
    "    n1 = np.array([norm.pdf(x[i],loc=mu[0], scale=np.sqrt(var[0])), \n",
    "              norm.pdf(x[i],loc=mu[1], scale=np.sqrt(var[1]))])\n",
    "    print('n1 = ', n1)\n",
    "    nn = np.vstack((nn, n1))\n",
    "print('nn = \\n', nn)\n",
    "px = np.matmul(nn, np.transpose(pj))\n",
    "print('px = \\n', px)\n",
    "\n",
    "# calculate the cost function which is summation of i=1 to N of log(Px)\n",
    "cost = np.log(px)\n",
    "cost = np.sum(cost)\n",
    "print('cost = \\t', cost)\n",
    "\n",
    "pj_x = nn * pj\n",
    "print('pj_x = \\n', pj_x)\n",
    "pj_x = pj_x/px.reshape((5,1))\n",
    "print('pj_x = \\n', pj_x)\n",
    "\n",
    "nj = np.sum(pj_x, axis=0)\n",
    "print('nj = ', nj)\n",
    "\n",
    "# M step\n",
    "pj = nj/len(x)\n",
    "print('new pj = ', pj)\n",
    "u = pj_x * x.reshape((5,1))\n",
    "u = np.sum(u, axis=0)\n",
    "mu = u/nj\n",
    "print('new mu = ', mu)\n",
    "v = np.array([x - mu[0], x-mu[1]])\n",
    "v = v**2\n",
    "v = pj_x * np.transpose(v)\n",
    "v = np.sum(v, axis=0)\n",
    "var = v/nj\n",
    "\n",
    "print('var = ', var)"
   ]
  },
  {
   "cell_type": "code",
   "execution_count": 6,
   "metadata": {},
   "outputs": [
    {
     "data": {
      "text/plain": [
       "array([2.77386897e-14, 9.75159285e-02])"
      ]
     },
     "execution_count": 6,
     "metadata": {},
     "output_type": "execute_result"
    }
   ],
   "source": [
    "nn[0]"
   ]
  },
  {
   "cell_type": "code",
   "execution_count": 7,
   "metadata": {},
   "outputs": [
    {
     "data": {
      "text/plain": [
       "676"
      ]
     },
     "execution_count": 7,
     "metadata": {},
     "output_type": "execute_result"
    }
   ],
   "source": [
    "26*26"
   ]
  },
  {
   "cell_type": "code",
   "execution_count": 17,
   "metadata": {},
   "outputs": [
    {
     "data": {
      "text/plain": [
       "3"
      ]
     },
     "execution_count": 17,
     "metadata": {},
     "output_type": "execute_result"
    }
   ],
   "source": [
    "x2 = np.random.randint(1,21,6).reshape(2,3)\n",
    "x2.shape[1]"
   ]
  },
  {
   "cell_type": "code",
   "execution_count": 19,
   "metadata": {},
   "outputs": [],
   "source": [
    "## K-means:\n",
    "## step 0: initialize Zi\n",
    "def z_init(X,K):\n",
    "    temp = np.random.randint(0, X.shape[1], K)\n",
    "    return temp"
   ]
  },
  {
   "cell_type": "code",
   "execution_count": 85,
   "metadata": {},
   "outputs": [],
   "source": [
    "## step 2a:\n",
    "def update_cj(X, Z):\n",
    "    c = np.zeros(X.shape[1])\n",
    "    for i in np.arange(X.shape[1]):\n",
    "        t1 = X[:,i].reshape(X.shape[0],1)\n",
    "        print('t1 = \\t', t1)\n",
    "        t1 = (t1-Z)**2\n",
    "        print('after square, t1 = \\t', t1)\n",
    "        dist = np.sum(t1,axis=0)\n",
    "        print('dist = ', dist)\n",
    "        c[i] = np.argmin(dist)\n",
    "        ans = \"c{} = {}\".format(i, c[i])\n",
    "        print(ans)\n",
    "    return c"
   ]
  },
  {
   "cell_type": "code",
   "execution_count": 86,
   "metadata": {},
   "outputs": [],
   "source": [
    "## step 2b:\n",
    "## update Z\n",
    "def update_Z(X, C, K):\n",
    "    z = np.zeros(X.shape[0]*K).reshape((X.shape[0],K))\n",
    "    for j in np.arange(K):\n",
    "        cluster = (C == j)\n",
    "        z[:,j] = np.sum(X[:,cluster], axis=1)/np.sum(C==j)\n",
    "        ans = 'inside update_Z, z{} = {}'.format(j, z[:,j])\n",
    "        print(ans)\n",
    "    return z"
   ]
  },
  {
   "cell_type": "code",
   "execution_count": 44,
   "metadata": {},
   "outputs": [],
   "source": [
    "def K_means(X):\n",
    "    k = 2\n",
    "    iter = 1\n",
    "    # Z = z_init(X, k)\n",
    "    Z = np.array([[-5,0],[2,-6]])\n",
    "    for i in arange(iter):\n",
    "        C = update_cj(X, Z)\n",
    "        Z = update_Z(X, C, K)"
   ]
  },
  {
   "cell_type": "code",
   "execution_count": 77,
   "metadata": {},
   "outputs": [],
   "source": [
    "## step 2b for K-medoids, Zi must be one of the points in the cluster\n",
    "def update_Z2(X, C, K):\n",
    "    z = np.zeros(X.shape[0]*K).reshape((X.shape[0],K))\n",
    "    for j in np.arange(K):\n",
    "        cluster = (C == j)\n",
    "        x_sub = x[:, cluster]\n",
    "        dist = np.zeros(len(cluster))\n",
    "        \n",
    "        t1 = X[:,i].reshape(X.shape[0],1)\n",
    "        print('t1 = \\t', t1)\n",
    "        t1 = (t1-Z)**2\n",
    "        print('after square, t1 = \\t', t1)\n",
    "        dist = np.sum(t1,axis=0)\n",
    "        print('dist = ', dist)\n",
    "        c[i] = np.argmin(dist)\n",
    "        \n",
    "        for m in np.arange(x_sub.shape[1]):\n",
    "            dist[m] = np.sum(np.linalg.norm(x_sub[:,m], x_sub))\n",
    "        ind = np.argmin(dist)\n",
    "        z[:,j] = X[:,ind]\n",
    "    return z"
   ]
  },
  {
   "cell_type": "code",
   "execution_count": 83,
   "metadata": {},
   "outputs": [],
   "source": [
    "def K_medoids(X, Z):\n",
    "    K = 2\n",
    "    iter = 1\n",
    "    # Z = z_init(X, k)\n",
    "    for i in np.arange(iter):\n",
    "        C = update_cj(X, Z)\n",
    "        Z = update_Z2(X, C, K)"
   ]
  },
  {
   "cell_type": "code",
   "execution_count": 84,
   "metadata": {},
   "outputs": [
    {
     "name": "stdout",
     "output_type": "stream",
     "text": [
      "t1 = \t [[ 0]\n",
      " [-6]]\n",
      "after square, t1 = \t [[25  0]\n",
      " [64  0]]\n",
      "dist =  [89  0]\n",
      "c0 = 1.0\n",
      "t1 = \t [[4]\n",
      " [4]]\n",
      "after square, t1 = \t [[ 81  16]\n",
      " [  4 100]]\n",
      "dist =  [ 85 116]\n",
      "c1 = 0.0\n",
      "t1 = \t [[0]\n",
      " [0]]\n",
      "after square, t1 = \t [[25  0]\n",
      " [ 4 36]]\n",
      "dist =  [29 36]\n",
      "c2 = 0.0\n",
      "t1 = \t [[-5]\n",
      " [ 2]]\n",
      "after square, t1 = \t [[ 0 25]\n",
      " [ 0 64]]\n",
      "dist =  [ 0 89]\n",
      "c3 = 0.0\n"
     ]
    },
    {
     "name": "stderr",
     "output_type": "stream",
     "text": [
      "/Users/kilingcheung/anaconda3/lib/python3.7/site-packages/numpy/linalg/linalg.py:2469: FutureWarning: elementwise comparison failed; returning scalar instead, but in the future will perform elementwise comparison\n",
      "  (ord in ('f', 'fro') and ndim == 2) or\n"
     ]
    },
    {
     "ename": "ValueError",
     "evalue": "The truth value of an array with more than one element is ambiguous. Use a.any() or a.all()",
     "output_type": "error",
     "traceback": [
      "\u001b[0;31m---------------------------------------------------------------------------\u001b[0m",
      "\u001b[0;31mValueError\u001b[0m                                Traceback (most recent call last)",
      "\u001b[0;32m<ipython-input-84-79697484d832>\u001b[0m in \u001b[0;36m<module>\u001b[0;34m\u001b[0m\n\u001b[0;32m----> 1\u001b[0;31m \u001b[0mK_medoids\u001b[0m\u001b[0;34m(\u001b[0m\u001b[0mx\u001b[0m\u001b[0;34m,\u001b[0m\u001b[0mzz\u001b[0m\u001b[0;34m)\u001b[0m\u001b[0;34m\u001b[0m\u001b[0;34m\u001b[0m\u001b[0m\n\u001b[0m",
      "\u001b[0;32m<ipython-input-83-bc7eb6a49010>\u001b[0m in \u001b[0;36mK_medoids\u001b[0;34m(X, Z)\u001b[0m\n\u001b[1;32m      5\u001b[0m     \u001b[0;32mfor\u001b[0m \u001b[0mi\u001b[0m \u001b[0;32min\u001b[0m \u001b[0mnp\u001b[0m\u001b[0;34m.\u001b[0m\u001b[0marange\u001b[0m\u001b[0;34m(\u001b[0m\u001b[0miter\u001b[0m\u001b[0;34m)\u001b[0m\u001b[0;34m:\u001b[0m\u001b[0;34m\u001b[0m\u001b[0;34m\u001b[0m\u001b[0m\n\u001b[1;32m      6\u001b[0m         \u001b[0mC\u001b[0m \u001b[0;34m=\u001b[0m \u001b[0mupdate_cj\u001b[0m\u001b[0;34m(\u001b[0m\u001b[0mX\u001b[0m\u001b[0;34m,\u001b[0m \u001b[0mZ\u001b[0m\u001b[0;34m)\u001b[0m\u001b[0;34m\u001b[0m\u001b[0;34m\u001b[0m\u001b[0m\n\u001b[0;32m----> 7\u001b[0;31m         \u001b[0mZ\u001b[0m \u001b[0;34m=\u001b[0m \u001b[0mupdate_Z2\u001b[0m\u001b[0;34m(\u001b[0m\u001b[0mX\u001b[0m\u001b[0;34m,\u001b[0m \u001b[0mC\u001b[0m\u001b[0;34m,\u001b[0m \u001b[0mK\u001b[0m\u001b[0;34m)\u001b[0m\u001b[0;34m\u001b[0m\u001b[0;34m\u001b[0m\u001b[0m\n\u001b[0m",
      "\u001b[0;32m<ipython-input-77-9e811427fb92>\u001b[0m in \u001b[0;36mupdate_Z2\u001b[0;34m(X, C, K)\u001b[0m\n\u001b[1;32m      7\u001b[0m         \u001b[0mdist\u001b[0m \u001b[0;34m=\u001b[0m \u001b[0mnp\u001b[0m\u001b[0;34m.\u001b[0m\u001b[0mzeros\u001b[0m\u001b[0;34m(\u001b[0m\u001b[0mlen\u001b[0m\u001b[0;34m(\u001b[0m\u001b[0mcluster\u001b[0m\u001b[0;34m)\u001b[0m\u001b[0;34m)\u001b[0m\u001b[0;34m\u001b[0m\u001b[0;34m\u001b[0m\u001b[0m\n\u001b[1;32m      8\u001b[0m         \u001b[0;32mfor\u001b[0m \u001b[0mm\u001b[0m \u001b[0;32min\u001b[0m \u001b[0mnp\u001b[0m\u001b[0;34m.\u001b[0m\u001b[0marange\u001b[0m\u001b[0;34m(\u001b[0m\u001b[0mx_sub\u001b[0m\u001b[0;34m.\u001b[0m\u001b[0mshape\u001b[0m\u001b[0;34m[\u001b[0m\u001b[0;36m1\u001b[0m\u001b[0;34m]\u001b[0m\u001b[0;34m)\u001b[0m\u001b[0;34m:\u001b[0m\u001b[0;34m\u001b[0m\u001b[0;34m\u001b[0m\u001b[0m\n\u001b[0;32m----> 9\u001b[0;31m             \u001b[0mdist\u001b[0m\u001b[0;34m[\u001b[0m\u001b[0mm\u001b[0m\u001b[0;34m]\u001b[0m \u001b[0;34m=\u001b[0m \u001b[0mnp\u001b[0m\u001b[0;34m.\u001b[0m\u001b[0msum\u001b[0m\u001b[0;34m(\u001b[0m\u001b[0mnp\u001b[0m\u001b[0;34m.\u001b[0m\u001b[0mlinalg\u001b[0m\u001b[0;34m.\u001b[0m\u001b[0mnorm\u001b[0m\u001b[0;34m(\u001b[0m\u001b[0mx_sub\u001b[0m\u001b[0;34m[\u001b[0m\u001b[0;34m:\u001b[0m\u001b[0;34m,\u001b[0m\u001b[0mm\u001b[0m\u001b[0;34m]\u001b[0m\u001b[0;34m,\u001b[0m \u001b[0mx_sub\u001b[0m\u001b[0;34m)\u001b[0m\u001b[0;34m)\u001b[0m\u001b[0;34m\u001b[0m\u001b[0;34m\u001b[0m\u001b[0m\n\u001b[0m\u001b[1;32m     10\u001b[0m         \u001b[0mind\u001b[0m \u001b[0;34m=\u001b[0m \u001b[0mnp\u001b[0m\u001b[0;34m.\u001b[0m\u001b[0margmin\u001b[0m\u001b[0;34m(\u001b[0m\u001b[0mdist\u001b[0m\u001b[0;34m)\u001b[0m\u001b[0;34m\u001b[0m\u001b[0;34m\u001b[0m\u001b[0m\n\u001b[1;32m     11\u001b[0m         \u001b[0mz\u001b[0m\u001b[0;34m[\u001b[0m\u001b[0;34m:\u001b[0m\u001b[0;34m,\u001b[0m\u001b[0mj\u001b[0m\u001b[0;34m]\u001b[0m \u001b[0;34m=\u001b[0m \u001b[0mX\u001b[0m\u001b[0;34m[\u001b[0m\u001b[0;34m:\u001b[0m\u001b[0;34m,\u001b[0m\u001b[0mind\u001b[0m\u001b[0;34m]\u001b[0m\u001b[0;34m\u001b[0m\u001b[0;34m\u001b[0m\u001b[0m\n",
      "\u001b[0;32m<__array_function__ internals>\u001b[0m in \u001b[0;36mnorm\u001b[0;34m(*args, **kwargs)\u001b[0m\n",
      "\u001b[0;32m~/anaconda3/lib/python3.7/site-packages/numpy/linalg/linalg.py\u001b[0m in \u001b[0;36mnorm\u001b[0;34m(x, ord, axis, keepdims)\u001b[0m\n\u001b[1;32m   2468\u001b[0m         if ((ord is None) or\n\u001b[1;32m   2469\u001b[0m             \u001b[0;34m(\u001b[0m\u001b[0mord\u001b[0m \u001b[0;32min\u001b[0m \u001b[0;34m(\u001b[0m\u001b[0;34m'f'\u001b[0m\u001b[0;34m,\u001b[0m \u001b[0;34m'fro'\u001b[0m\u001b[0;34m)\u001b[0m \u001b[0;32mand\u001b[0m \u001b[0mndim\u001b[0m \u001b[0;34m==\u001b[0m \u001b[0;36m2\u001b[0m\u001b[0;34m)\u001b[0m \u001b[0;32mor\u001b[0m\u001b[0;34m\u001b[0m\u001b[0;34m\u001b[0m\u001b[0m\n\u001b[0;32m-> 2470\u001b[0;31m             (ord == 2 and ndim == 1)):\n\u001b[0m\u001b[1;32m   2471\u001b[0m \u001b[0;34m\u001b[0m\u001b[0m\n\u001b[1;32m   2472\u001b[0m             \u001b[0mx\u001b[0m \u001b[0;34m=\u001b[0m \u001b[0mx\u001b[0m\u001b[0;34m.\u001b[0m\u001b[0mravel\u001b[0m\u001b[0;34m(\u001b[0m\u001b[0morder\u001b[0m\u001b[0;34m=\u001b[0m\u001b[0;34m'K'\u001b[0m\u001b[0;34m)\u001b[0m\u001b[0;34m\u001b[0m\u001b[0;34m\u001b[0m\u001b[0m\n",
      "\u001b[0;31mValueError\u001b[0m: The truth value of an array with more than one element is ambiguous. Use a.any() or a.all()"
     ]
    }
   ],
   "source": [
    "K_medoids(x,zz)"
   ]
  },
  {
   "cell_type": "code",
   "execution_count": 26,
   "metadata": {},
   "outputs": [
    {
     "data": {
      "text/plain": [
       "array([[ 0,  4,  0, -5],\n",
       "       [-6,  4,  0,  2]])"
      ]
     },
     "execution_count": 26,
     "metadata": {},
     "output_type": "execute_result"
    }
   ],
   "source": [
    "x = np.transpose(np.array([[0,-6],[4,4], [0,0],[-5,2]]))\n",
    "x"
   ]
  },
  {
   "cell_type": "code",
   "execution_count": 27,
   "metadata": {},
   "outputs": [
    {
     "data": {
      "text/plain": [
       "<matplotlib.collections.PathCollection at 0x7fca3fc18f98>"
      ]
     },
     "execution_count": 27,
     "metadata": {},
     "output_type": "execute_result"
    },
    {
     "data": {
      "image/png": "[encoded data removed]",
      "text/plain": [
       "<Figure size 432x288 with 1 Axes>"
      ]
     },
     "metadata": {
      "needs_background": "light"
     },
     "output_type": "display_data"
    }
   ],
   "source": [
    "plt.scatter(x[0],x[1])"
   ]
  },
  {
   "cell_type": "code",
   "execution_count": 29,
   "metadata": {},
   "outputs": [
    {
     "data": {
      "text/plain": [
       "array([[-5,  0],\n",
       "       [ 2, -6]])"
      ]
     },
     "execution_count": 29,
     "metadata": {},
     "output_type": "execute_result"
    }
   ],
   "source": [
    "zz = np.array([[-5,0],[2,-6]])\n",
    "zz"
   ]
  },
  {
   "cell_type": "code",
   "execution_count": 87,
   "metadata": {},
   "outputs": [
    {
     "name": "stdout",
     "output_type": "stream",
     "text": [
      "before: Z = \t [[-5  0]\n",
      " [ 2 -6]]\n",
      "t1 = \t [[ 0]\n",
      " [-6]]\n",
      "after square, t1 = \t [[25  0]\n",
      " [64  0]]\n",
      "dist =  [89  0]\n",
      "c0 = 1.0\n",
      "t1 = \t [[4]\n",
      " [4]]\n",
      "after square, t1 = \t [[ 81  16]\n",
      " [  4 100]]\n",
      "dist =  [ 85 116]\n",
      "c1 = 0.0\n",
      "t1 = \t [[0]\n",
      " [0]]\n",
      "after square, t1 = \t [[25  0]\n",
      " [ 4 36]]\n",
      "dist =  [29 36]\n",
      "c2 = 0.0\n",
      "t1 = \t [[-5]\n",
      " [ 2]]\n",
      "after square, t1 = \t [[ 0 25]\n",
      " [ 0 64]]\n",
      "dist =  [ 0 89]\n",
      "c3 = 0.0\n",
      "inside update_Z, z0 = [-0.33333333  2.        ]\n",
      "inside update_Z, z1 = [ 0. -6.]\n",
      "X = \t [[ 0  4  0 -5]\n",
      " [-6  4  0  2]]\n",
      "Z = \t [[-0.33333333  0.        ]\n",
      " [ 2.         -6.        ]]\n",
      "C = \t [1. 0. 0. 0.]\n"
     ]
    }
   ],
   "source": [
    "def K_means2(X):\n",
    "    K = 2\n",
    "    iter = 1\n",
    "    # Z = z_init(X, k)\n",
    "    Z = np.array([[-5,0],[2,-6]])\n",
    "    print('before: Z = \\t', Z)\n",
    "    for i in np.arange(iter):\n",
    "        C = update_cj(X, Z)\n",
    "        Z = update_Z(X, C, K)\n",
    "    print('X = \\t', X)\n",
    "    print('Z = \\t', Z)\n",
    "    print('C = \\t', C)\n",
    "    \n",
    "K_means2(x)"
   ]
  },
  {
   "cell_type": "code",
   "execution_count": 88,
   "metadata": {},
   "outputs": [
    {
     "name": "stdout",
     "output_type": "stream",
     "text": [
      "[ 0 -6] [[-5  0]\n",
      " [ 2 -6]]\n"
     ]
    },
    {
     "data": {
      "text/plain": [
       "array([[ 5,  0],\n",
       "       [-8,  0]])"
      ]
     },
     "execution_count": 88,
     "metadata": {},
     "output_type": "execute_result"
    }
   ],
   "source": [
    "t1 = x[:,0]\n",
    "print(t1, zz)\n",
    "t1.reshape(2,1) - zz\n",
    "## dist = np.linalg.norm(t1, zz)"
   ]
  },
  {
   "cell_type": "code",
   "execution_count": 89,
   "metadata": {},
   "outputs": [],
   "source": [
    "def update_cj(X, Z):\n",
    "    c = np.zeros(X.shape[1])\n",
    "    for i in np.arange(X.shape[1]):\n",
    "        t1 = X[:,i]\n",
    "        print('t1 = \\t', t1)\n",
    "        t1 = (t1-Z)**2\n",
    "        print('after square, t1 = \\t', t1)\n",
    "        dist = np.sum(t1,axis=0)\n",
    "        print('dist = ', dist)\n",
    "        c[i] = np.argmin(dist)\n",
    "    return c"
   ]
  },
  {
   "cell_type": "code",
   "execution_count": 95,
   "metadata": {},
   "outputs": [
    {
     "name": "stdout",
     "output_type": "stream",
     "text": [
      "abc = 0.03279883381924198, bbb = 0.04555393586005831, abb = 0.05466472303206997, aac = 0.039358600583090375\n",
      "the biggest one is:  0.05466472303206997\n"
     ]
    }
   ],
   "source": [
    "pa = 3/7\n",
    "pb =5/14\n",
    "pc = 3/14\n",
    "abc = pa * pb * pc\n",
    "bbb = pb* pb * pb\n",
    "abb = pa * pb * pb\n",
    "aac = pa * pa * pc\n",
    "ans = 'abc = {}, bbb = {}, abb = {}, aac = {}'.format(abc, bbb, abb, aac)\n",
    "print(ans)\n",
    "print('the biggest one is: ', max(abc, bbb, abb, aac))"
   ]
  },
  {
   "cell_type": "code",
   "execution_count": 5,
   "metadata": {},
   "outputs": [
    {
     "data": {
      "text/plain": [
       "array([[ 0,  1,  2,  3,  4],\n",
       "       [ 5,  6,  7,  8,  9],\n",
       "       [10, 11, 12, 13, 14],\n",
       "       [15, 16, 17, 18, 19]])"
      ]
     },
     "execution_count": 5,
     "metadata": {},
     "output_type": "execute_result"
    }
   ],
   "source": [
    "ww = np.arange(20)\n",
    "ww = ww.reshape((4,5))\n",
    "ww\n"
   ]
  },
  {
   "cell_type": "code",
   "execution_count": 6,
   "metadata": {},
   "outputs": [],
   "source": [
    "from scipy.stats import multivariate_normal as normal"
   ]
  },
  {
   "cell_type": "code",
   "execution_count": 7,
   "metadata": {},
   "outputs": [
    {
     "name": "stdout",
     "output_type": "stream",
     "text": [
      "Help on method pdf in module scipy.stats._multivariate:\n",
      "\n",
      "pdf(x, mean=None, cov=1, allow_singular=False) method of scipy.stats._multivariate.multivariate_normal_gen instance\n",
      "    Multivariate normal probability density function.\n",
      "    \n",
      "    Parameters\n",
      "    ----------\n",
      "    x : array_like\n",
      "        Quantiles, with the last axis of `x` denoting the components.\n",
      "    mean : array_like, optional\n",
      "        Mean of the distribution (default zero)\n",
      "    cov : array_like, optional\n",
      "        Covariance matrix of the distribution (default one)\n",
      "    allow_singular : bool, optional\n",
      "        Whether to allow a singular covariance matrix.  (Default: False)\n",
      "    \n",
      "    Returns\n",
      "    -------\n",
      "    pdf : ndarray or scalar\n",
      "        Probability density function evaluated at `x`\n",
      "    \n",
      "    Notes\n",
      "    -----\n",
      "    Setting the parameter `mean` to `None` is equivalent to having `mean`\n",
      "        be the zero-vector. The parameter `cov` can be a scalar, in which case\n",
      "        the covariance matrix is the identity times that value, a vector of\n",
      "        diagonal entries for the covariance matrix, or a two-dimensional\n",
      "        array_like.\n",
      "\n"
     ]
    }
   ],
   "source": [
    "help(normal.pdf)"
   ]
  },
  {
   "cell_type": "code",
   "execution_count": 10,
   "metadata": {},
   "outputs": [
    {
     "data": {
      "text/plain": [
       "array([[1., 0., 0.],\n",
       "       [0., 2., 0.],\n",
       "       [0., 0., 3.]])"
      ]
     },
     "execution_count": 10,
     "metadata": {},
     "output_type": "execute_result"
    }
   ],
   "source": [
    "v1 = np.eye(3)\n",
    "v2 = np.array(np.arange(1,4))\n",
    "v2*v1"
   ]
  },
  {
   "cell_type": "code",
   "execution_count": 26,
   "metadata": {},
   "outputs": [
    {
     "name": "stdout",
     "output_type": "stream",
     "text": [
      "[2 5 3] [[ 3  4  5]\n",
      " [ 6  7  8]\n",
      " [ 9 10 11]] [[ 1 -1  2]\n",
      " [ 4  2  5]\n",
      " [ 7  5  8]]\n"
     ]
    },
    {
     "data": {
      "text/plain": [
       "array([  6.,  45., 138.])"
      ]
     },
     "execution_count": 26,
     "metadata": {},
     "output_type": "execute_result"
    }
   ],
   "source": [
    "a = np.array([2,5,3])\n",
    "b = np.arange(3,12).reshape(3,3)\n",
    "c = b-a\n",
    "print(a,b,c)\n",
    "np.linalg.norm(c,axis=1)**2"
   ]
  },
  {
   "cell_type": "code",
   "execution_count": 27,
   "metadata": {},
   "outputs": [],
   "source": [
    "#help(np.linalg.norm)"
   ]
  },
  {
   "cell_type": "code",
   "execution_count": null,
   "metadata": {},
   "outputs": [],
   "source": []
  }
 ],
 "metadata": {
  "kernelspec": {
   "display_name": "Python 3",
   "language": "python",
   "name": "python3"
  },
  "language_info": {
   "codemirror_mode": {
    "name": "ipython",
    "version": 3
   },
   "file_extension": ".py",
   "mimetype": "text/x-python",
   "name": "python",
   "nbconvert_exporter": "python",
   "pygments_lexer": "ipython3",
   "version": "3.7.3"
  }
 },
 "nbformat": 4,
 "nbformat_minor": 4
}
